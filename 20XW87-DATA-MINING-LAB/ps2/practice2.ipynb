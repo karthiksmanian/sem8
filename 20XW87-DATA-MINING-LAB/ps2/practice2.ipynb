{
 "cells": [
  {
   "cell_type": "code",
   "execution_count": 49,
   "id": "81adb041",
   "metadata": {},
   "outputs": [
    {
     "name": "stderr",
     "output_type": "stream",
     "text": [
      "Matplotlib is building the font cache; this may take a moment.\n"
     ]
    }
   ],
   "source": [
    "import pandas as pd\n",
    "import matplotlib.pyplot as plt"
   ]
  },
  {
   "cell_type": "code",
   "execution_count": 27,
   "id": "7283cb8d",
   "metadata": {},
   "outputs": [
    {
     "name": "stderr",
     "output_type": "stream",
     "text": [
      "C:\\Users\\TEMP\\AppData\\Local\\Temp\\ipykernel_2148\\2962695179.py:1: DtypeWarning: Columns (13) have mixed types. Specify dtype option on import or set low_memory=False.\n",
      "  df = pd.read_csv(\"Z:/20XW87-DATA-MINING-LAB/ps2/train.csv\")\n"
     ]
    }
   ],
   "source": [
    "df = pd.read_csv(\"Z:/20XW87-DATA-MINING-LAB/ps2/train.csv\")"
   ]
  },
  {
   "cell_type": "code",
   "execution_count": 10,
   "id": "db622d46",
   "metadata": {},
   "outputs": [],
   "source": []
  },
  {
   "cell_type": "code",
   "execution_count": 28,
   "id": "fd717e70",
   "metadata": {},
   "outputs": [],
   "source": [
    "columns = df.columns.tolist()\n",
    "req_cols = columns[:-3]"
   ]
  },
  {
   "cell_type": "raw",
   "id": "8687c0a4",
   "metadata": {},
   "source": [
    "df = df[req_cols]"
   ]
  },
  {
   "cell_type": "code",
   "execution_count": 29,
   "id": "4c575c7e",
   "metadata": {},
   "outputs": [
    {
     "data": {
      "text/plain": [
       "381109"
      ]
     },
     "execution_count": 29,
     "metadata": {},
     "output_type": "execute_result"
    }
   ],
   "source": [
    "len(df['Age'])"
   ]
  },
  {
   "cell_type": "code",
   "execution_count": 31,
   "id": "8e97d23e",
   "metadata": {},
   "outputs": [
    {
     "data": {
      "text/html": [
       "<div>\n",
       "<style scoped>\n",
       "    .dataframe tbody tr th:only-of-type {\n",
       "        vertical-align: middle;\n",
       "    }\n",
       "\n",
       "    .dataframe tbody tr th {\n",
       "        vertical-align: top;\n",
       "    }\n",
       "\n",
       "    .dataframe thead th {\n",
       "        text-align: right;\n",
       "    }\n",
       "</style>\n",
       "<table border=\"1\" class=\"dataframe\">\n",
       "  <thead>\n",
       "    <tr style=\"text-align: right;\">\n",
       "      <th></th>\n",
       "      <th>id</th>\n",
       "      <th>Gender</th>\n",
       "      <th>Age</th>\n",
       "      <th>Driving_License</th>\n",
       "      <th>Region_Code</th>\n",
       "      <th>Previously_Insured</th>\n",
       "      <th>Vehicle_Age</th>\n",
       "      <th>Vehicle_Damage</th>\n",
       "      <th>Annual_Premium</th>\n",
       "      <th>Policy_Sales_Channel</th>\n",
       "      <th>Vintage</th>\n",
       "      <th>Response</th>\n",
       "      <th>Unnamed: 12</th>\n",
       "      <th>Unnamed: 13</th>\n",
       "      <th>Unnamed: 14</th>\n",
       "    </tr>\n",
       "  </thead>\n",
       "  <tbody>\n",
       "    <tr>\n",
       "      <th>0</th>\n",
       "      <td>1</td>\n",
       "      <td>Male</td>\n",
       "      <td>44</td>\n",
       "      <td>1</td>\n",
       "      <td>28</td>\n",
       "      <td>0</td>\n",
       "      <td>&gt; 2 Years</td>\n",
       "      <td>Yes</td>\n",
       "      <td>40454</td>\n",
       "      <td>26</td>\n",
       "      <td>217</td>\n",
       "      <td>1</td>\n",
       "      <td>NaN</td>\n",
       "      <td>NaN</td>\n",
       "      <td>NaN</td>\n",
       "    </tr>\n",
       "    <tr>\n",
       "      <th>1</th>\n",
       "      <td>2</td>\n",
       "      <td>Male</td>\n",
       "      <td>76</td>\n",
       "      <td>1</td>\n",
       "      <td>3</td>\n",
       "      <td>0</td>\n",
       "      <td>1-2 Year</td>\n",
       "      <td>No</td>\n",
       "      <td>33536</td>\n",
       "      <td>26</td>\n",
       "      <td>183</td>\n",
       "      <td>0</td>\n",
       "      <td>NaN</td>\n",
       "      <td>Average</td>\n",
       "      <td>38.822584</td>\n",
       "    </tr>\n",
       "    <tr>\n",
       "      <th>2</th>\n",
       "      <td>3</td>\n",
       "      <td>Male</td>\n",
       "      <td>47</td>\n",
       "      <td>1</td>\n",
       "      <td>28</td>\n",
       "      <td>0</td>\n",
       "      <td>&gt; 2 Years</td>\n",
       "      <td>Yes</td>\n",
       "      <td>38294</td>\n",
       "      <td>26</td>\n",
       "      <td>27</td>\n",
       "      <td>1</td>\n",
       "      <td>NaN</td>\n",
       "      <td>Average Premium</td>\n",
       "      <td>30564.389580</td>\n",
       "    </tr>\n",
       "    <tr>\n",
       "      <th>3</th>\n",
       "      <td>4</td>\n",
       "      <td>Male</td>\n",
       "      <td>21</td>\n",
       "      <td>1</td>\n",
       "      <td>11</td>\n",
       "      <td>1</td>\n",
       "      <td>&lt; 1 Year</td>\n",
       "      <td>No</td>\n",
       "      <td>28619</td>\n",
       "      <td>152</td>\n",
       "      <td>203</td>\n",
       "      <td>0</td>\n",
       "      <td>NaN</td>\n",
       "      <td>Count Male</td>\n",
       "      <td>206089.000000</td>\n",
       "    </tr>\n",
       "    <tr>\n",
       "      <th>4</th>\n",
       "      <td>5</td>\n",
       "      <td>Female</td>\n",
       "      <td>29</td>\n",
       "      <td>1</td>\n",
       "      <td>41</td>\n",
       "      <td>1</td>\n",
       "      <td>&lt; 1 Year</td>\n",
       "      <td>No</td>\n",
       "      <td>27496</td>\n",
       "      <td>152</td>\n",
       "      <td>39</td>\n",
       "      <td>0</td>\n",
       "      <td>NaN</td>\n",
       "      <td>Count Female</td>\n",
       "      <td>175020.000000</td>\n",
       "    </tr>\n",
       "  </tbody>\n",
       "</table>\n",
       "</div>"
      ],
      "text/plain": [
       "   id  Gender  Age  Driving_License  Region_Code  Previously_Insured  \\\n",
       "0   1    Male   44                1           28                   0   \n",
       "1   2    Male   76                1            3                   0   \n",
       "2   3    Male   47                1           28                   0   \n",
       "3   4    Male   21                1           11                   1   \n",
       "4   5  Female   29                1           41                   1   \n",
       "\n",
       "  Vehicle_Age Vehicle_Damage  Annual_Premium  Policy_Sales_Channel  Vintage  \\\n",
       "0   > 2 Years            Yes           40454                    26      217   \n",
       "1    1-2 Year             No           33536                    26      183   \n",
       "2   > 2 Years            Yes           38294                    26       27   \n",
       "3    < 1 Year             No           28619                   152      203   \n",
       "4    < 1 Year             No           27496                   152       39   \n",
       "\n",
       "   Response  Unnamed: 12      Unnamed: 13    Unnamed: 14  \n",
       "0         1          NaN              NaN            NaN  \n",
       "1         0          NaN         Average       38.822584  \n",
       "2         1          NaN  Average Premium   30564.389580  \n",
       "3         0          NaN       Count Male  206089.000000  \n",
       "4         0          NaN     Count Female  175020.000000  "
      ]
     },
     "execution_count": 31,
     "metadata": {},
     "output_type": "execute_result"
    }
   ],
   "source": [
    "df.head()"
   ]
  },
  {
   "cell_type": "code",
   "execution_count": 30,
   "id": "3bb5bc0a",
   "metadata": {},
   "outputs": [
    {
     "data": {
      "text/plain": [
       "38.822583565331705"
      ]
     },
     "execution_count": 30,
     "metadata": {},
     "output_type": "execute_result"
    }
   ],
   "source": [
    "# 1\n",
    "df['Age'].mean()"
   ]
  },
  {
   "cell_type": "code",
   "execution_count": 33,
   "id": "1ba69f8b",
   "metadata": {},
   "outputs": [
    {
     "data": {
      "text/plain": [
       "30564.389581458323"
      ]
     },
     "execution_count": 33,
     "metadata": {},
     "output_type": "execute_result"
    }
   ],
   "source": [
    "# 2\n",
    "df['Annual_Premium'].mean()"
   ]
  },
  {
   "cell_type": "code",
   "execution_count": 34,
   "id": "4085f18a",
   "metadata": {},
   "outputs": [
    {
     "data": {
      "text/plain": [
       "Gender\n",
       "Male      206089\n",
       "Female    175020\n",
       "Name: count, dtype: int64"
      ]
     },
     "execution_count": 34,
     "metadata": {},
     "output_type": "execute_result"
    }
   ],
   "source": [
    "# 3\n",
    "df['Gender'].value_counts()"
   ]
  },
  {
   "cell_type": "code",
   "execution_count": 37,
   "id": "9e7d49a8",
   "metadata": {},
   "outputs": [
    {
     "name": "stdout",
     "output_type": "stream",
     "text": [
      "40.90309526466721 36.372745971888925\n"
     ]
    }
   ],
   "source": [
    "# 4\n",
    "male_age, male_count = 0, 0\n",
    "female_age, female_count = 0, 0\n",
    "\n",
    "for i in df.index:\n",
    "    if df['Gender'][i]==\"Male\":\n",
    "        male_count += 1\n",
    "        male_age += df['Age'][i]\n",
    "    if df['Gender'][i]==\"Female\":\n",
    "        female_count += 1\n",
    "        female_age += df['Age'][i]\n",
    "        \n",
    "print(male_age/male_count, female_age/female_count)"
   ]
  },
  {
   "cell_type": "code",
   "execution_count": 45,
   "id": "dc19e918",
   "metadata": {},
   "outputs": [
    {
     "name": "stdout",
     "output_type": "stream",
     "text": [
      "30644.289197608632 30496.81576028787\n"
     ]
    }
   ],
   "source": [
    "# 5\n",
    "vi,vi_prem_sum = 0, 0\n",
    "nvi, nvi_prem_sum = 0, 0\n",
    "\n",
    "for i in df.index:\n",
    "    if df['Previously_Insured'][i]==1:\n",
    "        vi += 1\n",
    "        vi_prem_sum += df['Annual_Premium'][i]\n",
    "    if df['Previously_Insured'][i]==0:\n",
    "        nvi += 1\n",
    "        nvi_prem_sum += df['Annual_Premium'][i]\n",
    "        \n",
    "print(vi_prem_sum/vi, nvi_prem_sum/nvi)"
   ]
  },
  {
   "cell_type": "code",
   "execution_count": 42,
   "id": "970b22b2",
   "metadata": {},
   "outputs": [
    {
     "name": "stdout",
     "output_type": "stream",
     "text": [
      "30554.919365653688 34999.72783251232\n"
     ]
    }
   ],
   "source": [
    "# 6\n",
    "dl,dl_prem_sum = 0, 0\n",
    "ndl, ndl_prem_sum = 0, 0\n",
    "\n",
    "for i in df.index:\n",
    "    if df['Driving_License'][i]==1:\n",
    "        dl += 1\n",
    "        dl_prem_sum += df['Annual_Premium'][i]\n",
    "    if df['Driving_License'][i]==0:\n",
    "        ndl += 1\n",
    "        ndl_prem_sum += df['Annual_Premium'][i]\n",
    "        \n",
    "print(dl_prem_sum/dl, ndl_prem_sum/ndl)"
   ]
  },
  {
   "cell_type": "code",
   "execution_count": 48,
   "id": "bc696101",
   "metadata": {},
   "outputs": [
    {
     "name": "stdout",
     "output_type": "stream",
     "text": [
      "250285266.5964264 335191362.8661649\n"
     ]
    }
   ],
   "source": [
    "# 7\n",
    "mean_vprem = vi_prem_sum/vi\n",
    "mean_nvprem = nvi_prem_sum/nvi\n",
    "num_mean_v = 0\n",
    "num_mean_nv = 0\n",
    "\n",
    "for i in df.index:\n",
    "    if df['Previously_Insured'][i]==1:\n",
    "        num_mean_v += (df['Annual_Premium'][i]-mean_vprem)**2\n",
    "    if df['Previously_Insured'][i]==0:\n",
    "        num_mean_nv += (df['Annual_Premium'][i]-mean_nvprem)**2\n",
    "        \n",
    "var_v = num_mean_v/vi\n",
    "var_nv = num_mean_nv/nvi\n",
    "print(var_v, var_nv)"
   ]
  },
  {
   "cell_type": "code",
   "execution_count": 76,
   "id": "6d5b1496",
   "metadata": {},
   "outputs": [
    {
     "data": {
      "image/png": "[encoded data removed]",
      "text/plain": [
       "<Figure size 640x480 with 1 Axes>"
      ]
     },
     "metadata": {},
     "output_type": "display_data"
    }
   ],
   "source": [
    "# df.loc[df['Gender']==\"Male\",'Age'].value_counts()\n",
    "l = df['Age'].value_counts(normalize=True).reset_index()\n",
    "plt.plot(l['proportion'],l['Age'])\n",
    "plt.show()\n",
    "# tc = df['Age'].count()\n",
    "# print(l)"
   ]
  },
  {
   "cell_type": "code",
   "execution_count": null,
   "id": "06991e00",
   "metadata": {},
   "outputs": [],
   "source": []
  },
  {
   "cell_type": "code",
   "execution_count": null,
   "id": "601fa82c",
   "metadata": {},
   "outputs": [],
   "source": []
  }
 ],
 "metadata": {
  "kernelspec": {
   "display_name": "Python 3 (ipykernel)",
   "language": "python",
   "name": "python3"
  },
  "language_info": {
   "codemirror_mode": {
    "name": "ipython",
    "version": 3
   },
   "file_extension": ".py",
   "mimetype": "text/x-python",
   "name": "python",
   "nbconvert_exporter": "python",
   "pygments_lexer": "ipython3",
   "version": "3.11.5"
  }
 },
 "nbformat": 4,
 "nbformat_minor": 5
}
