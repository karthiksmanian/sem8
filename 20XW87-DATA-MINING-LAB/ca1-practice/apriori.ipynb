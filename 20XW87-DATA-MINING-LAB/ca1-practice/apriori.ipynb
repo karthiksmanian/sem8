{
 "cells": [
  {
   "cell_type": "code",
   "execution_count": null,
   "id": "015b68cc",
   "metadata": {},
   "outputs": [],
   "source": [
    "import pandas as pd\n",
    "import itertools"
   ]
  },
  {
   "cell_type": "code",
   "execution_count": null,
   "id": "9c3fb418",
   "metadata": {},
   "outputs": [],
   "source": [
    "df = pd.read_csv(\"C:/D drive/PSG/sem8/20XW87-DATA-MINING-LAB/ca1-practice/KaggleCovidDataset-Copy1.csv\").applymap(lambda x:1 if x==\"Yes\" else 0)"
   ]
  },
  {
   "cell_type": "code",
   "execution_count": null,
   "id": "38392f8f",
   "metadata": {},
   "outputs": [],
   "source": [
    "df"
   ]
  },
  {
   "cell_type": "code",
   "execution_count": null,
   "id": "6d527dcb",
   "metadata": {},
   "outputs": [],
   "source": [
    "def apriori_algorithm(df, min_support=0.1):\n",
    "    \n",
    "    df_copy = df.copy(deep=True)\n",
    "    \n",
    "    f_one_itemsets = {}\n",
    "    \n",
    "    for col in df.columns:\n",
    "        item_count = df[col].sum()/df.shape[0]\n",
    "        if item_count>min_support:\n",
    "            f_one_itemsets[frozenset((col,))] = item_count\n",
    "            \n",
    "    def generate_k_frequent_itemsets(frequent_itemset, k):\n",
    "        frequent_k_itemsets = set()\n",
    "        \n",
    "        for i1, i2 in itertools.combinations(frequent_itemset, 2):\n",
    "            union_set = i1.union(i2)\n",
    "            \n",
    "            if len(union_set)==k:\n",
    "                subsets = [frozenset(c) for c in itertools.combinations(union_set, k-1)]\n",
    "                \n",
    "                if all([subset in frequent_itemset for subset in subsets]):\n",
    "                    frequent_k_itemsets.add(union_set)\n",
    "                \n",
    "        frequent_k_itemsets_support = {}\n",
    "        \n",
    "        for k_itemset in frequent_k_itemsets:\n",
    "            support = df_copy[list(k_itemset)].all(axis=1).mean()\n",
    "            \n",
    "            if support>=min_support:\n",
    "                frequent_k_itemsets_support[k_itemset] = support\n",
    "                \n",
    "        return frequent_k_itemsets_support\n",
    "\n",
    "    all_frequent_itemsets = {**f_one_itemsets}\n",
    "    frequent_k_itemsets = f_one_itemsets\n",
    "    k = 2\n",
    "    print(frequent_k_itemsets)\n",
    "    while len(frequent_k_itemsets)>0:\n",
    "        frequent_k_itemsets = generate_k_frequent_itemsets(set(frequent_k_itemsets.keys()), k)\n",
    "        print(frequent_k_itemsets)\n",
    "        all_frequent_itemsets.update(frequent_k_itemsets)\n",
    "        k += 1\n",
    "    \n",
    "    return pd.DataFrame([(support, itemset) for itemset, support in all_frequent_itemsets.items()], columns=['support', 'itemset'])"
   ]
  },
  {
   "cell_type": "code",
   "execution_count": null,
   "id": "87314cef",
   "metadata": {},
   "outputs": [],
   "source": [
    "def association_rules(df, min_cf=0.5):\n",
    "    \n",
    "    frequent_itemsets_map = {frozenset(itemset): support for support, itemset in zip(df['support'], df['itemset'])}\n",
    "    associations = []\n",
    "    for itemset in frequent_itemsets_map:\n",
    "        \n",
    "        if len(itemset)>1:\n",
    "            for i in range(1, len(itemset)):\n",
    "                antecendants_itemset = list(itertools.combinations(itemset, i))\n",
    "                \n",
    "                for antecedant in antecendants_itemset:\n",
    "                    antecedant = frozenset(antecedant)\n",
    "                    consequent = antecedant.difference(itemset)\n",
    "                    \n",
    "                    conf = frequent_itemsets_map[itemset]/frequent_itemsets_map[antecedant]\n",
    "                    \n",
    "                    if conf>=min_cf:\n",
    "                        associations.append((antecedant, consequent, conf))\n",
    "                        \n",
    "                        \n",
    "    return pd.DataFrame(associations, columns=['antecedants', 'consequents', 'confidence'])\n"
   ]
  },
  {
   "cell_type": "code",
   "execution_count": null,
   "id": "cd51a8ee",
   "metadata": {},
   "outputs": [],
   "source": [
    "fdf = apriori_algorithm(df)"
   ]
  },
  {
   "cell_type": "code",
   "execution_count": null,
   "id": "d8cb029d",
   "metadata": {},
   "outputs": [],
   "source": [
    "association_rules(fdf, 0.6)"
   ]
  },
  {
   "cell_type": "code",
   "execution_count": null,
   "id": "6f1e486f",
   "metadata": {},
   "outputs": [],
   "source": [
    "apriori_algorithm(df)"
   ]
  },
  {
   "cell_type": "code",
   "execution_count": null,
   "id": "3865328e",
   "metadata": {},
   "outputs": [],
   "source": []
  }
 ],
 "metadata": {
  "kernelspec": {
   "display_name": "Python 3 (ipykernel)",
   "language": "python",
   "name": "python3"
  },
  "language_info": {
   "codemirror_mode": {
    "name": "ipython",
    "version": 3
   },
   "file_extension": ".py",
   "mimetype": "text/x-python",
   "name": "python",
   "nbconvert_exporter": "python",
   "pygments_lexer": "ipython3",
   "version": "3.10.1"
  }
 },
 "nbformat": 4,
 "nbformat_minor": 5
}
