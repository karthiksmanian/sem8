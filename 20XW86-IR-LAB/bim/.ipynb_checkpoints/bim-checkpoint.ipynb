{
 "cells": [
  {
   "cell_type": "code",
   "execution_count": 470,
   "metadata": {},
   "outputs": [],
   "source": [
    "docs = []\n",
    "query = \"\""
   ]
  },
  {
   "cell_type": "code",
   "execution_count": 471,
   "metadata": {},
   "outputs": [],
   "source": [
    "import string\n",
    "import math\n",
    "import numpy as np\n",
    "import copy"
   ]
  },
  {
   "cell_type": "code",
   "execution_count": 472,
   "metadata": {},
   "outputs": [],
   "source": [
    "for i in range(1, 7):\n",
    "    f = open(f\"C:/D drive/PSG/sem8/20XW86-IR-LAB/bim/testdocs\\d{i}.txt\", 'r')\n",
    "    docs.append(f.read())"
   ]
  },
  {
   "cell_type": "code",
   "execution_count": 473,
   "metadata": {},
   "outputs": [
    {
     "data": {
      "text/plain": [
       "['information requirement: query considers the user feedback as information\\nrequirement to search.',\n",
       " 'information retrieval: query depends on the model of information retrieval\\nused.',\n",
       " 'prediction problem: Many problems in information retrieval can be viewed as\\nprediction problems',\n",
       " 'search: A search engine is one of applications of information retrieval models.',\n",
       " 'Feedback: feedback is typically used by the system to modify the query and\\n\\nimprove prediction',\n",
       " 'information retrieval: ranking in information retrieval algorithms depends on\\n\\nuser query']"
      ]
     },
     "execution_count": 473,
     "metadata": {},
     "output_type": "execute_result"
    }
   ],
   "source": [
    "docs"
   ]
  },
  {
   "cell_type": "code",
   "execution_count": 474,
   "metadata": {},
   "outputs": [],
   "source": [
    "def transform_text(text):\n",
    "    text = text.split()\n",
    "    y = []\n",
    "    for word in text:\n",
    "        char_list = []\n",
    "        for c in word:\n",
    "            if c not in string.punctuation:\n",
    "                char_list.append(c)\n",
    "        \n",
    "        lcase_word  = ''.join(char_list).lower()\n",
    "\n",
    "        if lcase_word.isalnum():\n",
    "            y.append(lcase_word)\n",
    "\n",
    "    return ' '.join(y)    "
   ]
  },
  {
   "cell_type": "code",
   "execution_count": 475,
   "metadata": {},
   "outputs": [],
   "source": [
    "processed_docs = []"
   ]
  },
  {
   "cell_type": "code",
   "execution_count": 476,
   "metadata": {},
   "outputs": [],
   "source": [
    "for doc in docs:\n",
    "    processed_docs.append(transform_text(doc))"
   ]
  },
  {
   "cell_type": "code",
   "execution_count": 477,
   "metadata": {},
   "outputs": [
    {
     "data": {
      "text/plain": [
       "['information requirement query considers the user feedback as information requirement to search',\n",
       " 'information retrieval query depends on the model of information retrieval used',\n",
       " 'prediction problem many problems in information retrieval can be viewed as prediction problems',\n",
       " 'search a search engine is one of applications of information retrieval models',\n",
       " 'feedback feedback is typically used by the system to modify the query and improve prediction',\n",
       " 'information retrieval ranking in information retrieval algorithms depends on user query']"
      ]
     },
     "execution_count": 477,
     "metadata": {},
     "output_type": "execute_result"
    }
   ],
   "source": [
    "processed_docs"
   ]
  },
  {
   "cell_type": "code",
   "execution_count": 478,
   "metadata": {},
   "outputs": [],
   "source": [
    "TD_matrix = []\n",
    "\n",
    "corpus_sets = []\n",
    "master_set = set()\n",
    "for doc in processed_docs:\n",
    "    hs = set()\n",
    "    for word in doc.split():\n",
    "        hs.add(word)\n",
    "        \n",
    "        if word not in master_set:\n",
    "            master_set.add(word)\n",
    "    corpus_sets.append(hs)\n",
    "\n",
    "master_set = sorted(list(master_set))"
   ]
  },
  {
   "cell_type": "code",
   "execution_count": 479,
   "metadata": {},
   "outputs": [
    {
     "data": {
      "text/plain": [
       "['a',\n",
       " 'algorithms',\n",
       " 'and',\n",
       " 'applications',\n",
       " 'as',\n",
       " 'be',\n",
       " 'by',\n",
       " 'can',\n",
       " 'considers',\n",
       " 'depends',\n",
       " 'engine',\n",
       " 'feedback',\n",
       " 'improve',\n",
       " 'in',\n",
       " 'information',\n",
       " 'is']"
      ]
     },
     "execution_count": 479,
     "metadata": {},
     "output_type": "execute_result"
    }
   ],
   "source": [
    "master_set[:16]"
   ]
  },
  {
   "cell_type": "code",
   "execution_count": 480,
   "metadata": {},
   "outputs": [],
   "source": [
    "for i in range(6):\n",
    "    vector = [0]*len(master_set)\n",
    "\n",
    "    for idx,word in enumerate(master_set):\n",
    "        if word in corpus_sets[i]:\n",
    "            vector[idx] = 1\n",
    "\n",
    "    TD_matrix.append(vector)"
   ]
  },
  {
   "cell_type": "code",
   "execution_count": 481,
   "metadata": {},
   "outputs": [
    {
     "name": "stdout",
     "output_type": "stream",
     "text": [
      "[[0, 0, 0, 0, 1, 0, 0, 0, 1, 0, 0, 1, 0, 0, 1, 0, 0, 0, 0, 0, 0, 0, 0, 0, 0, 0, 1, 0, 1, 0, 1, 0, 1, 1, 0, 0, 1, 0], [0, 0, 0, 0, 0, 0, 0, 0, 0, 1, 0, 0, 0, 0, 1, 0, 0, 1, 0, 0, 1, 1, 0, 0, 0, 0, 1, 0, 0, 1, 0, 0, 1, 0, 0, 1, 0, 0], [0, 0, 0, 0, 1, 1, 0, 1, 0, 0, 0, 0, 0, 1, 1, 0, 1, 0, 0, 0, 0, 0, 0, 1, 1, 1, 0, 0, 0, 1, 0, 0, 0, 0, 0, 0, 0, 1], [1, 0, 0, 1, 0, 0, 0, 0, 0, 0, 1, 0, 0, 0, 1, 1, 0, 0, 1, 0, 1, 0, 1, 0, 0, 0, 0, 0, 0, 1, 1, 0, 0, 0, 0, 0, 0, 0], [0, 0, 1, 0, 0, 0, 1, 0, 0, 0, 0, 1, 1, 0, 0, 1, 0, 0, 0, 1, 0, 0, 0, 1, 0, 0, 1, 0, 0, 0, 0, 1, 1, 1, 1, 1, 0, 0], [0, 1, 0, 0, 0, 0, 0, 0, 0, 1, 0, 0, 0, 1, 1, 0, 0, 0, 0, 0, 0, 1, 0, 0, 0, 0, 1, 1, 0, 1, 0, 0, 0, 0, 0, 0, 1, 0]]\n",
      "[{'the', 'query', 'as', 'to', 'information', 'search', 'considers', 'user', 'requirement', 'feedback'}, {'query', 'the', 'of', 'used', 'retrieval', 'model', 'depends', 'information', 'on'}, {'can', 'retrieval', 'viewed', 'be', 'problem', 'prediction', 'problems', 'in', 'information', 'as', 'many'}, {'is', 'of', 'applications', 'retrieval', 'a', 'search', 'information', 'models', 'one', 'engine'}, {'is', 'the', 'query', 'and', 'system', 'used', 'to', 'modify', 'improve', 'prediction', 'by', 'typically', 'feedback'}, {'ranking', 'query', 'retrieval', 'algorithms', 'depends', 'information', 'in', 'user', 'on'}]\n"
     ]
    }
   ],
   "source": [
    "print(TD_matrix[:10])\n",
    "print(corpus_sets)"
   ]
  },
  {
   "cell_type": "code",
   "execution_count": 482,
   "metadata": {},
   "outputs": [],
   "source": [
    "def formulate_vector(query):\n",
    "    q_hs = set()\n",
    "    \n",
    "    for word in query.split():\n",
    "        q_hs.add(word)\n",
    "\n",
    "    vector = [0]*len(master_set)\n",
    "\n",
    "    for idx,word in enumerate(master_set):\n",
    "        if word in q_hs:\n",
    "            vector[idx] = 1\n",
    "    \n",
    "    return vector"
   ]
  },
  {
   "cell_type": "code",
   "execution_count": 483,
   "metadata": {},
   "outputs": [],
   "source": [
    "def DF(word, corpus_sets):\n",
    "    count = 0\n",
    "\n",
    "    for hs in corpus_sets:\n",
    "        if word in hs:\n",
    "            count += 1\n",
    "    \n",
    "    return count\n",
    "\n",
    "def TRk(Pk, Qk):\n",
    "    return math.log(Pk*(1-Qk)/Qk*(1-Pk))\n",
    "\n",
    "def RK(word, corpus_sets, rdoc_ids):\n",
    "    count = 0\n",
    "    rset_ids = set(rdoc_ids)\n",
    "\n",
    "    for i in range(len(corpus_sets)):\n",
    "        if i in rset_ids and word in corpus_sets[i]:\n",
    "                count += 1\n",
    "\n",
    "    return count  "
   ]
  },
  {
   "cell_type": "code",
   "execution_count": 484,
   "metadata": {},
   "outputs": [],
   "source": [
    "def phase1(query, TRk_phase1, corpus_sets, query_vector, TD_matrixc, master_set):\n",
    "    print(\"Phase 1 begins\")\n",
    "    for word in master_set:\n",
    "        Pk = 0.5\n",
    "        Qk = (DF(word, corpus_sets)+0.5)/(len(corpus_sets)+1)\n",
    "        print(Pk, Qk)\n",
    "        trk = TRk(Pk, Qk)\n",
    "\n",
    "        TRk_phase1[word] = trk\n",
    "        \n",
    "    print(\"TRk phase 1\", TRk_phase1)\n",
    "\n",
    "    for dv in TD_matrixc:\n",
    "        for i,word in enumerate(master_set):\n",
    "            if dv[i]==1:\n",
    "                dv[i] *= TRk_phase1[word]\n",
    "    \n",
    "    # query vector change to TRk value\n",
    "    for i,word in enumerate(master_set):\n",
    "        if query_vector[i]==1:\n",
    "            query_vector[i] *= TRk_phase1[word]\n",
    "    \n",
    "    dot_prod = []\n",
    "\n",
    "    for i,dv in enumerate(TD_matrix):\n",
    "        dot_prod.append([i, np.dot(np.array(dv), np.array(query_vector))])    \n",
    "\n",
    "    dot_prod.sort(key= lambda x:x[1], reverse=True)\n",
    "    print(\"Phase1: \", [[x+1,y] for x,y in dot_prod])\n",
    "    return [x for x,y in dot_prod[:3]]"
   ]
  },
  {
   "cell_type": "code",
   "execution_count": 485,
   "metadata": {},
   "outputs": [],
   "source": [
    "def phase2(query, TRk_phase2, corpus_sets, query_vector, TD_matrixc, master_set, rdoc_ids):\n",
    "    print(\"Phase 2 begins ..\")\n",
    "    Nr = len(rdoc_ids)\n",
    "\n",
    "    for word in master_set:\n",
    "        Rk = RK(word, corpus_sets, rdoc_ids)\n",
    "        Pk = (Rk+0.5)/(Nr+1)\n",
    "        Qk = (DF(word, corpus_sets)-Rk+0.5)/(len(corpus_sets)-Nr+1)\n",
    "        print(Pk, Qk)\n",
    "        trk = TRk(Pk, Qk)\n",
    "\n",
    "        TRk_phase2[word] = trk\n",
    "    print(\"TRk phase 2\", TRk_phase2)\n",
    "    for dv in TD_matrixc:\n",
    "        for i,word in enumerate(master_set):\n",
    "            if dv[i]==1:\n",
    "                dv[i] *= TRk_phase2[word]\n",
    "\n",
    "    for i,word in enumerate(master_set):\n",
    "        if query_vector[i]==1:\n",
    "            query_vector[i] *= TRk_phase2[word]\n",
    "    dot_prod = []\n",
    "\n",
    "    for i,dv in enumerate(TD_matrix):\n",
    "        dot_prod.append([i, np.dot(np.array(dv), np.array(query_vector))])    \n",
    "\n",
    "    dot_prod.sort(key= lambda x:x[1], reverse=True)\n",
    "    print(\"Phase 2:\", [[x+1,y] for x,y in dot_prod])\n",
    "    return [x+1 for x,y in dot_prod]"
   ]
  },
  {
   "cell_type": "code",
   "execution_count": 486,
   "metadata": {},
   "outputs": [],
   "source": [
    "def BIM(query, corpus_sets):\n",
    "    query = transform_text(query)\n",
    "    query_vector = formulate_vector(query)\n",
    "    rel1 = phase1(query, {}, corpus_sets, copy.deepcopy(query_vector), copy.deepcopy(TD_matrix), master_set)\n",
    "    rel2 = phase2(query, {}, corpus_sets, copy.deepcopy(query_vector), copy.deepcopy(TD_matrix), master_set, rel1)\n",
    "    return rel2"
   ]
  },
  {
   "cell_type": "code",
   "execution_count": 487,
   "metadata": {},
   "outputs": [
    {
     "name": "stdout",
     "output_type": "stream",
     "text": [
      "Phase 1 begins\n",
      "0.5 0.21428571428571427\n",
      "0.5 0.21428571428571427\n",
      "0.5 0.21428571428571427\n",
      "0.5 0.21428571428571427\n",
      "0.5 0.35714285714285715\n",
      "0.5 0.21428571428571427\n",
      "0.5 0.21428571428571427\n",
      "0.5 0.21428571428571427\n",
      "0.5 0.21428571428571427\n",
      "0.5 0.35714285714285715\n",
      "0.5 0.21428571428571427\n",
      "0.5 0.35714285714285715\n",
      "0.5 0.21428571428571427\n",
      "0.5 0.35714285714285715\n",
      "0.5 0.7857142857142857\n",
      "0.5 0.35714285714285715\n",
      "0.5 0.21428571428571427\n",
      "0.5 0.21428571428571427\n",
      "0.5 0.21428571428571427\n",
      "0.5 0.21428571428571427\n",
      "0.5 0.35714285714285715\n",
      "0.5 0.35714285714285715\n",
      "0.5 0.21428571428571427\n",
      "0.5 0.35714285714285715\n",
      "0.5 0.21428571428571427\n",
      "0.5 0.21428571428571427\n",
      "0.5 0.6428571428571429\n",
      "0.5 0.21428571428571427\n",
      "0.5 0.21428571428571427\n",
      "0.5 0.6428571428571429\n",
      "0.5 0.35714285714285715\n",
      "0.5 0.21428571428571427\n",
      "0.5 0.5\n",
      "0.5 0.35714285714285715\n",
      "0.5 0.21428571428571427\n",
      "0.5 0.35714285714285715\n",
      "0.5 0.35714285714285715\n",
      "0.5 0.21428571428571427\n",
      "TRk phase 1 {'a': -0.08701137698962969, 'algorithms': -0.08701137698962969, 'and': -0.08701137698962969, 'applications': -0.08701137698962969, 'as': -0.7985076962177717, 'be': -0.08701137698962969, 'by': -0.08701137698962969, 'can': -0.08701137698962969, 'considers': -0.08701137698962969, 'depends': -0.7985076962177717, 'engine': -0.08701137698962969, 'feedback': -0.7985076962177717, 'improve': -0.08701137698962969, 'in': -0.7985076962177717, 'information': -2.6855773452501515, 'is': -0.7985076962177717, 'many': -0.08701137698962969, 'model': -0.08701137698962969, 'models': -0.08701137698962969, 'modify': -0.08701137698962969, 'of': -0.7985076962177717, 'on': -0.7985076962177717, 'one': -0.08701137698962969, 'prediction': -0.7985076962177717, 'problem': -0.08701137698962969, 'problems': -0.08701137698962969, 'query': -1.9740810260220099, 'ranking': -0.08701137698962969, 'requirement': -0.08701137698962969, 'retrieval': -1.9740810260220099, 'search': -0.7985076962177717, 'system': -0.08701137698962969, 'the': -1.3862943611198906, 'to': -0.7985076962177717, 'typically': -0.08701137698962969, 'used': -0.7985076962177717, 'user': -0.7985076962177717, 'viewed': -0.08701137698962969}\n",
      "Phase1:  [[3, 0.0], [6, -0.08701137698962969], [1, -1.3862943611198906], [4, -1.5970153924355435], [2, -2.184802057337662], [5, -2.184802057337662]]\n",
      "Phase 2 begins ..\n",
      "0.125 0.375\n",
      "0.375 0.125\n",
      "0.125 0.375\n",
      "0.125 0.375\n",
      "0.625 0.125\n",
      "0.375 0.125\n",
      "0.125 0.375\n",
      "0.375 0.125\n",
      "0.375 0.125\n",
      "0.375 0.375\n",
      "0.125 0.375\n",
      "0.375 0.375\n",
      "0.125 0.375\n",
      "0.625 0.125\n",
      "0.875 0.625\n",
      "0.125 0.625\n",
      "0.375 0.125\n",
      "0.125 0.375\n",
      "0.125 0.375\n",
      "0.125 0.375\n",
      "0.125 0.625\n",
      "0.375 0.375\n",
      "0.125 0.375\n",
      "0.375 0.375\n",
      "0.375 0.125\n",
      "0.375 0.125\n",
      "0.625 0.625\n",
      "0.375 0.125\n",
      "0.375 0.125\n",
      "0.625 0.625\n",
      "0.375 0.375\n",
      "0.125 0.375\n",
      "0.375 0.625\n",
      "0.375 0.375\n",
      "0.125 0.375\n",
      "0.125 0.625\n",
      "0.625 0.125\n",
      "0.375 0.125\n",
      "TRk phase 2 {'a': -1.7021473105383678, 'algorithms': 0.4950772667978515, 'and': -1.7021473105383678, 'applications': -1.7021473105383678, 'as': 0.4950772667978515, 'be': 0.4950772667978515, 'by': -1.7021473105383678, 'can': 0.4950772667978515, 'considers': 0.4950772667978515, 'depends': -0.9400072584914712, 'engine': -1.7021473105383678, 'feedback': -0.9400072584914712, 'improve': -1.7021473105383678, 'in': 0.4950772667978515, 'information': -2.723798558070349, 'is': -2.723798558070349, 'many': 0.4950772667978515, 'model': -1.7021473105383678, 'models': -1.7021473105383678, 'modify': -1.7021473105383678, 'of': -2.723798558070349, 'on': -0.9400072584914712, 'one': -1.7021473105383678, 'prediction': -0.9400072584914712, 'problem': 0.4950772667978515, 'problems': 0.4950772667978515, 'query': -1.9616585060234524, 'ranking': 0.4950772667978515, 'requirement': 0.4950772667978515, 'retrieval': -1.9616585060234524, 'search': -0.9400072584914712, 'system': -1.7021473105383678, 'the': -1.9616585060234524, 'to': -0.9400072584914712, 'typically': -1.7021473105383678, 'used': -2.723798558070349, 'user': 0.4950772667978515, 'viewed': 0.4950772667978515}\n",
      "Phase 2: [[6, 0.4950772667978515], [3, 0.0], [1, -1.9616585060234524], [2, -4.685457064093802], [5, -4.685457064093802], [4, -5.447597116140698]]\n"
     ]
    },
    {
     "data": {
      "text/plain": [
       "[6, 3, 1, 2, 5, 4]"
      ]
     },
     "execution_count": 487,
     "metadata": {},
     "output_type": "execute_result"
    }
   ],
   "source": [
    "query = \"How is the ranking of documents done?\"\n",
    "BIM(query, corpus_sets)"
   ]
  }
 ],
 "metadata": {
  "kernelspec": {
   "display_name": "Python 3 (ipykernel)",
   "language": "python",
   "name": "python3"
  },
  "language_info": {
   "codemirror_mode": {
    "name": "ipython",
    "version": 3
   },
   "file_extension": ".py",
   "mimetype": "text/x-python",
   "name": "python",
   "nbconvert_exporter": "python",
   "pygments_lexer": "ipython3",
   "version": "3.10.1"
  }
 },
 "nbformat": 4,
 "nbformat_minor": 2
}
