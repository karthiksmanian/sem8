{
 "cells": [
  {
   "cell_type": "code",
   "execution_count": 73,
   "metadata": {},
   "outputs": [],
   "source": [
    "docs = []\n",
    "query = \"\""
   ]
  },
  {
   "cell_type": "code",
   "execution_count": 74,
   "metadata": {},
   "outputs": [],
   "source": [
    "import string\n",
    "import math\n",
    "import numpy as np\n",
    "import copy"
   ]
  },
  {
   "cell_type": "code",
   "execution_count": 75,
   "metadata": {},
   "outputs": [],
   "source": [
    "for i in range(1, 7):\n",
    "    f = open(f\"C:/D drive/PSG/sem8/20XW86-IR-LAB/bim/testdocs\\d{i}.txt\", 'r')\n",
    "    docs.append(f.read())"
   ]
  },
  {
   "cell_type": "code",
   "execution_count": 76,
   "metadata": {},
   "outputs": [
    {
     "data": {
      "text/plain": [
       "['information requirement: query considers the user feedback as information\\nrequirement to search.',\n",
       " 'information retrieval: query depends on the model of information retrieval\\nused.',\n",
       " 'prediction problem: Many problems in information retrieval can be viewed as\\nprediction problems',\n",
       " 'search: A search engine is one of applications of information retrieval models.',\n",
       " 'Feedback: feedback is typically used by the system to modify the query and\\n\\nimprove prediction',\n",
       " 'information retrieval: ranking in information retrieval algorithms depends on\\n\\nuser query']"
      ]
     },
     "execution_count": 76,
     "metadata": {},
     "output_type": "execute_result"
    }
   ],
   "source": [
    "docs"
   ]
  },
  {
   "cell_type": "code",
   "execution_count": 77,
   "metadata": {},
   "outputs": [],
   "source": [
    "def transform_text(text):\n",
    "    text = text.split()\n",
    "    y = []\n",
    "    for word in text:\n",
    "        char_list = []\n",
    "        for c in word:\n",
    "            if c not in string.punctuation:\n",
    "                char_list.append(c)\n",
    "        \n",
    "        lcase_word  = ''.join(char_list).lower()\n",
    "\n",
    "        if lcase_word.isalnum():\n",
    "            y.append(lcase_word)\n",
    "\n",
    "    return ' '.join(y)    "
   ]
  },
  {
   "cell_type": "code",
   "execution_count": 78,
   "metadata": {},
   "outputs": [],
   "source": [
    "processed_docs = []"
   ]
  },
  {
   "cell_type": "code",
   "execution_count": 79,
   "metadata": {},
   "outputs": [],
   "source": [
    "for doc in docs:\n",
    "    processed_docs.append(transform_text(doc))"
   ]
  },
  {
   "cell_type": "code",
   "execution_count": 80,
   "metadata": {},
   "outputs": [
    {
     "data": {
      "text/plain": [
       "['information requirement query considers the user feedback as information requirement to search',\n",
       " 'information retrieval query depends on the model of information retrieval used',\n",
       " 'prediction problem many problems in information retrieval can be viewed as prediction problems',\n",
       " 'search a search engine is one of applications of information retrieval models',\n",
       " 'feedback feedback is typically used by the system to modify the query and improve prediction',\n",
       " 'information retrieval ranking in information retrieval algorithms depends on user query']"
      ]
     },
     "execution_count": 80,
     "metadata": {},
     "output_type": "execute_result"
    }
   ],
   "source": [
    "processed_docs"
   ]
  },
  {
   "cell_type": "code",
   "execution_count": 81,
   "metadata": {},
   "outputs": [],
   "source": [
    "TD_matrix = []\n",
    "\n",
    "corpus_sets = []\n",
    "master_set = set()\n",
    "for doc in processed_docs:\n",
    "    hs = set()\n",
    "    for word in doc.split():\n",
    "        hs.add(word)\n",
    "        \n",
    "        if word not in master_set:\n",
    "            master_set.add(word)\n",
    "    corpus_sets.append(hs)\n",
    "\n",
    "master_set = sorted(list(master_set))"
   ]
  },
  {
   "cell_type": "code",
   "execution_count": 82,
   "metadata": {},
   "outputs": [
    {
     "data": {
      "text/plain": [
       "['a',\n",
       " 'algorithms',\n",
       " 'and',\n",
       " 'applications',\n",
       " 'as',\n",
       " 'be',\n",
       " 'by',\n",
       " 'can',\n",
       " 'considers',\n",
       " 'depends',\n",
       " 'engine',\n",
       " 'feedback',\n",
       " 'improve',\n",
       " 'in',\n",
       " 'information',\n",
       " 'is']"
      ]
     },
     "execution_count": 82,
     "metadata": {},
     "output_type": "execute_result"
    }
   ],
   "source": [
    "master_set[:16]"
   ]
  },
  {
   "cell_type": "code",
   "execution_count": 83,
   "metadata": {},
   "outputs": [],
   "source": [
    "for i in range(6):\n",
    "    vector = [0]*len(master_set)\n",
    "\n",
    "    for idx,word in enumerate(master_set):\n",
    "        if word in corpus_sets[i]:\n",
    "            vector[idx] = 1\n",
    "\n",
    "    TD_matrix.append(vector)"
   ]
  },
  {
   "cell_type": "code",
   "execution_count": 84,
   "metadata": {},
   "outputs": [
    {
     "name": "stdout",
     "output_type": "stream",
     "text": [
      "[[0, 0, 0, 0, 1, 0, 0, 0, 1, 0, 0, 1, 0, 0, 1, 0, 0, 0, 0, 0, 0, 0, 0, 0, 0, 0, 1, 0, 1, 0, 1, 0, 1, 1, 0, 0, 1, 0], [0, 0, 0, 0, 0, 0, 0, 0, 0, 1, 0, 0, 0, 0, 1, 0, 0, 1, 0, 0, 1, 1, 0, 0, 0, 0, 1, 0, 0, 1, 0, 0, 1, 0, 0, 1, 0, 0], [0, 0, 0, 0, 1, 1, 0, 1, 0, 0, 0, 0, 0, 1, 1, 0, 1, 0, 0, 0, 0, 0, 0, 1, 1, 1, 0, 0, 0, 1, 0, 0, 0, 0, 0, 0, 0, 1], [1, 0, 0, 1, 0, 0, 0, 0, 0, 0, 1, 0, 0, 0, 1, 1, 0, 0, 1, 0, 1, 0, 1, 0, 0, 0, 0, 0, 0, 1, 1, 0, 0, 0, 0, 0, 0, 0], [0, 0, 1, 0, 0, 0, 1, 0, 0, 0, 0, 1, 1, 0, 0, 1, 0, 0, 0, 1, 0, 0, 0, 1, 0, 0, 1, 0, 0, 0, 0, 1, 1, 1, 1, 1, 0, 0], [0, 1, 0, 0, 0, 0, 0, 0, 0, 1, 0, 0, 0, 1, 1, 0, 0, 0, 0, 0, 0, 1, 0, 0, 0, 0, 1, 1, 0, 1, 0, 0, 0, 0, 0, 0, 1, 0]]\n",
      "[{'requirement', 'as', 'feedback', 'user', 'information', 'considers', 'query', 'the', 'search', 'to'}, {'retrieval', 'of', 'depends', 'used', 'information', 'on', 'query', 'the', 'model'}, {'retrieval', 'problems', 'as', 'be', 'viewed', 'prediction', 'can', 'problem', 'information', 'many', 'in'}, {'models', 'of', 'one', 'retrieval', 'applications', 'a', 'information', 'is', 'search', 'engine'}, {'query', 'by', 'modify', 'feedback', 'and', 'improve', 'prediction', 'used', 'is', 'the', 'typically', 'system', 'to'}, {'algorithms', 'retrieval', 'ranking', 'user', 'depends', 'information', 'in', 'on', 'query'}]\n"
     ]
    }
   ],
   "source": [
    "print(TD_matrix[:10])\n",
    "print(corpus_sets)"
   ]
  },
  {
   "cell_type": "code",
   "execution_count": 85,
   "metadata": {},
   "outputs": [],
   "source": [
    "def formulate_vector(query):\n",
    "    q_hs = set()\n",
    "    \n",
    "    for word in query.split():\n",
    "        q_hs.add(word)\n",
    "\n",
    "    vector = [0]*len(master_set)\n",
    "\n",
    "    for idx,word in enumerate(master_set):\n",
    "        if word in q_hs:\n",
    "            vector[idx] = 1\n",
    "    \n",
    "    return vector"
   ]
  },
  {
   "cell_type": "code",
   "execution_count": 86,
   "metadata": {},
   "outputs": [],
   "source": [
    "def DF(word, corpus_sets):\n",
    "    count = 0\n",
    "\n",
    "    for hs in corpus_sets:\n",
    "        if word in hs:\n",
    "            count += 1\n",
    "    \n",
    "    return count\n",
    "\n",
    "def TRk(Pk, Qk):\n",
    "    return math.log10(Pk*(1-Qk)/Qk*(1-Pk))\n",
    "\n",
    "def RK(word, corpus_sets, rdoc_ids):\n",
    "    count = 0\n",
    "    rset_ids = set(rdoc_ids)\n",
    "\n",
    "    for i in range(len(corpus_sets)):\n",
    "        if i in rset_ids and word in corpus_sets[i]:\n",
    "                count += 1\n",
    "\n",
    "    return count  "
   ]
  },
  {
   "cell_type": "code",
   "execution_count": 87,
   "metadata": {},
   "outputs": [],
   "source": [
    "def phase1(query, TRk_phase1, corpus_sets, query_vector, TD_matrixc, master_set):\n",
    "    print(\"Phase 1 begins\")\n",
    "    for word in master_set:\n",
    "        Pk = 0.5\n",
    "        Qk = (DF(word, corpus_sets)+0.5)/(len(corpus_sets)+1)\n",
    "        print(Pk, Qk)\n",
    "        trk = TRk(Pk, Qk)\n",
    "\n",
    "        TRk_phase1[word] = trk\n",
    "        \n",
    "    print(\"TRk phase 1\", TRk_phase1)\n",
    "\n",
    "    for dv in TD_matrixc:\n",
    "        for i,word in enumerate(master_set):\n",
    "            if dv[i]==1:\n",
    "                dv[i] *= TRk_phase1[word]\n",
    "    \n",
    "    # query vector change to TRk value\n",
    "    for i,word in enumerate(master_set):\n",
    "        if query_vector[i]==1:\n",
    "            query_vector[i] *= TRk_phase1[word]\n",
    "    \n",
    "    dot_prod = []\n",
    "\n",
    "    for i,dv in enumerate(TD_matrixc):\n",
    "        dot_prod.append([i, np.dot(np.array(dv), np.array(query_vector))])    \n",
    "\n",
    "    dot_prod.sort(key= lambda x:x[1], reverse=True)\n",
    "    print(\"Phase1: \", [[x+1,y] for x,y in dot_prod])\n",
    "    return [x for x,y in dot_prod[:3]]"
   ]
  },
  {
   "cell_type": "code",
   "execution_count": 88,
   "metadata": {},
   "outputs": [],
   "source": [
    "def phase2(query, TRk_phase2, corpus_sets, query_vector, TD_matrixc, master_set, rdoc_ids):\n",
    "    print(\"Phase 2 begins ..\")\n",
    "    Nr = len(rdoc_ids)\n",
    "\n",
    "    for word in master_set:\n",
    "        Rk = RK(word, corpus_sets, rdoc_ids)\n",
    "        Pk = (Rk+0.5)/(Nr+1)\n",
    "        Qk = (DF(word, corpus_sets)-Rk+0.5)/(len(corpus_sets)-Nr+1)\n",
    "        print(Pk, Qk)\n",
    "        trk = TRk(Pk, Qk)\n",
    "\n",
    "        TRk_phase2[word] = trk\n",
    "    print(\"TRk phase 2\", TRk_phase2)\n",
    "    for dv in TD_matrixc:\n",
    "        for i,word in enumerate(master_set):\n",
    "            if dv[i]==1:\n",
    "                dv[i] *= TRk_phase2[word]\n",
    "    \n",
    "    for i,word in enumerate(master_set):\n",
    "        if query_vector[i]==1:\n",
    "            query_vector[i] *= TRk_phase2[word]\n",
    "    dot_prod = []\n",
    "\n",
    "    for i,dv in enumerate(TD_matrixc):\n",
    "        dot_prod.append([i, np.dot(np.array(dv), np.array(query_vector))])    \n",
    "\n",
    "    dot_prod.sort(key= lambda x:x[1], reverse=True)\n",
    "    print(\"Phase 2:\", [[x+1,y] for x,y in dot_prod])\n",
    "    return [x+1 for x,y in dot_prod]"
   ]
  },
  {
   "cell_type": "code",
   "execution_count": 89,
   "metadata": {},
   "outputs": [],
   "source": [
    "def BIM(query, corpus_sets):\n",
    "    query = transform_text(query)\n",
    "    query_vector = formulate_vector(query)\n",
    "    rel1 = phase1(query, {}, corpus_sets, copy.deepcopy(query_vector), copy.deepcopy(TD_matrix), master_set)\n",
    "    rel2 = phase2(query, {}, corpus_sets, copy.deepcopy(query_vector), copy.deepcopy(TD_matrix), master_set, rel1)\n",
    "    return rel2"
   ]
  },
  {
   "cell_type": "code",
   "execution_count": 90,
   "metadata": {},
   "outputs": [
    {
     "name": "stdout",
     "output_type": "stream",
     "text": [
      "Phase 1 begins\n",
      "0.5 0.21428571428571427\n",
      "0.5 0.21428571428571427\n",
      "0.5 0.21428571428571427\n",
      "0.5 0.21428571428571427\n",
      "0.5 0.35714285714285715\n",
      "0.5 0.21428571428571427\n",
      "0.5 0.21428571428571427\n",
      "0.5 0.21428571428571427\n",
      "0.5 0.21428571428571427\n",
      "0.5 0.35714285714285715\n",
      "0.5 0.21428571428571427\n",
      "0.5 0.35714285714285715\n",
      "0.5 0.21428571428571427\n",
      "0.5 0.35714285714285715\n",
      "0.5 0.7857142857142857\n",
      "0.5 0.35714285714285715\n",
      "0.5 0.21428571428571427\n",
      "0.5 0.21428571428571427\n",
      "0.5 0.21428571428571427\n",
      "0.5 0.21428571428571427\n",
      "0.5 0.35714285714285715\n",
      "0.5 0.35714285714285715\n",
      "0.5 0.21428571428571427\n",
      "0.5 0.35714285714285715\n",
      "0.5 0.21428571428571427\n",
      "0.5 0.21428571428571427\n",
      "0.5 0.6428571428571429\n",
      "0.5 0.21428571428571427\n",
      "0.5 0.21428571428571427\n",
      "0.5 0.6428571428571429\n",
      "0.5 0.35714285714285715\n",
      "0.5 0.21428571428571427\n",
      "0.5 0.5\n",
      "0.5 0.35714285714285715\n",
      "0.5 0.21428571428571427\n",
      "0.5 0.35714285714285715\n",
      "0.5 0.35714285714285715\n",
      "0.5 0.21428571428571427\n",
      "TRk phase 1 {'a': -0.037788560889399754, 'algorithms': -0.037788560889399754, 'and': -0.037788560889399754, 'applications': -0.037788560889399754, 'as': -0.3467874862246564, 'be': -0.037788560889399754, 'by': -0.037788560889399754, 'can': -0.037788560889399754, 'considers': -0.037788560889399754, 'depends': -0.3467874862246564, 'engine': -0.037788560889399754, 'feedback': -0.3467874862246564, 'improve': -0.037788560889399754, 'in': -0.3467874862246564, 'information': -1.166331421766525, 'is': -0.3467874862246564, 'many': -0.037788560889399754, 'model': -0.037788560889399754, 'models': -0.037788560889399754, 'modify': -0.037788560889399754, 'of': -0.3467874862246564, 'on': -0.3467874862246564, 'one': -0.037788560889399754, 'prediction': -0.3467874862246564, 'problem': -0.037788560889399754, 'problems': -0.037788560889399754, 'query': -0.8573324964312685, 'ranking': -0.037788560889399754, 'requirement': -0.037788560889399754, 'retrieval': -0.8573324964312685, 'search': -0.3467874862246564, 'system': -0.037788560889399754, 'the': -0.6020599913279624, 'to': -0.3467874862246564, 'typically': -0.037788560889399754, 'used': -0.3467874862246564, 'user': -0.3467874862246564, 'viewed': -0.037788560889399754}\n",
      "Phase1:  [[2, 0.4827377937598424], [5, 0.4827377937598424], [1, 0.3624762331578262], [4, 0.2405231212040325], [6, 0.0014279753340918728], [3, 0.0]]\n",
      "Phase 2 begins ..\n",
      "0.125 0.375\n",
      "0.125 0.375\n",
      "0.375 0.125\n",
      "0.125 0.375\n",
      "0.375 0.375\n",
      "0.125 0.375\n",
      "0.375 0.125\n",
      "0.125 0.375\n",
      "0.375 0.125\n",
      "0.375 0.375\n",
      "0.125 0.375\n",
      "0.625 0.125\n",
      "0.375 0.125\n",
      "0.125 0.625\n",
      "0.625 0.875\n",
      "0.375 0.375\n",
      "0.125 0.375\n",
      "0.375 0.125\n",
      "0.125 0.375\n",
      "0.375 0.125\n",
      "0.375 0.375\n",
      "0.375 0.375\n",
      "0.125 0.375\n",
      "0.375 0.375\n",
      "0.125 0.375\n",
      "0.125 0.375\n",
      "0.875 0.375\n",
      "0.125 0.375\n",
      "0.375 0.125\n",
      "0.375 0.875\n",
      "0.375 0.375\n",
      "0.375 0.125\n",
      "0.875 0.125\n",
      "0.625 0.125\n",
      "0.375 0.125\n",
      "0.625 0.125\n",
      "0.375 0.375\n",
      "0.125 0.375\n",
      "TRk phase 2 {'a': -0.7392331843532739, 'algorithms': -0.7392331843532739, 'and': 0.2150093250860509, 'applications': -0.7392331843532739, 'as': -0.4082399653118496, 'be': -0.7392331843532739, 'by': 0.2150093250860509, 'can': -0.7392331843532739, 'considers': 0.2150093250860509, 'depends': -0.4082399653118496, 'engine': -0.7392331843532739, 'feedback': 0.2150093250860509, 'improve': 0.2150093250860509, 'in': -1.1829306835859867, 'information': -1.4751867549424629, 'is': -0.4082399653118496, 'many': -0.7392331843532739, 'model': 0.2150093250860509, 'models': -0.7392331843532739, 'modify': 0.2150093250860509, 'of': -0.4082399653118496, 'on': -0.4082399653118496, 'one': -0.7392331843532739, 'prediction': -0.4082399653118496, 'problem': -0.7392331843532739, 'problems': -0.7392331843532739, 'query': -0.739233184353274, 'ranking': -0.7392331843532739, 'requirement': 0.2150093250860509, 'retrieval': -1.4751867549424629, 'search': -0.4082399653118496, 'system': 0.2150093250860509, 'the': -0.11598389395537351, 'to': 0.2150093250860509, 'typically': 0.2150093250860509, 'used': 0.2150093250860509, 'user': -0.4082399653118496, 'viewed': -0.7392331843532739}\n",
      "Phase 2: [[6, 0.5464657008490814], [4, 0.3333197385556403], [2, 0.18011213293487147], [5, 0.18011213293487147], [1, 0.013452263657051327], [3, 0.0]]\n"
     ]
    },
    {
     "data": {
      "text/plain": [
       "[6, 4, 2, 5, 1, 3]"
      ]
     },
     "execution_count": 90,
     "metadata": {},
     "output_type": "execute_result"
    }
   ],
   "source": [
    "query = \"How is the ranking of documents done?\"\n",
    "BIM(query, corpus_sets)"
   ]
  }
 ],
 "metadata": {
  "kernelspec": {
   "display_name": "Python 3 (ipykernel)",
   "language": "python",
   "name": "python3"
  },
  "language_info": {
   "codemirror_mode": {
    "name": "ipython",
    "version": 3
   },
   "file_extension": ".py",
   "mimetype": "text/x-python",
   "name": "python",
   "nbconvert_exporter": "python",
   "pygments_lexer": "ipython3",
   "version": "3.10.1"
  }
 },
 "nbformat": 4,
 "nbformat_minor": 2
}
