{
 "cells": [
  {
   "cell_type": "code",
   "execution_count": 222,
   "metadata": {},
   "outputs": [],
   "source": [
    "docs = []\n",
    "query = \"\""
   ]
  },
  {
   "cell_type": "code",
   "execution_count": 223,
   "metadata": {},
   "outputs": [],
   "source": [
    "import string\n",
    "import math"
   ]
  },
  {
   "cell_type": "code",
   "execution_count": 224,
   "metadata": {},
   "outputs": [],
   "source": [
    "for i in range(1, 7):\n",
    "    f = open(f'/home/jass/repos/sem8/20XW86-IR-LAB/bim/testdocs/d{i}.txt', 'r')\n",
    "    docs.append(f.read())"
   ]
  },
  {
   "cell_type": "code",
   "execution_count": 225,
   "metadata": {},
   "outputs": [
    {
     "data": {
      "text/plain": [
       "['information requirement: query considers the user feedback as information\\nrequirement to search.',\n",
       " 'information retrieval: query depends on the model of information retrieval\\nused.',\n",
       " 'prediction problem: Many problems in information retrieval can be viewed as\\nprediction problems',\n",
       " 'search: A search engine is one of applications of information retrieval models.',\n",
       " 'Feedback: feedback is typically used by the system to modify the query and\\n\\nimprove prediction',\n",
       " 'information retrieval: ranking in information retrieval algorithms depends on\\n\\nuser query']"
      ]
     },
     "execution_count": 225,
     "metadata": {},
     "output_type": "execute_result"
    }
   ],
   "source": [
    "docs"
   ]
  },
  {
   "cell_type": "code",
   "execution_count": 226,
   "metadata": {},
   "outputs": [],
   "source": [
    "def transform_text(text):\n",
    "    text = text.split()\n",
    "    y = []\n",
    "    for word in text:\n",
    "        char_list = []\n",
    "        for c in word:\n",
    "            if c not in string.punctuation:\n",
    "                char_list.append(c)\n",
    "        \n",
    "        lcase_word  = ''.join(char_list).lower()\n",
    "\n",
    "        if lcase_word.isalnum():\n",
    "            y.append(lcase_word)\n",
    "\n",
    "    return ' '.join(y) \n",
    "\n",
    "    \n",
    "        "
   ]
  },
  {
   "cell_type": "code",
   "execution_count": 227,
   "metadata": {},
   "outputs": [],
   "source": [
    "processed_docs = []"
   ]
  },
  {
   "cell_type": "code",
   "execution_count": 228,
   "metadata": {},
   "outputs": [],
   "source": [
    "for doc in docs:\n",
    "    processed_docs.append(transform_text(doc))"
   ]
  },
  {
   "cell_type": "code",
   "execution_count": 229,
   "metadata": {},
   "outputs": [
    {
     "data": {
      "text/plain": [
       "['information requirement query considers the user feedback as information requirement to search',\n",
       " 'information retrieval query depends on the model of information retrieval used',\n",
       " 'prediction problem many problems in information retrieval can be viewed as prediction problems',\n",
       " 'search a search engine is one of applications of information retrieval models',\n",
       " 'feedback feedback is typically used by the system to modify the query and improve prediction',\n",
       " 'information retrieval ranking in information retrieval algorithms depends on user query']"
      ]
     },
     "execution_count": 229,
     "metadata": {},
     "output_type": "execute_result"
    }
   ],
   "source": [
    "processed_docs"
   ]
  },
  {
   "cell_type": "code",
   "execution_count": 230,
   "metadata": {},
   "outputs": [],
   "source": [
    "TD_matrix = []\n",
    "\n",
    "corpus_sets = []\n",
    "master_set = set()\n",
    "for doc in processed_docs:\n",
    "    hs = set()\n",
    "    for word in doc.split():\n",
    "        hs.add(word)\n",
    "        \n",
    "        if word not in master_set:\n",
    "            master_set.add(word)\n",
    "    corpus_sets.append(hs)\n",
    "\n",
    "master_set = sorted(list(master_set))"
   ]
  },
  {
   "cell_type": "code",
   "execution_count": 231,
   "metadata": {},
   "outputs": [
    {
     "data": {
      "text/plain": [
       "['a',\n",
       " 'algorithms',\n",
       " 'and',\n",
       " 'applications',\n",
       " 'as',\n",
       " 'be',\n",
       " 'by',\n",
       " 'can',\n",
       " 'considers',\n",
       " 'depends',\n",
       " 'engine',\n",
       " 'feedback',\n",
       " 'improve',\n",
       " 'in',\n",
       " 'information',\n",
       " 'is']"
      ]
     },
     "execution_count": 231,
     "metadata": {},
     "output_type": "execute_result"
    }
   ],
   "source": [
    "master_set[:16]"
   ]
  },
  {
   "cell_type": "code",
   "execution_count": 232,
   "metadata": {},
   "outputs": [],
   "source": [
    "for i in range(6):\n",
    "    vector = [0]*len(master_set)\n",
    "\n",
    "    for idx,word in enumerate(master_set):\n",
    "        if word in corpus_sets[i]:\n",
    "            vector[idx] = 1\n",
    "\n",
    "    TD_matrix.append(vector)"
   ]
  },
  {
   "cell_type": "code",
   "execution_count": 233,
   "metadata": {},
   "outputs": [
    {
     "name": "stdout",
     "output_type": "stream",
     "text": [
      "[[0, 0, 0, 0, 1, 0, 0, 0, 1, 0, 0, 1, 0, 0, 1, 0, 0, 0, 0, 0, 0, 0, 0, 0, 0, 0, 1, 0, 1, 0, 1, 0, 1, 1, 0, 0, 1, 0], [0, 0, 0, 0, 0, 0, 0, 0, 0, 1, 0, 0, 0, 0, 1, 0, 0, 1, 0, 0, 1, 1, 0, 0, 0, 0, 1, 0, 0, 1, 0, 0, 1, 0, 0, 1, 0, 0], [0, 0, 0, 0, 1, 1, 0, 1, 0, 0, 0, 0, 0, 1, 1, 0, 1, 0, 0, 0, 0, 0, 0, 1, 1, 1, 0, 0, 0, 1, 0, 0, 0, 0, 0, 0, 0, 1], [1, 0, 0, 1, 0, 0, 0, 0, 0, 0, 1, 0, 0, 0, 1, 1, 0, 0, 1, 0, 1, 0, 1, 0, 0, 0, 0, 0, 0, 1, 1, 0, 0, 0, 0, 0, 0, 0], [0, 0, 1, 0, 0, 0, 1, 0, 0, 0, 0, 1, 1, 0, 0, 1, 0, 0, 0, 1, 0, 0, 0, 1, 0, 0, 1, 0, 0, 0, 0, 1, 1, 1, 1, 1, 0, 0], [0, 1, 0, 0, 0, 0, 0, 0, 0, 1, 0, 0, 0, 1, 1, 0, 0, 0, 0, 0, 0, 1, 0, 0, 0, 0, 1, 1, 0, 1, 0, 0, 0, 0, 0, 0, 1, 0]]\n",
      "[{'feedback', 'requirement', 'considers', 'user', 'query', 'as', 'to', 'the', 'information', 'search'}, {'on', 'model', 'of', 'used', 'query', 'depends', 'retrieval', 'the', 'information'}, {'in', 'prediction', 'problem', 'problems', 'many', 'retrieval', 'viewed', 'as', 'information', 'be', 'can'}, {'models', 'engine', 'one', 'of', 'information', 'a', 'retrieval', 'applications', 'search', 'is'}, {'feedback', 'prediction', 'used', 'typically', 'query', 'and', 'improve', 'to', 'the', 'by', 'modify', 'system', 'is'}, {'in', 'on', 'algorithms', 'user', 'depends', 'query', 'retrieval', 'ranking', 'information'}]\n"
     ]
    }
   ],
   "source": [
    "print(TD_matrix[:10])\n",
    "print(corpus_sets)"
   ]
  },
  {
   "cell_type": "code",
   "execution_count": 234,
   "metadata": {},
   "outputs": [],
   "source": [
    "def formulate_vector(query):\n",
    "    q_hs = set()\n",
    "    \n",
    "    for word in query.split():\n",
    "        q_hs.add(word)\n",
    "\n",
    "    vector = [0]*len(master_set)\n",
    "\n",
    "    for idx,word in enumerate(master_set):\n",
    "        if word in q_hs:\n",
    "            vector[idx] = 1\n",
    "    \n",
    "    return vector"
   ]
  },
  {
   "cell_type": "code",
   "execution_count": 235,
   "metadata": {},
   "outputs": [],
   "source": [
    "def DF(word, corpus_sets):\n",
    "    count = 0\n",
    "\n",
    "    for hs in corpus_sets:\n",
    "        if word in hs:\n",
    "            count += 1\n",
    "    \n",
    "    return count\n",
    "\n",
    "def TRk(Pk, Qk):\n",
    "    return math.log(Pk*(1-Qk)/Qk*(1-Pk))\n",
    "\n",
    "def RK(word, corpus_sets, rdoc_ids):\n",
    "    count = 0\n",
    "    rset_ids = set(rdoc_ids)\n",
    "\n",
    "    for i in range(len(corpus_sets)):\n",
    "        if i in rset_ids and word in corpus_sets[i]:\n",
    "                count += 1\n",
    "\n",
    "    return count  "
   ]
  },
  {
   "cell_type": "code",
   "execution_count": 236,
   "metadata": {},
   "outputs": [],
   "source": [
    "def phase1(query, TRk_phase1, corpus_sets, query_vector, TD_matrix, master_set):\n",
    "    print(\"Phase 1 begins\")\n",
    "    for word in master_set:\n",
    "        Pk = 0.5\n",
    "        Qk = (DF(word, corpus_sets)+0.5)/(len(corpus_sets)+1)\n",
    "        print(Pk, Qk)\n",
    "        trk = TRk(Pk, Qk)\n",
    "\n",
    "        TRk_phase1[word] = trk\n",
    "        \n",
    "    print(\"TRk phase 1\", TRk_phase1)\n",
    "\n",
    "    for dv in TD_matrix:\n",
    "        for i,word in enumerate(master_set):\n",
    "            if dv[i]==1:\n",
    "                dv[i] *= TRk_phase1[word]\n",
    "\n",
    "    dot_prod = []\n",
    "\n",
    "    for i,dv in enumerate(TD_matrix):\n",
    "        dot_prod.append([i, np.dot(np.array(dv), np.array(query_vector))])    \n",
    "\n",
    "    dot_prod.sort(key= lambda x:x[1], reverse=True)\n",
    "    print(\"Phase1: \", dot_prod)\n",
    "    return [x for x,y in dot_prod[:3]]"
   ]
  },
  {
   "cell_type": "code",
   "execution_count": 237,
   "metadata": {},
   "outputs": [],
   "source": [
    "def phase2(query, TRk_phase2, corpus_sets, query_vector, TD_matrix, master_set, rdoc_ids):\n",
    "    print(\"Phase 2 begins ..\")\n",
    "    Nr = len(rdoc_ids)\n",
    "\n",
    "    for word in master_set:\n",
    "        Rk = RK(word, corpus_sets, rdoc_ids)\n",
    "        Pk = (Rk+0.5)/(Nr+1)\n",
    "        Qk = (DF(word, corpus_sets)-Rk+0.5)/(len(corpus_sets)-Nr+1)\n",
    "        print(Pk, Qk)\n",
    "        trk = TRk(Pk, Qk)\n",
    "\n",
    "        TRk_phase2[word] = trk\n",
    "    print(\"TRk phase 2\", TRk_phase2)\n",
    "    for dv in TD_matrix:\n",
    "        for i,word in enumerate(master_set):\n",
    "            if dv[i]==1:\n",
    "                dv[i] *= TRk_phase2[word]\n",
    "\n",
    "    dot_prod = []\n",
    "\n",
    "    for i,dv in enumerate(TD_matrix):\n",
    "        dot_prod.append([i, np.dot(np.array(dv), np.array(query_vector))])    \n",
    "\n",
    "    dot_prod.sort(key= lambda x:x[1], reverse=True)\n",
    "    print(\"Phase 2:\", dot_prod)\n",
    "    return [x+1 for x,y in dot_prod]"
   ]
  },
  {
   "cell_type": "code",
   "execution_count": 238,
   "metadata": {},
   "outputs": [],
   "source": [
    "def BIM(query, corpus_sets):\n",
    "    query = transform_text(query)\n",
    "    query_vector = formulate_vector(query)\n",
    "    rel1 = phase1(query, {}, corpus_sets, query_vector, TD_matrix, master_set)\n",
    "    rel2 = phase2(query, {}, corpus_sets, query_vector, TD_matrix, master_set, rel1)\n",
    "\n",
    "    return rel2"
   ]
  },
  {
   "cell_type": "code",
   "execution_count": 239,
   "metadata": {},
   "outputs": [
    {
     "name": "stdout",
     "output_type": "stream",
     "text": [
      "Phase 1 begins\n",
      "0.5 0.21428571428571427\n",
      "0.5 0.21428571428571427\n",
      "0.5 0.21428571428571427\n",
      "0.5 0.21428571428571427\n",
      "0.5 0.35714285714285715\n",
      "0.5 0.21428571428571427\n",
      "0.5 0.21428571428571427\n",
      "0.5 0.21428571428571427\n",
      "0.5 0.21428571428571427\n",
      "0.5 0.35714285714285715\n",
      "0.5 0.21428571428571427\n",
      "0.5 0.35714285714285715\n",
      "0.5 0.21428571428571427\n",
      "0.5 0.35714285714285715\n",
      "0.5 0.7857142857142857\n",
      "0.5 0.35714285714285715\n",
      "0.5 0.21428571428571427\n",
      "0.5 0.21428571428571427\n",
      "0.5 0.21428571428571427\n",
      "0.5 0.21428571428571427\n",
      "0.5 0.35714285714285715\n",
      "0.5 0.35714285714285715\n",
      "0.5 0.21428571428571427\n",
      "0.5 0.35714285714285715\n",
      "0.5 0.21428571428571427\n",
      "0.5 0.21428571428571427\n",
      "0.5 0.6428571428571429\n",
      "0.5 0.21428571428571427\n",
      "0.5 0.21428571428571427\n",
      "0.5 0.6428571428571429\n",
      "0.5 0.35714285714285715\n",
      "0.5 0.21428571428571427\n",
      "0.5 0.5\n",
      "0.5 0.35714285714285715\n",
      "0.5 0.21428571428571427\n",
      "0.5 0.35714285714285715\n",
      "0.5 0.35714285714285715\n",
      "0.5 0.21428571428571427\n",
      "TRk phase 1 {'a': -0.08701137698962969, 'algorithms': -0.08701137698962969, 'and': -0.08701137698962969, 'applications': -0.08701137698962969, 'as': -0.7985076962177717, 'be': -0.08701137698962969, 'by': -0.08701137698962969, 'can': -0.08701137698962969, 'considers': -0.08701137698962969, 'depends': -0.7985076962177717, 'engine': -0.08701137698962969, 'feedback': -0.7985076962177717, 'improve': -0.08701137698962969, 'in': -0.7985076962177717, 'information': -2.6855773452501515, 'is': -0.7985076962177717, 'many': -0.08701137698962969, 'model': -0.08701137698962969, 'models': -0.08701137698962969, 'modify': -0.08701137698962969, 'of': -0.7985076962177717, 'on': -0.7985076962177717, 'one': -0.08701137698962969, 'prediction': -0.7985076962177717, 'problem': -0.08701137698962969, 'problems': -0.08701137698962969, 'query': -1.9740810260220099, 'ranking': -0.08701137698962969, 'requirement': -0.08701137698962969, 'retrieval': -1.9740810260220099, 'search': -0.7985076962177717, 'system': -0.08701137698962969, 'the': -1.3862943611198906, 'to': -0.7985076962177717, 'typically': -0.08701137698962969, 'used': -0.7985076962177717, 'user': -0.7985076962177717, 'viewed': -0.08701137698962969}\n",
      "Phase1:  [[4, -0.7985076962177717], [0, -1.5970153924355435], [1, -2.7725887222397816], [2, -2.7725887222397816], [3, -2.7725887222397816], [5, -3.5710964184575533]]\n",
      "Phase 2 begins ..\n",
      "0.125 0.375\n",
      "0.125 0.375\n",
      "0.375 0.125\n",
      "0.125 0.375\n",
      "0.375 0.375\n",
      "0.125 0.375\n",
      "0.375 0.125\n",
      "0.125 0.375\n",
      "0.375 0.125\n",
      "0.375 0.375\n",
      "0.125 0.375\n",
      "0.625 0.125\n",
      "0.375 0.125\n",
      "0.125 0.625\n",
      "0.625 0.875\n",
      "0.375 0.375\n",
      "0.125 0.375\n",
      "0.375 0.125\n",
      "0.125 0.375\n",
      "0.375 0.125\n",
      "0.375 0.375\n",
      "0.375 0.375\n",
      "0.125 0.375\n",
      "0.375 0.375\n",
      "0.125 0.375\n",
      "0.125 0.375\n",
      "0.875 0.375\n",
      "0.125 0.375\n",
      "0.375 0.125\n",
      "0.375 0.875\n",
      "0.375 0.375\n",
      "0.375 0.125\n",
      "0.875 0.125\n",
      "0.625 0.125\n",
      "0.375 0.125\n",
      "0.625 0.125\n",
      "0.375 0.375\n",
      "0.125 0.375\n",
      "TRk phase 2 {'a': -1.7021473105383678, 'algorithms': -1.7021473105383678, 'and': 0.4950772667978515, 'applications': -1.7021473105383678, 'as': -0.9400072584914712, 'be': -1.7021473105383678, 'by': 0.4950772667978515, 'can': -1.7021473105383678, 'considers': 0.4950772667978515, 'depends': -0.9400072584914712, 'engine': -1.7021473105383678, 'feedback': 0.4950772667978515, 'improve': 0.4950772667978515, 'in': -2.723798558070349, 'information': -3.3967430313127753, 'is': -0.9400072584914712, 'many': -1.7021473105383678, 'model': 0.4950772667978515, 'models': -1.7021473105383678, 'modify': 0.4950772667978515, 'of': -0.9400072584914712, 'on': -0.9400072584914712, 'one': -1.7021473105383678, 'prediction': -0.9400072584914712, 'problem': -1.7021473105383678, 'problems': -1.7021473105383678, 'query': -1.702147310538368, 'ranking': -1.7021473105383678, 'requirement': 0.4950772667978515, 'retrieval': -3.3967430313127753, 'search': -0.9400072584914712, 'system': 0.4950772667978515, 'the': -0.26706278524904525, 'to': 0.4950772667978515, 'typically': 0.4950772667978515, 'used': 0.4950772667978515, 'user': -0.9400072584914712, 'viewed': -1.7021473105383678}\n",
      "Phase 2: [[4, -0.7985076962177717], [0, -1.5970153924355435], [1, -2.7725887222397816], [2, -2.7725887222397816], [3, -2.7725887222397816], [5, -3.5710964184575533]]\n"
     ]
    },
    {
     "data": {
      "text/plain": [
       "[5, 1, 2, 3, 4, 6]"
      ]
     },
     "execution_count": 239,
     "metadata": {},
     "output_type": "execute_result"
    }
   ],
   "source": [
    "query = \"Importance of user feedback in retrieval?\"\n",
    "BIM(query, corpus_sets)"
   ]
  }
 ],
 "metadata": {
  "kernelspec": {
   "display_name": "Python 3",
   "language": "python",
   "name": "python3"
  },
  "language_info": {
   "codemirror_mode": {
    "name": "ipython",
    "version": 3
   },
   "file_extension": ".py",
   "mimetype": "text/x-python",
   "name": "python",
   "nbconvert_exporter": "python",
   "pygments_lexer": "ipython3",
   "version": "3.10.12"
  }
 },
 "nbformat": 4,
 "nbformat_minor": 2
}
