{
 "cells": [
  {
   "cell_type": "code",
   "execution_count": 1,
   "id": "59f6befb",
   "metadata": {},
   "outputs": [
    {
     "name": "stdout",
     "output_type": "stream",
     "text": [
      "Defaulting to user installation because normal site-packages is not writeableNote: you may need to restart the kernel to use updated packages.\n",
      "\n",
      "Requirement already satisfied: ir_datasets in c:\\users\\temp.cs2k16.000\\appdata\\roaming\\python\\python311\\site-packages (0.5.6)\n",
      "Requirement already satisfied: beautifulsoup4>=4.4.1 in c:\\programdata\\anaconda3\\lib\\site-packages (from ir_datasets) (4.12.2)\n",
      "Requirement already satisfied: inscriptis>=2.2.0 in c:\\users\\temp.cs2k16.000\\appdata\\roaming\\python\\python311\\site-packages (from ir_datasets) (2.4.0.1)\n",
      "Requirement already satisfied: lxml>=4.5.2 in c:\\programdata\\anaconda3\\lib\\site-packages (from ir_datasets) (4.9.3)\n",
      "Requirement already satisfied: numpy>=1.18.1 in c:\\programdata\\anaconda3\\lib\\site-packages (from ir_datasets) (1.24.3)\n",
      "Requirement already satisfied: pyyaml>=5.3.1 in c:\\programdata\\anaconda3\\lib\\site-packages (from ir_datasets) (6.0)\n",
      "Requirement already satisfied: requests>=2.22.0 in c:\\programdata\\anaconda3\\lib\\site-packages (from ir_datasets) (2.31.0)\n",
      "Requirement already satisfied: tqdm>=4.38.0 in c:\\programdata\\anaconda3\\lib\\site-packages (from ir_datasets) (4.65.0)\n",
      "Requirement already satisfied: trec-car-tools>=2.5.4 in c:\\users\\temp.cs2k16.000\\appdata\\roaming\\python\\python311\\site-packages (from ir_datasets) (2.6)\n",
      "Requirement already satisfied: lz4>=3.1.10 in c:\\programdata\\anaconda3\\lib\\site-packages (from ir_datasets) (4.3.2)\n",
      "Requirement already satisfied: warc3-wet>=0.2.3 in c:\\users\\temp.cs2k16.000\\appdata\\roaming\\python\\python311\\site-packages (from ir_datasets) (0.2.3)\n",
      "Requirement already satisfied: warc3-wet-clueweb09>=0.2.5 in c:\\users\\temp.cs2k16.000\\appdata\\roaming\\python\\python311\\site-packages (from ir_datasets) (0.2.5)\n",
      "Requirement already satisfied: zlib-state>=0.1.3 in c:\\users\\temp.cs2k16.000\\appdata\\roaming\\python\\python311\\site-packages (from ir_datasets) (0.1.6)\n",
      "Requirement already satisfied: ijson>=3.1.3 in c:\\users\\temp.cs2k16.000\\appdata\\roaming\\python\\python311\\site-packages (from ir_datasets) (3.2.3)\n",
      "Requirement already satisfied: pyautocorpus>=0.1.1 in c:\\users\\temp.cs2k16.000\\appdata\\roaming\\python\\python311\\site-packages (from ir_datasets) (0.1.12)\n",
      "Requirement already satisfied: unlzw3>=0.2.1 in c:\\users\\temp.cs2k16.000\\appdata\\roaming\\python\\python311\\site-packages (from ir_datasets) (0.2.2)\n",
      "Requirement already satisfied: soupsieve>1.2 in c:\\programdata\\anaconda3\\lib\\site-packages (from beautifulsoup4>=4.4.1->ir_datasets) (2.4)\n",
      "Requirement already satisfied: charset-normalizer<4,>=2 in c:\\programdata\\anaconda3\\lib\\site-packages (from requests>=2.22.0->ir_datasets) (2.0.4)\n",
      "Requirement already satisfied: idna<4,>=2.5 in c:\\programdata\\anaconda3\\lib\\site-packages (from requests>=2.22.0->ir_datasets) (3.4)\n",
      "Requirement already satisfied: urllib3<3,>=1.21.1 in c:\\programdata\\anaconda3\\lib\\site-packages (from requests>=2.22.0->ir_datasets) (1.26.16)\n",
      "Requirement already satisfied: certifi>=2017.4.17 in c:\\programdata\\anaconda3\\lib\\site-packages (from requests>=2.22.0->ir_datasets) (2023.7.22)\n",
      "Requirement already satisfied: colorama in c:\\programdata\\anaconda3\\lib\\site-packages (from tqdm>=4.38.0->ir_datasets) (0.4.6)\n",
      "Requirement already satisfied: cbor>=1.0.0 in c:\\users\\temp.cs2k16.000\\appdata\\roaming\\python\\python311\\site-packages (from trec-car-tools>=2.5.4->ir_datasets) (1.0.0)\n"
     ]
    }
   ],
   "source": [
    "pip install ir_datasets"
   ]
  },
  {
   "cell_type": "code",
   "execution_count": null,
   "id": "4f69fce4",
   "metadata": {},
   "outputs": [],
   "source": [
    "docs = []"
   ]
  },
  {
   "cell_type": "code",
   "execution_count": 6,
   "id": "d965f0a6",
   "metadata": {},
   "outputs": [
    {
     "ename": "TypeError",
     "evalue": "'type' object is not iterable",
     "output_type": "error",
     "traceback": [
      "\u001b[1;31m---------------------------------------------------------------------------\u001b[0m",
      "\u001b[1;31mTypeError\u001b[0m                                 Traceback (most recent call last)",
      "Cell \u001b[1;32mIn[6], line 4\u001b[0m\n\u001b[0;32m      1\u001b[0m \u001b[38;5;28;01mimport\u001b[39;00m \u001b[38;5;21;01mir_datasets\u001b[39;00m\n\u001b[0;32m      2\u001b[0m dataset \u001b[38;5;241m=\u001b[39m ir_datasets\u001b[38;5;241m.\u001b[39mload(\u001b[38;5;124m'\u001b[39m\u001b[38;5;124mnfcorpus\u001b[39m\u001b[38;5;124m'\u001b[39m)\n\u001b[1;32m----> 4\u001b[0m \u001b[38;5;28;01mfor\u001b[39;00m doc \u001b[38;5;129;01min\u001b[39;00m dataset\u001b[38;5;241m.\u001b[39mdocs_cls():\n\u001b[0;32m      5\u001b[0m     \u001b[38;5;28mprint\u001b[39m(doc)\n",
      "\u001b[1;31mTypeError\u001b[0m: 'type' object is not iterable"
     ]
    }
   ],
   "source": [
    "import ir_datasets\n",
    "dataset = ir_datasets.load('nfcorpus')\n",
    "\n",
    "for doc in dataset.docs_cls():\n",
    "    print(doc)"
   ]
  },
  {
   "cell_type": "code",
   "execution_count": 7,
   "id": "e1ee1aec",
   "metadata": {},
   "outputs": [
    {
     "name": "stderr",
     "output_type": "stream",
     "text": [
      "[INFO] Please confirm you agree to the authors' data usage agreement found at <https://ciir.cs.umass.edu/downloads/Antique/readme.txt>\n",
      "[INFO] If you have a local copy of https://ciir.cs.umass.edu/downloads/Antique/antique-collection.txt, you can symlink it here to avoid downloading it again: C:\\Users\\TEMP.CS2K16.000\\.ir_datasets\\downloads\\684f7015aff377062a758e478476aac8\n",
      "[INFO] [starting] https://ciir.cs.umass.edu/downloads/Antique/antique-collection.txt\n",
      "[INFO] [finished] https://ciir.cs.umass.edu/downloads/Antique/antique-collection.txt: [01:32] [93.6MB] [1.01MB/s]\n",
      "                                                                                               \r"
     ]
    },
    {
     "ename": "UnicodeDecodeError",
     "evalue": "'charmap' codec can't decode byte 0x9d in position 2206: character maps to <undefined>",
     "output_type": "error",
     "traceback": [
      "\u001b[1;31m---------------------------------------------------------------------------\u001b[0m",
      "\u001b[1;31mUnicodeDecodeError\u001b[0m                        Traceback (most recent call last)",
      "Cell \u001b[1;32mIn[7], line 3\u001b[0m\n\u001b[0;32m      1\u001b[0m \u001b[38;5;28;01mimport\u001b[39;00m \u001b[38;5;21;01mir_datasets\u001b[39;00m\n\u001b[0;32m      2\u001b[0m dataset \u001b[38;5;241m=\u001b[39m ir_datasets\u001b[38;5;241m.\u001b[39mload(\u001b[38;5;124m\"\u001b[39m\u001b[38;5;124mantique/test\u001b[39m\u001b[38;5;124m\"\u001b[39m)\n\u001b[1;32m----> 3\u001b[0m \u001b[38;5;28;01mfor\u001b[39;00m doc \u001b[38;5;129;01min\u001b[39;00m dataset\u001b[38;5;241m.\u001b[39mdocs_iter():\n\u001b[0;32m      4\u001b[0m     doc\n",
      "File \u001b[1;32m~\\AppData\\Roaming\\Python\\Python311\\site-packages\\ir_datasets\\util\\__init__.py:147\u001b[0m, in \u001b[0;36mDocstoreSplitter.__next__\u001b[1;34m(self)\u001b[0m\n\u001b[0;32m    146\u001b[0m \u001b[38;5;28;01mdef\u001b[39;00m \u001b[38;5;21m__next__\u001b[39m(\u001b[38;5;28mself\u001b[39m):\n\u001b[1;32m--> 147\u001b[0m     \u001b[38;5;28;01mreturn\u001b[39;00m \u001b[38;5;28mnext\u001b[39m(\u001b[38;5;28mself\u001b[39m\u001b[38;5;241m.\u001b[39mit)\n",
      "File \u001b[1;32m~\\AppData\\Roaming\\Python\\Python311\\site-packages\\ir_datasets\\formats\\tsv.py:92\u001b[0m, in \u001b[0;36mTsvIter.__next__\u001b[1;34m(self)\u001b[0m\n\u001b[0;32m     91\u001b[0m \u001b[38;5;28;01mdef\u001b[39;00m \u001b[38;5;21m__next__\u001b[39m(\u001b[38;5;28mself\u001b[39m):\n\u001b[1;32m---> 92\u001b[0m     line \u001b[38;5;241m=\u001b[39m \u001b[38;5;28mnext\u001b[39m(\u001b[38;5;28mself\u001b[39m\u001b[38;5;241m.\u001b[39mline_iter)\n\u001b[0;32m     93\u001b[0m     cols \u001b[38;5;241m=\u001b[39m line\u001b[38;5;241m.\u001b[39mrstrip(\u001b[38;5;124m'\u001b[39m\u001b[38;5;130;01m\\n\u001b[39;00m\u001b[38;5;124m'\u001b[39m)\u001b[38;5;241m.\u001b[39msplit(\u001b[38;5;124m'\u001b[39m\u001b[38;5;130;01m\\t\u001b[39;00m\u001b[38;5;124m'\u001b[39m)\n\u001b[0;32m     94\u001b[0m     num_cols \u001b[38;5;241m=\u001b[39m \u001b[38;5;28mlen\u001b[39m(\u001b[38;5;28mself\u001b[39m\u001b[38;5;241m.\u001b[39mcls\u001b[38;5;241m.\u001b[39m_fields)\n",
      "File \u001b[1;32m~\\AppData\\Roaming\\Python\\Python311\\site-packages\\ir_datasets\\formats\\tsv.py:30\u001b[0m, in \u001b[0;36mFileLineIter.__next__\u001b[1;34m(self)\u001b[0m\n\u001b[0;32m     28\u001b[0m         \u001b[38;5;28mself\u001b[39m\u001b[38;5;241m.\u001b[39mstream \u001b[38;5;241m=\u001b[39m io\u001b[38;5;241m.\u001b[39mTextIOWrapper(\u001b[38;5;28mself\u001b[39m\u001b[38;5;241m.\u001b[39mctxt\u001b[38;5;241m.\u001b[39menter_context(\u001b[38;5;28mself\u001b[39m\u001b[38;5;241m.\u001b[39mdlc\u001b[38;5;241m.\u001b[39mstream()))\n\u001b[0;32m     29\u001b[0m \u001b[38;5;28;01mwhile\u001b[39;00m \u001b[38;5;28mself\u001b[39m\u001b[38;5;241m.\u001b[39mpos \u001b[38;5;241m<\u001b[39m \u001b[38;5;28mself\u001b[39m\u001b[38;5;241m.\u001b[39mstart:\n\u001b[1;32m---> 30\u001b[0m     line \u001b[38;5;241m=\u001b[39m \u001b[38;5;28mself\u001b[39m\u001b[38;5;241m.\u001b[39mstream\u001b[38;5;241m.\u001b[39mreadline()\n\u001b[0;32m     31\u001b[0m     \u001b[38;5;28;01mif\u001b[39;00m line \u001b[38;5;241m!=\u001b[39m \u001b[38;5;124m'\u001b[39m\u001b[38;5;130;01m\\n\u001b[39;00m\u001b[38;5;124m'\u001b[39m:\n\u001b[0;32m     32\u001b[0m         \u001b[38;5;28mself\u001b[39m\u001b[38;5;241m.\u001b[39mpos \u001b[38;5;241m+\u001b[39m\u001b[38;5;241m=\u001b[39m \u001b[38;5;241m1\u001b[39m\n",
      "File \u001b[1;32mC:\\ProgramData\\anaconda3\\Lib\\encodings\\cp1252.py:23\u001b[0m, in \u001b[0;36mIncrementalDecoder.decode\u001b[1;34m(self, input, final)\u001b[0m\n\u001b[0;32m     22\u001b[0m \u001b[38;5;28;01mdef\u001b[39;00m \u001b[38;5;21mdecode\u001b[39m(\u001b[38;5;28mself\u001b[39m, \u001b[38;5;28minput\u001b[39m, final\u001b[38;5;241m=\u001b[39m\u001b[38;5;28;01mFalse\u001b[39;00m):\n\u001b[1;32m---> 23\u001b[0m     \u001b[38;5;28;01mreturn\u001b[39;00m codecs\u001b[38;5;241m.\u001b[39mcharmap_decode(\u001b[38;5;28minput\u001b[39m,\u001b[38;5;28mself\u001b[39m\u001b[38;5;241m.\u001b[39merrors,decoding_table)[\u001b[38;5;241m0\u001b[39m]\n",
      "\u001b[1;31mUnicodeDecodeError\u001b[0m: 'charmap' codec can't decode byte 0x9d in position 2206: character maps to <undefined>"
     ]
    }
   ],
   "source": [
    "import ir_datasets\n",
    "dataset = ir_datasets.load(\"antique/test\")\n",
    "for doc in dataset.docs_iter():\n",
    "    doc # namedtuple<doc_id, text>"
   ]
  },
  {
   "cell_type": "code",
   "execution_count": null,
   "id": "be19fab2",
   "metadata": {},
   "outputs": [],
   "source": []
  }
 ],
 "metadata": {
  "kernelspec": {
   "display_name": "Python 3 (ipykernel)",
   "language": "python",
   "name": "python3"
  },
  "language_info": {
   "codemirror_mode": {
    "name": "ipython",
    "version": 3
   },
   "file_extension": ".py",
   "mimetype": "text/x-python",
   "name": "python",
   "nbconvert_exporter": "python",
   "pygments_lexer": "ipython3",
   "version": "3.11.5"
  }
 },
 "nbformat": 4,
 "nbformat_minor": 5
}
