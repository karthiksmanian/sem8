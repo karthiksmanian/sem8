{
 "cells": [
  {
   "cell_type": "code",
   "execution_count": 167,
   "id": "6a00c94f",
   "metadata": {},
   "outputs": [],
   "source": [
    "# IR PS3\n",
    "import re\n",
    "import string"
   ]
  },
  {
   "cell_type": "code",
   "execution_count": 168,
   "id": "809fa183",
   "metadata": {},
   "outputs": [],
   "source": [
    "f_time_all = open(\"Z:/20XW86-IR-LAB/ws3/dataset-info/TIME.ALL\", 'r')\n",
    "f_query = open(\"Z:/20XW86-IR-LAB/ws3/dataset-info/TIME.QUE\", 'r')\n",
    "f_stp = open(\"Z:/20XW86-IR-LAB/ws3/dataset-info/TIME.STP\", 'r')"
   ]
  },
  {
   "cell_type": "code",
   "execution_count": 169,
   "id": "dea39025",
   "metadata": {},
   "outputs": [],
   "source": [
    "def parse_documents(f):\n",
    "    documents = []\n",
    "    fstr = f.read()\n",
    "    regex = r\"\\*TEXT\\s+\\d{3}\\s+\\d{2}/\\d{2}/\\d{2}\\s+PAGE\\s+\\d{3}\\n\\n\"\n",
    "    \n",
    "    iters = []\n",
    "    result = re.finditer(regex, fstr, re.DOTALL)\n",
    "    for key in result:\n",
    "        iters.append(key)\n",
    "\n",
    "    for i in range(len(iters)-1):\n",
    "        i1 = iters[i].span()[1]\n",
    "        i2 = iters[i+1].span()[0]\n",
    "        \n",
    "        documents.append(fstr[i1:i2])\n",
    "    \n",
    "    return documents"
   ]
  },
  {
   "cell_type": "code",
   "execution_count": 170,
   "id": "af824db4",
   "metadata": {},
   "outputs": [],
   "source": [
    "def parse_queries(f):\n",
    "    text = f.read()\n",
    "    result = re.findall(r'FIND\\s+\\d+\\s+(.*)', text)\n",
    "    \n",
    "    return result"
   ]
  },
  {
   "cell_type": "code",
   "execution_count": 171,
   "id": "880eb971",
   "metadata": {},
   "outputs": [],
   "source": [
    "def parse_stopwords(f):\n",
    "    text = f.read()\n",
    "    text = text.lower()\n",
    "    \n",
    "    return set(nltk.word_tokenize(text))"
   ]
  },
  {
   "cell_type": "code",
   "execution_count": 172,
   "id": "beec9cde",
   "metadata": {},
   "outputs": [],
   "source": [
    "docs = parse_documents(f_time_all)"
   ]
  },
  {
   "cell_type": "code",
   "execution_count": 173,
   "id": "4fda1418",
   "metadata": {},
   "outputs": [
    {
     "data": {
      "text/plain": [
       "422"
      ]
     },
     "execution_count": 173,
     "metadata": {},
     "output_type": "execute_result"
    }
   ],
   "source": [
    "len(docs)"
   ]
  },
  {
   "cell_type": "code",
   "execution_count": 174,
   "id": "6e0e4a8b",
   "metadata": {},
   "outputs": [],
   "source": [
    "queries = parse_queries(f_query)"
   ]
  },
  {
   "cell_type": "code",
   "execution_count": 175,
   "id": "9c00a49d",
   "metadata": {
    "scrolled": true
   },
   "outputs": [],
   "source": [
    "samp_doc = docs[0]"
   ]
  },
  {
   "cell_type": "code",
   "execution_count": 176,
   "id": "62e314c1",
   "metadata": {},
   "outputs": [],
   "source": [
    "stopwords = parse_stopwords(f_stp)"
   ]
  },
  {
   "cell_type": "code",
   "execution_count": 177,
   "id": "41049f86",
   "metadata": {},
   "outputs": [],
   "source": [
    "# Preprocessing\n",
    "# 1. conv. to lowercase\n",
    "# 2. tokenization\n",
    "# 3. stopword, spl char removal\n",
    "# 4. stemming"
   ]
  },
  {
   "cell_type": "code",
   "execution_count": 178,
   "id": "4137998e",
   "metadata": {},
   "outputs": [],
   "source": [
    "import nltk\n",
    "# nltk.download('stopwords')\n",
    "# nltk.download('punkt')"
   ]
  },
  {
   "cell_type": "code",
   "execution_count": 179,
   "id": "a2d163c3",
   "metadata": {},
   "outputs": [],
   "source": [
    "from nltk.stem.porter import PorterStemmer\n",
    "ps = PorterStemmer()"
   ]
  },
  {
   "cell_type": "code",
   "execution_count": 180,
   "id": "689bf1a9",
   "metadata": {},
   "outputs": [],
   "source": [
    "def transform_text(text):\n",
    "    text = text.lower()\n",
    "    text = nltk.word_tokenize(text)\n",
    "    \n",
    "    y = []\n",
    "    \n",
    "    for i in text:\n",
    "        if i.isalnum():\n",
    "            y.append(i)\n",
    "    \n",
    "    text = y[:]\n",
    "    y.clear()\n",
    "    \n",
    "    for i in text:\n",
    "        if i not in stopwords and i not in string.punctuation:\n",
    "            y.append(i)\n",
    "    \n",
    "    text = y[:]\n",
    "    y.clear()\n",
    "    \n",
    "    for i in text:\n",
    "        y.append(ps.stem(i))\n",
    "\n",
    "    return \" \".join(y)"
   ]
  },
  {
   "cell_type": "code",
   "execution_count": 181,
   "id": "54cecf4f",
   "metadata": {},
   "outputs": [
    {
     "data": {
      "text/plain": [
       "'alli nassau decemb 1960 propos help nato develop nuclear strike forc europ attempt devis plan studi nassau accord presid kennedi prime minist macmillan european saw emerg outlin nuclear nato want support sprang crisi cancel skybolt missil offer suppli'"
      ]
     },
     "execution_count": 181,
     "metadata": {},
     "output_type": "execute_result"
    }
   ],
   "source": [
    "transform_text(samp_doc)[:251]"
   ]
  },
  {
   "cell_type": "code",
   "execution_count": 182,
   "id": "058b20d7",
   "metadata": {},
   "outputs": [],
   "source": [
    "processed_docs = []\n",
    "\n",
    "for doc in docs:\n",
    "    processed_docs.append(transform_text(doc))"
   ]
  },
  {
   "cell_type": "code",
   "execution_count": 183,
   "id": "eaffc63a",
   "metadata": {},
   "outputs": [],
   "source": [
    "# 1. Cosine Similarity"
   ]
  },
  {
   "cell_type": "code",
   "execution_count": 184,
   "id": "61484892",
   "metadata": {},
   "outputs": [],
   "source": [
    "# Wik = (TFik/LENi)*log(N+1)/0.5+DFk\n",
    "# TFik - term frequency within doc.\n",
    "# LENi - len of current doc.\n",
    "# N - total docs\n",
    "# DFk - document frequency of the word (no. of documents for which the word exists)"
   ]
  },
  {
   "cell_type": "code",
   "execution_count": 185,
   "id": "e872cad7",
   "metadata": {},
   "outputs": [],
   "source": [
    "import math"
   ]
  },
  {
   "cell_type": "code",
   "execution_count": 186,
   "id": "15275a22",
   "metadata": {},
   "outputs": [],
   "source": [
    "def TF(word, mymap):\n",
    "    return mymap[word]\n",
    "\n",
    "def DF(word, corpus_maps):\n",
    "    count = 0\n",
    "    \n",
    "    for hm in corpus_maps:\n",
    "        if word in hm:\n",
    "            count += 1\n",
    "    \n",
    "    return count\n",
    "\n",
    "def calculate_weights(doc, doc_map, corpus_maps):\n",
    "    vector = [0]*len(doc_map)\n",
    "    \n",
    "    mymap = {}\n",
    "    \n",
    "    for i in doc.split():\n",
    "        if i in mymap:\n",
    "            mymap[i] +=1\n",
    "        else:\n",
    "            mymap[i] = 1\n",
    "    \n",
    "    for word in doc.split():\n",
    "        TFik = TF(word, mymap)\n",
    "        LENi = len(doc)\n",
    "        N = len(corpus_maps)\n",
    "        DFk = DF(word, corpus_maps)\n",
    "        \n",
    "        try:\n",
    "            index = list(doc_map.keys()).index(word)\n",
    "            vector[index] = (TFik/LENi)*(math.log(N+1)/(0.5+DFk))\n",
    "        except ValueError:\n",
    "            pass\n",
    "    \n",
    "    return vector"
   ]
  },
  {
   "cell_type": "code",
   "execution_count": 187,
   "id": "2a68f4d6",
   "metadata": {},
   "outputs": [],
   "source": [
    "doc_map = {}\n",
    "\n",
    "for doc in processed_docs:\n",
    "    for word in doc.split():\n",
    "        if word in doc_map:\n",
    "            doc_map[word] += 1\n",
    "        else:\n",
    "            doc_map[word] = 1\n",
    "\n",
    "doc_matrix = []\n",
    "\n",
    "list_of_maps = []\n",
    "\n",
    "for doc in processed_docs:\n",
    "    hm = {}\n",
    "    \n",
    "    for word in doc.split():\n",
    "        if word in hm:\n",
    "            hm[word] += 1\n",
    "        else:\n",
    "            hm[word] = 1\n",
    "    \n",
    "    list_of_maps.append(hm)\n",
    "\n",
    "for doc in processed_docs:\n",
    "    vector = calculate_weights(doc, doc_map, list_of_maps)\n",
    "    doc_matrix.append(vector)"
   ]
  },
  {
   "cell_type": "code",
   "execution_count": 188,
   "id": "bb920f0a",
   "metadata": {},
   "outputs": [],
   "source": [
    "import numpy as np"
   ]
  },
  {
   "cell_type": "code",
   "execution_count": 189,
   "id": "ddcd6929",
   "metadata": {},
   "outputs": [
    {
     "data": {
      "text/plain": [
       "(422, 13817)"
      ]
     },
     "execution_count": 189,
     "metadata": {},
     "output_type": "execute_result"
    }
   ],
   "source": [
    "np.array(doc_matrix).shape"
   ]
  },
  {
   "cell_type": "code",
   "execution_count": 190,
   "id": "0d05d1aa",
   "metadata": {},
   "outputs": [],
   "source": [
    "# Converting queries to TD matrix"
   ]
  },
  {
   "cell_type": "code",
   "execution_count": 191,
   "id": "26003a05",
   "metadata": {},
   "outputs": [
    {
     "data": {
      "text/plain": [
       "['KENNEDY ADMINISTRATION PRESSURE ON NGO DINH DIEM TO STOP',\n",
       " \"EFFORTS OF AMBASSADOR HENRY CABOT LODGE TO GET VIET NAM'S\",\n",
       " 'NUMBER OF TROOPS THE UNITED STATES HAS STATIONED IN SOUTH',\n",
       " 'U.S . POLICY TOWARD THE NEW REGIME IN SOUTH VIET NAM WHICH OVERTHREW',\n",
       " 'PERSONS INVOLVED IN THE VIET NAM COUP .']"
      ]
     },
     "execution_count": 191,
     "metadata": {},
     "output_type": "execute_result"
    }
   ],
   "source": [
    "queries[:5]"
   ]
  },
  {
   "cell_type": "code",
   "execution_count": 192,
   "id": "c40bdd30",
   "metadata": {},
   "outputs": [],
   "source": [
    "processed_queries = []\n",
    "\n",
    "for query in queries:\n",
    "    processed_queries.append(transform_text(query))"
   ]
  },
  {
   "cell_type": "code",
   "execution_count": 193,
   "id": "1040c41e",
   "metadata": {},
   "outputs": [
    {
     "data": {
      "text/plain": [
       "['kennedi administr pressur ngo dinh diem stop',\n",
       " 'effort ambassador henri cabot lodg viet nam',\n",
       " 'number troop unit state station south',\n",
       " 'polici new regim south viet nam overthrew',\n",
       " 'person involv viet nam coup']"
      ]
     },
     "execution_count": 193,
     "metadata": {},
     "output_type": "execute_result"
    }
   ],
   "source": [
    "processed_queries[:5]"
   ]
  },
  {
   "cell_type": "code",
   "execution_count": 194,
   "id": "bebb498d",
   "metadata": {},
   "outputs": [],
   "source": [
    "from sklearn.metrics.pairwise import cosine_similarity"
   ]
  },
  {
   "cell_type": "code",
   "execution_count": 200,
   "id": "5521f309",
   "metadata": {},
   "outputs": [],
   "source": [
    "def fetch_docs(query):\n",
    "    processed_query = transform_text(query)\n",
    "    query_td = calculate_weights(processed_query, doc_map, list_of_maps)\n",
    "    \n",
    "    ret = []\n",
    "    for i in range(len(doc_matrix)):\n",
    "        vec1 = np.array(doc_matrix[i])\n",
    "        vec2 = np.array(query_td)\n",
    "        \n",
    "        ret.append((i, cosine_similarity([vec1], [vec2])[0][0]))\n",
    "    \n",
    "    ret.sort(key= lambda x:-x[1])\n",
    "    \n",
    "    return ret"
   ]
  },
  {
   "cell_type": "code",
   "execution_count": 219,
   "id": "d073bbbb",
   "metadata": {},
   "outputs": [
    {
     "data": {
      "text/plain": [
       "[(369, 0.1926245789654022),\n",
       " (333, 0.10963270489335762),\n",
       " (307, 0.10118166781065008),\n",
       " (256, 0.09281892129485787),\n",
       " (375, 0.08984621901891973),\n",
       " (170, 0.08782881252144237),\n",
       " (325, 0.08390640540546243),\n",
       " (358, 0.08259871712365713),\n",
       " (418, 0.06472228032596036),\n",
       " (267, 0.06294314066570232),\n",
       " (348, 0.06113510469232037),\n",
       " (210, 0.058346781859782204),\n",
       " (303, 0.05520149097941651),\n",
       " (322, 0.05498111763554032),\n",
       " (349, 0.04512860845746698),\n",
       " (394, 0.04337583373529462),\n",
       " (405, 0.041804327597002956),\n",
       " (383, 0.03484849298639136),\n",
       " (382, 0.030193493959815795),\n",
       " (287, 0.028031363746807474),\n",
       " (381, 0.01699208157301416),\n",
       " (169, 0.0140539768898993),\n",
       " (21, 0.01193979035511877),\n",
       " (134, 0.011422590655682859),\n",
       " (147, 0.010007979853153201),\n",
       " (29, 0.009532040934772829),\n",
       " (363, 0.0070869440997464),\n",
       " (253, 0.0070594356716257405),\n",
       " (37, 0.0070316352129795555),\n",
       " (278, 0.006924538321859695),\n",
       " (19, 0.006847234393622855),\n",
       " (163, 0.006356551586136572),\n",
       " (0, 0.006018516925990319),\n",
       " (184, 0.005909339745204609),\n",
       " (46, 0.0054780355023809155),\n",
       " (139, 0.005274075122081497),\n",
       " (201, 0.004635434475463867),\n",
       " (22, 0.004626147116697943),\n",
       " (343, 0.004309751180515593),\n",
       " (120, 0.004280259417229686),\n",
       " (38, 0.004134380616589488),\n",
       " (157, 0.004046799447124464),\n",
       " (194, 0.00394172085151478),\n",
       " (110, 0.0037733965268637233),\n",
       " (123, 0.003761443685167985),\n",
       " (400, 0.003674001130423095),\n",
       " (290, 0.003456461809266723),\n",
       " (42, 0.0034135366479689996),\n",
       " (406, 0.003406384371100848),\n",
       " (172, 0.0033336333995288505),\n",
       " (197, 0.003272829475978777),\n",
       " (24, 0.0032635313568457397),\n",
       " (58, 0.003035697865450754),\n",
       " (357, 0.003025435207558743),\n",
       " (111, 0.0030003922422301437),\n",
       " (326, 0.0029717558110145224),\n",
       " (224, 0.002939226283788753),\n",
       " (127, 0.0029279473113127973),\n",
       " (404, 0.002859846922275738),\n",
       " (271, 0.00283927825798137),\n",
       " (45, 0.0027046479868537356),\n",
       " (193, 0.0026836972482846303),\n",
       " (392, 0.0026810128784429165),\n",
       " (65, 0.0026453989365423417),\n",
       " (144, 0.0026440828684901395),\n",
       " (246, 0.002532025630037312),\n",
       " (421, 0.0025293834517642975),\n",
       " (70, 0.002512439187211519),\n",
       " (338, 0.0024833046393489067),\n",
       " (274, 0.0024071002767228926),\n",
       " (397, 0.0022530435074174997),\n",
       " (10, 0.0022411117455159698),\n",
       " (6, 0.0022364332591922782),\n",
       " (315, 0.0022092769055183144),\n",
       " (283, 0.0021298632672081545),\n",
       " (177, 0.0021274610818007933),\n",
       " (263, 0.00205386980337829),\n",
       " (146, 0.002044227419154248),\n",
       " (300, 0.002026666673355098),\n",
       " (2, 0.00201710625501437),\n",
       " (231, 0.0020020293817014532),\n",
       " (100, 0.001976052981791672),\n",
       " (294, 0.0019716497167952137),\n",
       " (373, 0.0019379853485818447),\n",
       " (141, 0.001935153059317843),\n",
       " (345, 0.0019100100981896675),\n",
       " (216, 0.0018717663961893545),\n",
       " (138, 0.0018664870336785489),\n",
       " (368, 0.0018568096616516866),\n",
       " (298, 0.0017368871210930474),\n",
       " (268, 0.0017295745982886957),\n",
       " (137, 0.0017211484207618226),\n",
       " (167, 0.0016642175212215333),\n",
       " (264, 0.0016528125737619425),\n",
       " (176, 0.0016527340398294504),\n",
       " (179, 0.0016246427712405594),\n",
       " (412, 0.0016238055882224882),\n",
       " (240, 0.0015894414602051455),\n",
       " (88, 0.0015742974615800393),\n",
       " (289, 0.0015691185278410718),\n",
       " (188, 0.0015361408906938107),\n",
       " (417, 0.001533774488606957),\n",
       " (387, 0.001528763297658756),\n",
       " (191, 0.0014919474886764517),\n",
       " (250, 0.0014827738186885394),\n",
       " (398, 0.0014766637275680956),\n",
       " (370, 0.0014665895443505535),\n",
       " (71, 0.0014542754148098734),\n",
       " (332, 0.001449048441557634),\n",
       " (415, 0.0014089392451986393),\n",
       " (4, 0.0013775243483523482),\n",
       " (305, 0.0013535305007131699),\n",
       " (258, 0.0013444968055360063),\n",
       " (158, 0.0013297229428694106),\n",
       " (11, 0.0013164996827450192),\n",
       " (276, 0.001294014783884475),\n",
       " (227, 0.001281582016093159),\n",
       " (33, 0.001276583060861866),\n",
       " (344, 0.0012345092702360464),\n",
       " (292, 0.0012064414340951523),\n",
       " (69, 0.0012028992469845625),\n",
       " (237, 0.001201711131745251),\n",
       " (77, 0.0011775462074972143),\n",
       " (165, 0.0011572648424346312),\n",
       " (155, 0.0011513938633308048),\n",
       " (337, 0.0011264310816631188),\n",
       " (99, 0.0010734210973117869),\n",
       " (252, 0.0010696347150918532),\n",
       " (329, 0.001036502847161078),\n",
       " (407, 0.0009244127310948404),\n",
       " (351, 0.0009193355809487424),\n",
       " (279, 0.0008932516129641126),\n",
       " (32, 0.0008677302172564271),\n",
       " (254, 0.0008572860089279195),\n",
       " (347, 0.000840500328805652),\n",
       " (140, 0.0008321716415858469),\n",
       " (235, 0.0007571504450809303),\n",
       " (211, 0.0007315074313788006),\n",
       " (98, 0.0006962168858478335),\n",
       " (64, 0.0005632517514282556),\n",
       " (273, 0.0005591994683531362),\n",
       " (342, 0.0004948983100179565),\n",
       " (82, 0.0004934493942489367),\n",
       " (293, 0.00013747348778046087),\n",
       " (1, 0.0),\n",
       " (3, 0.0),\n",
       " (5, 0.0),\n",
       " (7, 0.0),\n",
       " (8, 0.0),\n",
       " (9, 0.0),\n",
       " (12, 0.0),\n",
       " (13, 0.0),\n",
       " (14, 0.0),\n",
       " (15, 0.0),\n",
       " (16, 0.0),\n",
       " (17, 0.0),\n",
       " (18, 0.0),\n",
       " (20, 0.0),\n",
       " (23, 0.0),\n",
       " (25, 0.0),\n",
       " (26, 0.0),\n",
       " (27, 0.0),\n",
       " (28, 0.0),\n",
       " (30, 0.0),\n",
       " (31, 0.0),\n",
       " (34, 0.0),\n",
       " (35, 0.0),\n",
       " (36, 0.0),\n",
       " (39, 0.0),\n",
       " (40, 0.0),\n",
       " (41, 0.0),\n",
       " (43, 0.0),\n",
       " (44, 0.0),\n",
       " (47, 0.0),\n",
       " (48, 0.0),\n",
       " (49, 0.0),\n",
       " (50, 0.0),\n",
       " (51, 0.0),\n",
       " (52, 0.0),\n",
       " (53, 0.0),\n",
       " (54, 0.0),\n",
       " (55, 0.0),\n",
       " (56, 0.0),\n",
       " (57, 0.0),\n",
       " (59, 0.0),\n",
       " (60, 0.0),\n",
       " (61, 0.0),\n",
       " (62, 0.0),\n",
       " (63, 0.0),\n",
       " (66, 0.0),\n",
       " (67, 0.0),\n",
       " (68, 0.0),\n",
       " (72, 0.0),\n",
       " (73, 0.0),\n",
       " (74, 0.0),\n",
       " (75, 0.0),\n",
       " (76, 0.0),\n",
       " (78, 0.0),\n",
       " (79, 0.0),\n",
       " (80, 0.0),\n",
       " (81, 0.0),\n",
       " (83, 0.0),\n",
       " (84, 0.0),\n",
       " (85, 0.0),\n",
       " (86, 0.0),\n",
       " (87, 0.0),\n",
       " (89, 0.0),\n",
       " (90, 0.0),\n",
       " (91, 0.0),\n",
       " (92, 0.0),\n",
       " (93, 0.0),\n",
       " (94, 0.0),\n",
       " (95, 0.0),\n",
       " (96, 0.0),\n",
       " (97, 0.0),\n",
       " (101, 0.0),\n",
       " (102, 0.0),\n",
       " (103, 0.0),\n",
       " (104, 0.0),\n",
       " (105, 0.0),\n",
       " (106, 0.0),\n",
       " (107, 0.0),\n",
       " (108, 0.0),\n",
       " (109, 0.0),\n",
       " (112, 0.0),\n",
       " (113, 0.0),\n",
       " (114, 0.0),\n",
       " (115, 0.0),\n",
       " (116, 0.0),\n",
       " (117, 0.0),\n",
       " (118, 0.0),\n",
       " (119, 0.0),\n",
       " (121, 0.0),\n",
       " (122, 0.0),\n",
       " (124, 0.0),\n",
       " (125, 0.0),\n",
       " (126, 0.0),\n",
       " (128, 0.0),\n",
       " (129, 0.0),\n",
       " (130, 0.0),\n",
       " (131, 0.0),\n",
       " (132, 0.0),\n",
       " (133, 0.0),\n",
       " (135, 0.0),\n",
       " (136, 0.0),\n",
       " (142, 0.0),\n",
       " (143, 0.0),\n",
       " (145, 0.0),\n",
       " (148, 0.0),\n",
       " (149, 0.0),\n",
       " (150, 0.0),\n",
       " (151, 0.0),\n",
       " (152, 0.0),\n",
       " (153, 0.0),\n",
       " (154, 0.0),\n",
       " (156, 0.0),\n",
       " (159, 0.0),\n",
       " (160, 0.0),\n",
       " (161, 0.0),\n",
       " (162, 0.0),\n",
       " (164, 0.0),\n",
       " (166, 0.0),\n",
       " (168, 0.0),\n",
       " (171, 0.0),\n",
       " (173, 0.0),\n",
       " (174, 0.0),\n",
       " (175, 0.0),\n",
       " (178, 0.0),\n",
       " (180, 0.0),\n",
       " (181, 0.0),\n",
       " (182, 0.0),\n",
       " (183, 0.0),\n",
       " (185, 0.0),\n",
       " (186, 0.0),\n",
       " (187, 0.0),\n",
       " (189, 0.0),\n",
       " (190, 0.0),\n",
       " (192, 0.0),\n",
       " (195, 0.0),\n",
       " (196, 0.0),\n",
       " (198, 0.0),\n",
       " (199, 0.0),\n",
       " (200, 0.0),\n",
       " (202, 0.0),\n",
       " (203, 0.0),\n",
       " (204, 0.0),\n",
       " (205, 0.0),\n",
       " (206, 0.0),\n",
       " (207, 0.0),\n",
       " (208, 0.0),\n",
       " (209, 0.0),\n",
       " (212, 0.0),\n",
       " (213, 0.0),\n",
       " (214, 0.0),\n",
       " (215, 0.0),\n",
       " (217, 0.0),\n",
       " (218, 0.0),\n",
       " (219, 0.0),\n",
       " (220, 0.0),\n",
       " (221, 0.0),\n",
       " (222, 0.0),\n",
       " (223, 0.0),\n",
       " (225, 0.0),\n",
       " (226, 0.0),\n",
       " (228, 0.0),\n",
       " (229, 0.0),\n",
       " (230, 0.0),\n",
       " (232, 0.0),\n",
       " (233, 0.0),\n",
       " (234, 0.0),\n",
       " (236, 0.0),\n",
       " (238, 0.0),\n",
       " (239, 0.0),\n",
       " (241, 0.0),\n",
       " (242, 0.0),\n",
       " (243, 0.0),\n",
       " (244, 0.0),\n",
       " (245, 0.0),\n",
       " (247, 0.0),\n",
       " (248, 0.0),\n",
       " (249, 0.0),\n",
       " (251, 0.0),\n",
       " (255, 0.0),\n",
       " (257, 0.0),\n",
       " (259, 0.0),\n",
       " (260, 0.0),\n",
       " (261, 0.0),\n",
       " (262, 0.0),\n",
       " (265, 0.0),\n",
       " (266, 0.0),\n",
       " (269, 0.0),\n",
       " (270, 0.0),\n",
       " (272, 0.0),\n",
       " (275, 0.0),\n",
       " (277, 0.0),\n",
       " (280, 0.0),\n",
       " (281, 0.0),\n",
       " (282, 0.0),\n",
       " (284, 0.0),\n",
       " (285, 0.0),\n",
       " (286, 0.0),\n",
       " (288, 0.0),\n",
       " (291, 0.0),\n",
       " (295, 0.0),\n",
       " (296, 0.0),\n",
       " (297, 0.0),\n",
       " (299, 0.0),\n",
       " (301, 0.0),\n",
       " (302, 0.0),\n",
       " (304, 0.0),\n",
       " (306, 0.0),\n",
       " (308, 0.0),\n",
       " (309, 0.0),\n",
       " (310, 0.0),\n",
       " (311, 0.0),\n",
       " (312, 0.0),\n",
       " (313, 0.0),\n",
       " (314, 0.0),\n",
       " (316, 0.0),\n",
       " (317, 0.0),\n",
       " (318, 0.0),\n",
       " (319, 0.0),\n",
       " (320, 0.0),\n",
       " (321, 0.0),\n",
       " (323, 0.0),\n",
       " (324, 0.0),\n",
       " (327, 0.0),\n",
       " (328, 0.0),\n",
       " (330, 0.0),\n",
       " (331, 0.0),\n",
       " (334, 0.0),\n",
       " (335, 0.0),\n",
       " (336, 0.0),\n",
       " (339, 0.0),\n",
       " (340, 0.0),\n",
       " (341, 0.0),\n",
       " (346, 0.0),\n",
       " (350, 0.0),\n",
       " (352, 0.0),\n",
       " (353, 0.0),\n",
       " (354, 0.0),\n",
       " (355, 0.0),\n",
       " (356, 0.0),\n",
       " (359, 0.0),\n",
       " (360, 0.0),\n",
       " (361, 0.0),\n",
       " (362, 0.0),\n",
       " (364, 0.0),\n",
       " (365, 0.0),\n",
       " (366, 0.0),\n",
       " (367, 0.0),\n",
       " (371, 0.0),\n",
       " (372, 0.0),\n",
       " (374, 0.0),\n",
       " (376, 0.0),\n",
       " (377, 0.0),\n",
       " (378, 0.0),\n",
       " (379, 0.0),\n",
       " (380, 0.0),\n",
       " (384, 0.0),\n",
       " (385, 0.0),\n",
       " (386, 0.0),\n",
       " (388, 0.0),\n",
       " (389, 0.0),\n",
       " (390, 0.0),\n",
       " (391, 0.0),\n",
       " (393, 0.0),\n",
       " (395, 0.0),\n",
       " (396, 0.0),\n",
       " (399, 0.0),\n",
       " (401, 0.0),\n",
       " (402, 0.0),\n",
       " (403, 0.0),\n",
       " (408, 0.0),\n",
       " (409, 0.0),\n",
       " (410, 0.0),\n",
       " (411, 0.0),\n",
       " (413, 0.0),\n",
       " (414, 0.0),\n",
       " (416, 0.0),\n",
       " (419, 0.0),\n",
       " (420, 0.0)]"
      ]
     },
     "execution_count": 219,
     "metadata": {},
     "output_type": "execute_result"
    }
   ],
   "source": [
    "fetch_docs(queries[0])"
   ]
  },
  {
   "cell_type": "code",
   "execution_count": 212,
   "id": "92f2bbd5",
   "metadata": {},
   "outputs": [
    {
     "data": {
      "text/plain": [
       "'SOUTH VIET NAM COPING WITH CAPRICORN IN BUSINESS, COUNT THE\\n\\nCOSTS BEFORE YOU ACT . THE MOON NOW IN CAPRICORN SUGGESTS KEEPING\\n\\nPRACTICAL VALUES IN MIND . TOMORROW IS RATHER TOO ENERGETIC FOR\\n\\nCOMFORT, BUT THAT MAY BE BECAUSE EVERYBODY IS ON THE MOVE . A LATE\\n\\nAUGUST HOROSCOPE SYNDICATED HOROSCOPES, MANY OF THEM FROM ABROAD, ARE\\n\\nPOPULAR FEATURES IN MANY SOUTH VIETNAMESE NEWSPAPERS, BUT LAST WEEK THE\\n\\nGOVERNMENT BANNED THEM, PRESUMABLY ON THE THEORY THAT\\n\\nSOME STAR-MINDED DISSIDENT MIGHT BE MOVED TO TRY A COUP ON AN\\n\\nASTROLOGICALLY AUSPICIOUS DAY . IN SOUTH VIET NAM EVERYBODY WAS INDEED\\n\\nON THE MOVE, BUT WHERE THEY WERE MOVING WAS NO CLEARER THAN THE ZODIAC\\n\\n. THE U.S . WAS INCREASINGLY UNHAPPY WITH PRESIDENT NGO DINH DIEM\\n\\n(CAPRICORN), AND AFTER WHAT THE U.S . OFFICIALLY CALLED HIS \" BRUTAL \"\\n\\nCRACKDOWN ON THE BUDDHISTS, WASHINGTON OBVIOUSLY COULD NOT STRING ALONG\\n\\nWITH HIM AS IF NOTHING HAD HAPPENED . SO THE U.S . MADE NOISES DESIGNED\\n\\nTO ENCOURAGE OPPOSITION TO DIEM . BUT SOUTH VIET NAM BEING WHAT IT IS,\\n\\nPOTENTIAL REBELS DID NOT WANT TO MOVE WITHOUT VIRTUALLY A WRITTEN\\n\\nCONTRACT FOR U.S . SUPPORT . MEANWHILE THE U.S . TRIED TO PLACE THE\\n\\nODIUM OF THE CRACKDOWN ON DIEM\\'S BROTHER, NGO DINH NHU (LIBRA), AND\\n\\nNEW AMBASSADOR HENRY CABOT LODGE (CANCER) MANAGED TO SUGGEST, WITHOUT\\n\\nSAYING ANYTHING PUBLICLY, THAT HE DID NOT LIKE WHAT WAS GOING ON . THE\\n\\nSIEGE . A WEEK AFTER THE GOVERNMENT\\'S CRACKDOWN, SAIGON LOOKED LIKE A\\n\\nCITY UNDER SIEGE . HEAVILY ARMED SPECIAL FORCES UNITS GUARDED ALL KEY\\n\\nINSTALLATIONS . MOBILE \" ANTI-SUICIDE ? \\' SQUADS\\n\\nPATROLLED THE STREETS, READY TO DOUSE ANY FURTHER BUDDHIST ATTEMPTS AT\\n\\nSELF-IMMOLATION . AND ANTI-AIRCRAFT BATTERY WAS ROLLED INTO POSITION\\n\\nOUTSIDE SAIGON\\'S PRESIDENTIAL PALACE ; SINCE THE COMMUNIST VIET CONG\\n\\nHAVE NO PLANES, THE GOVERNMENT EVIDENTLY FEARED AN ATTACK FROM ITS OWN\\n\\nFORCE . HAVING JAILED MOST BUDDHIST LEADERS, THE REGIME MOVED TO\\n\\nSILENCE OTHER VOCAL OPPOSITION SAIGON\\'S SEETHING STUDENT POPULATION .\\n\\nIN THE CITY\\'S CROWDED MARKETPLACE AND NEAR SAIGON UNIVERSITY,\\n\\nRIFLE-TOTING COMBAT POLICE IN CAMOUFLAGE UNIFORMS ARRESTED ALL YOUTHS\\n\\nOF HIGH SCHOOL AND COLLEGE AGE IN SIGHT AND\\n\\nMME . NHU DOES NOT REVEAL THE DAY OR MONTH\\n\\nOF HER BIRTH, BUT THERE IS SPECULATION THAT SHE MAY BE ARIES ( \" VERY\\n\\nIMPORTANT TO\\n\\nWIN THE TEST OF WILLS \" ) OR LEO ( \" IF\\n\\nCROSSED, ROARS LIKE A LION, LACKS UNDERSTANDING OF WHAT IS IN THE MINDS\\n\\nOF OTHERS \" ) . HAULED THEM OFF TO DETENTION\\n\\nCAMPS ON THE OUTSKIRTS . THROUGHOUT THE CITY, BLUE-UNIFORMED MEMBERS OF\\n\\nNHU\\'S REPUBLICAN YOUTH ORGANIZATION MADE DOOR-TO-DOOR CALLS, WARNING\\n\\nAGAINST PUBLIC CRITICISM OF THE GOVERNMENT ON PAIN OF ARREST . SCHOOLS\\n\\nWERE CLOSED UNTIL FURTHER NOTICE, AND SCHEDULED ELECTIONS FOR THE\\n\\nNORMALLY RUBBER-STAMP, 123-MEMBER NATIONAL ASSEMBLY WERE POSTPONED .\\n\\nOVER RADIO SAIGON, THICH TINH KHIET, 80, HEAD OF THE GENERAL BUDDHIST\\n\\nASSOCIATION, PLEDGED HIS LOYALTY TO THE GOVERNMENT, BUT A NEWSPAPER\\n\\nPICTURE CLEARED BY INATTENTIVE CENSORS SHOWED THE AGED MONK WITH A\\n\\nBLACK EYE AND BRUISES ALL OVER HIS FACE . THE GOVERNMENT EXPLAINED THAT\\n\\nHE HAD FALLEN DOWN . IN OTHER RESPECTS, CENSORSHIP WAS STRINGENT . IN\\n\\nOUTGOING CABLES FROM NEWSMEN, THE WORD CATHOLIC WAS BLUE-PENCILED ;\\n\\nAFTER PASSING THE CENSORS, ONE STORY REFERRED TO \" ROMAN PRESIDENT NGO\\n\\nDINH DIEM . \" THE GENERALS . AT WEEK\\'S END MARTIAL LAW WAS GRADUALLY\\n\\nEASED, AND SOME BUDDHISTS AND STUDENTS WERE FREED . THERE WAS LITTLE\\n\\nDOUBT THAT NHU WAS IN LARGE MEASURE RESPONSIBLE FOR RUNNING THINGS, BUT\\n\\nTHERE WAS NO EVIDENCE THAT HE WAS SUPPLANTING HIS BROTHER ; AS FAR AS\\n\\nCOULD BE DETECTED, THE TWO WERE WORKING IN HARMONY . DIRECTLY UNDER\\n\\nNHU, TWO OFFICERS SEEMED TO BE IN COMMAND : BESPECTACLED, POCKMARKED\\n\\nCOLONEL LE QUANG TUNG, IN CHARGE OF THE SPECIAL FORCES, AND BRIGADIER\\n\\nGENERAL TON THAT DINH, COMMANDER OF THE III ARMY\\n\\nCORPS AND MILITARY GOVERNOR OF SAIGON, A DAPPER GRADUATE OF THE U.S .\\n\\nCOMMAND AND GENERAL STAFF SCHOOL AT FORT LEAVENWORTH, WHO WEARS A RED\\n\\nBERET, CARRIES A SWAGGER STICK, AND LIKES TO BE ACCOMPANIED ON MILITARY\\n\\nOPERATIONS BY HIS OWN PHOTOGRAPHER . OF SOUTH VIET NAM\\'S 17 GENERALS,\\n\\nDINH IS ONE OF TWO WHO ACTUALLY HAVE TROOPS AT THEIR DISPOSAL ; THE\\n\\nOTHER, BRIGADIER GENERAL NGUYEN KHANH, IS LOCATED IN A FIGHTING AREA\\n\\nHUNDREDS OF MILES NORTH OF SAIGON . MOST OF THE OTHER GENERALS HAVE\\n\\nBEEN DEPRIVED OF REAL POWER BY DIEM AND NHU, AND HAVE\\n\\nBEEN BROUGHT TO SAIGON WHERE THEY CAN BE WATCHED . AT A TIME WHEN THE\\n\\nARMY IS MORE IMPORTANT THAN EVER IN THE SOUTH VIET NAM SITUATION, THESE\\n\\nOFFICERS ARE CAREFULLY SCRUTINIZED IN WASHINGTON . AMONG THEM : MAJOR\\n\\nGENERAL TRAN VAN DON, CHIEF OF THE GENERAL STAFF AND TECHNICALLY IN\\n\\nCHARGE OF ADMINISTERING THE COUNTRY UNDER MARTIAL LAW . ACTUALLY HE\\n\\nCOMMANDS ONLY A BODYGUARD OF 50 TROOPS, AND AT THE MOMENT IS CONSIDERED\\n\\nA FIGUREHEAD . BRIGADIER GENERAL TRAN TU OAI, AN ARTICULATE OFFICER\\n\\nWHOM NHU SIDETRACKED INTO THE POST OF DIRECTOR OF THE MALARIA\\n\\nERADICATION PROGRAM . \" I\\'M THE ONLY GENERAL IN THE ARMY, \" SAID TRAN,\\n\\n/ WHO IS ARMED WITH A SPRAY GUN . \" HE IS NOW CHIEF OF PSYCHOLOGICAL\\n\\nWARFARE . MAJOR GENERAL DUONG VAN MINH, A TOUGH, HUSKY TYPE WHOSE MOUTH\\n\\nIS FILLED WITH GOLD-CAPPED BROKEN TEETH AND WHO IS REGARDED AS ONE OF\\n\\nTHE BEST OFFICERS IN SOUTH VIET NAM . HE IS KNOWN AS \" BIG \" MINH, TO\\n\\nDISTINGUISH HIM FROM BRIGADIER GENERAL TRAN VAN MINH, OR \" LITTLE \"\\n\\nMINH, NO KIN . HE HAS NO COMMAND AT PRESENT, BUT\\n\\nSERVES AS DIEM\\'S \" MILITARY ASSISTANT . \" BRIGADIER GENERAL PHAM XUAN\\n\\nCHIEN, ONETIME DIRECTOR OF SECURITY SERVICES, WHO WAS SACKED BY NHU\\n\\nWHEN HIS AMBITIONS BEGAN TO GET OUT OF HAND . HE NOW HAS THE VIRTUALLY\\n\\nMEANINGLESS JOB OF ASSISTANT CHIEF OF STAFF . DETERMINED TO DISSOCIATE\\n\\nITSELF FROM DIEM\\'S ANTI-BUDDHIST POLICIES AND TO KEEP THE ARMY ON ITS\\n\\nSIDE THE U.S . FORMALLY ABSOLVED SOUTH VIET NAM\\'S MILITARY LEADERS OF\\n\\nRESPONSIBILITY IN NHU\\'S SACKING OF THE BUDDHIST TEMPLES . IN AN\\n\\nUNUSUALLY SHARP STATEMENT, WASHINGTON SAID THAT THE GENERALS WERE \" NOT\\n\\nAWARE OF THE PLANS TO ATTACK THE PAGODAS, MUCH LESS THE BRUTAL MANNER\\n\\nIN WHICH THEY WERE CARRIED OUT . \" SAIGON BITTERLY DENIED THE\\n\\nWASHINGTON STATEMENT PRODUCED A DOCUMENT SIGNED BY ARMY LEADERS TO THE\\n\\nEFFECT THAT THEY HAD ASKED THE GOVERNMENT TO TAKE THE ACTION\\n\\nIT DID . \" TOP U.S . INTELLIGENCE OFFICIALS COUNTERED THAT ARMY\\n\\nLEADERS HAD BEEN COERCED INTO SIGNING THE DOCUMENT . THE ALTERNATIVE .\\n\\nIN A COUNTRY WHERE INTRIGUE AND DOUBLE-DEALING ARE ENDEMIC, THE ARMY\\n\\nOFFICERS ARE FAR FROM UNITED . BUT ONE TOP VIETNAMESE OFFICIAL SECRETLY\\n\\nIN CONTACT WITH ARMY DISSIDENTS MAINTAINS THAT A COUP CAN AND WILL BE\\n\\nSTAGED, THAT BOTH THE MARINES AND THE AIR FORCE WOULD JOIN IN ANY\\n\\nUPRISING, AND THAT THERE ARE ENOUGH DISAFFECTED ARMY UNITS IN SAIGON\\n\\nITSELF TO NEUTRALIZE TUNG\\'S SPECIAL FORCES . AT WEEK\\'S END THERE WERE\\n\\nMUFFLED REPORTS THAT, MEETING IN TWOS AND THREES, OFFICERS HAD AGREED\\n\\nON A LEADER WHO WOULD BE WILLING TO KEEP DIEM AS TITULAR HEAD OF STATE\\n\\nIF NHU, HIS WIFE, AND BROTHER THUC, ARCHBISHOP OF HUE, WERE ELIMINATED\\n\\n. NO MATTER HOW REAL THE OPPOSITION TO DIEM, THE DISSIDENTS ARE\\n\\nOBVIOUSLY AFRAID THAT THE U.S . MIGHT NOT FULLY BACK THEM IN A COUP .\\n\\nAS A FIRST SIGN OF U.S . SUPPORT, THEY WANT WASHINGTON TO ANNOUNCE\\n\\nCESSATION OF AID TO THE DIEM REGIME . THIS THE U.S . IS NOT PREPARED TO\\n\\nDO BECAUSE IT WOULD ONLY SLASH WHATEVER INFLUENCE THE U.S . HAS IN\\n\\nSOUTH VIET NAM . BESIDES, THE U.S . BELIEVES THAT THE DIEM REGIME CAN\\n\\nKEEP GOING FOR PERHAPS A YEAR EVEN WITHOUT U.S . AID . IF THE\\n\\nOPPOSITION SEEMS TO BELIEVE THAT THE U.S . CANNOT BE COUNTED ON, THE\\n\\nU.S . RECIPROCATES THE FEELING . AS OF LAST WEEK, AT LEAST ONE MAJOR\\n\\nPOLICYMAKER IN THE STATE DEPARTMENT FELT THAT THE SOLUTION WAS NOT TO\\n\\nTRY TO FORCE OUT DIEM BUT TO FORCE HIM INTO MORE ACCEPTABLE BEHAVIOR\\n\\nPOSSIBLY CURBING BROTHER NHU AND TAKING OTHER MEASURES TO REDEEM\\n\\nHIMSELF WITH THE BUDDHISTS . CRITICS OF THIS POLICY POINT OUT THAT \"\\n\\nCONTROLLING \" DIEM HAS BEEN A U.S . AIM FOR YEARS, AND THAT NO ONE HAS\\n\\nYET MANAGED TO DO IT SUCCESSFULLY ; THEY ALSO BELIEVE THAT DIEM WILL\\n\\nNEVER REALLY BREAK WITH NHU OR ANY OTHER MEMBER OF HIS FAMILY . IN\\n\\nTHEIR VIEW, DIEM IS NOW HOPELESSLY DISCREDITED, AND THEY URGE A\\n\\nDIFFERENT CIVILIAN RULER POSSIBLY VICE PRESIDENT NGUYEN NGOE THO, WHO\\n\\nHAS OPENLY DISAGREED WITH DIEM BACKED BY SOME EFFICIENT OFFICERS . JUST\\n\\nHOW THIS CAN BE ACCOMPLISHED IS ANOTHER QUESTION . THE WAR . AS IF THE\\n\\nSITUATION IN SAIGON WERE NOT COMPLICATED ENOUGH, FRANCE\\'S CHARLES DE\\n\\nGAULLE CHOSE TO ENTER IT WITH AN ORACULAR STATEMENT THAT FRANCE\\n\\nSYMPATHIZED WITH \" THE TRIBULATIONS OF THE VIETNAMESE PEOPLE, \" AND\\n\\nPLEDGED \" CORDIAL COOPERATION \" WITH \" ALL VIET NAM \" IN ROOTING OUT \"\\n\\nFOREIGN INFLUENCE . \" HE CONVENIENTLY OVERLOOKED THE FACT THAT, HAD IT\\n\\nNOT BEEN FOR FRANCE\\'S OWN DISASTROUS DEFEAT IN ITS NINE-YEAR VIETNAMESE\\n\\nWAR, THE COUNTRY WOULD NOT BE IN ITS PRESENT MESS . APART FROM\\n\\nDELIBERATELY ANTAGONIZING THE U.S . AT A MOMENT WHEN IT WAS CAUGHT IN\\n\\nAN EXTREMELY DIFFICULT SITUATION, DE GAULLE SOUNDED AS IF HE WERE\\n\\nTRYING TO ENCOURAGE A UNITED VIET NAM, WITH NORTH AND SOUTH TOGETHER\\n\\nAGAIN BUT NEUTRALIZED . THE IDEA SEEMED TO BE SUPPORTED BY NONE OTHER\\n\\nTHAN NORTH VIET NAM\\'S HO CHI MINH, WHO LAST WEEK GLOWINGLY PREDICTED\\n\\nDIEM\\'S FALL, BUT HINTED THAT HE MIGHT BE FOLLOWED BY A NEUTRALIZED,\\n\\nLAOS-TYPE GOVERNMENT . BY CONTRAST, CHINA\\'S MAO TSE-TUNG, WHO ALSO\\n\\nCOMMENTED ON THE SOUTH VIET NAM SITUATION, SEEMED TO OPPOSE\\n\\nNEUTRALIZATION, AND PREDICTED THAT DIEM WOULD BE FOLLOWED BY JUST\\n\\nANOTHER \" U.S . LACKEY . \" IN SAIGON, AMBASSADOR LODGE, THOUGH PLAINLY\\n\\nPLAYING FOR TIME, TOOK HOLD FIRMLY . IN TALKS WITH BOTH DIEM AND NHU\\n\\n(THE LATTER DESCRIBED AS \" HOSTILE \" BY INSIDERS), LODGE EXPRESSED THE\\n\\nU.S.\\'S SHARP DISAPPROVAL OF THEIR REPRESSIVE POLICIES . POINTEDLY HE\\n\\nREJECTED THE GOVERNMENT\\'S DEMAND THAT THE U.S . TURN OVER TWO BUDDHIST\\n\\nMONKS WHO WERE GIVEN SANCTUARY IN THE U.S . AID MISSION BUILDING .\\n\\nLODGE\\'S DETERMINATION NOT TO BE BUFFALOED IMPRESSED TOP EMBASSY AIDES .\\n\\n/ I\\'M RUNNING THINGS HERE, AND I INTEND TO RUN THEM WITH A FIRM HAND, \"\\n\\nHE TOLD STAFFERS . \" IF WASHINGTON WANTS A WEASEL FOR THIS JOB, IT CAN\\n\\nFIND SOMEONE ELSE . \" LODGE\\'S FIRST TASK IS TO SEE THAT THE POLITICAL\\n\\nMANEUVERING DOES NOT AFFECT THE CONDUCT OF THE WAR AGAINST THE\\n\\nCOMMUNIST\\n\\nVIET CONG . AT LEAST ONE TROOP UNIT HAS BEEN MOVED FROM A FIGHTING ZONE\\n\\nINTO THE CAPITAL, AND OFFENSIVE MILITARY MISSIONS HAVE BEEN SOMEWHAT\\n\\nDIMINISHED . BUT SO FAR, THE WAR AGAINST THE REDS HASN\\'T BEEN\\n\\nRADICALLY HURT BY EVENTS IN SAIGON .\\n\\n'"
      ]
     },
     "execution_count": 212,
     "metadata": {},
     "output_type": "execute_result"
    }
   ],
   "source": [
    "docs[369]"
   ]
  },
  {
   "cell_type": "code",
   "execution_count": 213,
   "id": "f0b29b7a",
   "metadata": {},
   "outputs": [
    {
     "data": {
      "text/plain": [
       "'SOUTH VIET NAM THE CRACKDOWN OVER AND\\n\\nOVER, THE DESPERATE VOICE SHOUTED INTO THE TELEPHONE : \" THEY ARE\\n\\nBREAKING INTO XA LOI PAGODA . THEY ARE BREAKING INTO XA LOI PAGODA . \"\\n\\nIN THE BACKGROUND, GUNFIRE MINGLED WITH THE CONFUSED SCREAMS OF\\n\\nBUDDHIST MONKS AND NUNS AND THE CLANGING ALARM OF THE HUGE BRASS GONG\\n\\nTHAT HANGS IN THE BELL TOWER OF SAIGON\\'S LARGEST PAGODA . SUDDENLY THE\\n\\nPHONE CONNECTION FROM THE TEMPLE WENT DEAD . IT WAS 12 : 20 A.M .\\n\\nUSING THEIR RIFLE BUTTS AS CLUBS, SQUADS OF TOUGH, RIOTTRAINED \"\\n\\nSPECIAL FORCES \" SMASHED INTO THE PAGODA, BATTERING A PATH THROUGH A\\n\\nSMALL GUARD OF YOUNG BUDDHIST MONKS . THE TROOPERS HAD A LIST, AND EACH\\n\\nMONK ON THE LIST WAS CONSIDERED TO BE A \" COMMUNIST IN DISGUISE . \" ON\\n\\nTHE TEMPLE\\'S SECOND FLOOR, ONE MONK TRIED TO RESIST AND WAS THROWN\\n\\nBODILY FROM A BALCONY TO THE COURT-YARD 20 FT . BELOW . OTHER MONKS AND\\n\\nNUNS WERE ROUTED FROM BEHIND A FLIMSY BARRICADE OF WOODEN BENCHES AND\\n\\nFORCED OUTSIDE BY TEAR GAS AND GUNSHOTS . SACKING THE PAGODA\\'S MAIN\\n\\nALTAR, THE RAIDERS CARTED AWAY THE CHARRED HEART OF BUDDHIST MARTYR\\n\\nTHICH QUANG DUC, WHO LAST JUNE WAS THE FIRST OF FIVE BUDDHISTS TO BURN\\n\\nHIMSELF TO DEATH IN PROTEST AGAINST THE DIEM GOVERNMENT\\'S ANTIBUDDHIST\\n\\nDRIVE . BUT THE BUDDHISTS MANAGED TO SPIRIT OUT OF THE BUILDING THE\\n\\nRECEPTACLE HOLDING QUANG DUC\\'S ASHES . \" THE ASHES ARE HOLY, \" SAID ONE\\n\\nMONK . \" WE WOULD GIVE 15 LIVES TO DEFEND THEM . \" TWO OTHER MONKS\\n\\nESCAPED OVER THE BACK WALL OF XA LOI (PRONOUNCED SAH LOY) INTO THE\\n\\nGROUNDS OF THE ADJOINING U.S . AID MISSION, WHERE THEY WERE GIVEN\\n\\nTEMPORARY SANCTUARY . TO THE DIEM GOVERNMENT, THE CRACKDOWN OBVIOUSLY\\n\\nSEEMED NECESSARY TO PROTECT THE REGIME AND ENFORCE THE LAW OF THE LAND\\n\\nAGAINST BUDDHIST DEFIANCE . BUT IT WAS BRUTAL, NONETHELESS, AND IT\\n\\nAROUSED A STRONG NEW WAVE OF SYMPATHY FOR THE BUDDHISTS . IT ALSO PUT\\n\\nU.S . POLICY IN SOUTH VIET NAM, WHICH INVOLVES THE LIVES AND SAFETY OF\\n\\n14,000 U.S . TROOPS, INTO AN AGONIZING DILEMMA . WHILE OFTEN UNHAPPY\\n\\nWITH DIEM, THE U.S . HAS PROCEEDED ON THE ASSUMPTION THAT IT WAS SAFER\\n\\nTO STICK WITH HIM THAN RISK THE CHAOS THAT MIGHT SURROUND A SWITCH TO A\\n\\nNEW, UNKNOWN AND UNPREDICTABLE REGIME . BUT BY HIS MOVE AGAINST THE\\n\\nBUDDHIST MONKS, WHO HAVE THE GROWING SUPPORT OF THE COUNTRY\\'S VAST\\n\\nBUDDHIST MAJORITY, ROMAN CATHOLIC DIEM MAY FINALLY HAVE SHATTERED HIS\\n\\nOWN POLITICAL USEFULNESS . HE ALSO OPENED UP THE POSSIBILITIES OF\\n\\nCOUPS, COUNTER-COUPS, AND EVEN CIVIL WAR FROM ALL OF WHICH ONLY THE\\n\\nCOMMUNIST VIET CONG COULD BENEFIT . BOOLA, BOOLA . UNTIL LAST WEEK,\\n\\nPRODDED BY THE U.S., DIEM HAD DISPLAYED AN APPARENT WILLINGNESS TO\\n\\nCONCILIATE THE BUDDHISTS . FEELING BETRAYED BY DIEM\\'S CRACKDOWN, ONE\\n\\nRANKING U.S . EMBASSY OFFICER SAID : \" ALL THE TIME THEY\\'VE BEEN\\n\\nPREACHING CONCILIATION TO US, THEY\\'VE EVIDENTLY BEEN PLANNING JUST THE\\n\\nOPPOSITE . \" THE BUDDHIST CRISIS HAD BEGUN AS A RELIGIOUS ONE, BUT\\n\\nGRADUALLY TURNED INTO A MAJOR POLITICAL CONFLICT . THE BUDDHISTS ARE\\n\\nFAR FROM PASSIVE MARTYRS . THEIR RELIGIOUS AND SOCIAL DEMANDS A FAIRLY\\n\\nMODEST PACKAGE DEMANDING FULL EQUALITY WITH THE COUNTRY\\'S ROMAN\\n\\nCATHOLICS HAD NEVER SOUNDED CRUCIAL, ESPECIALLY SINCE EVEN DIEM\\'S WORST\\n\\nENEMIES COULD NOT POINT TO ANY REAL ANTI-BUDDHIST DISCRIMINATION OR\\n\\nPERSECUTION . BUT WHEN GOVERNMENT TROOPS STUPIDLY KILLED 13 BUDDHISTS\\n\\nIN A DEMONSTRATION IN HUE (PRONOUNCED WHEY) FOUR MONTHS AGO, THE\\n\\nBUDDHISTS MADE THE CLEARLY POLITICAL DEMAND THAT THE GOVERNMENT ACCEPT\\n\\n/ RESPONSIBILITY \" FOR THE INCIDENT . SINCE THEN, THE BUDDHISTS HAVE\\n\\nDEVELOPED INTO A SERIOUS OPPOSITION MOVEMENT . PAGODAS, SPORTING\\n\\nPROTEST SIGNS IN VIETNAMESE AND ENGLISH, BECAME COMMAND POSTS WHERE\\n\\nDUPLICATING MACHINES GROUND OUT HUNDREDS OF THOUSANDS OF MESSAGES, AND\\n\\nTHE SOUND OF TYPEWRITERS AND TELEPHONES BLENDED WITH THE BOOM OF TEMPLE\\n\\nGONGS . APPEALS FOR AID WERE BROADCAST TO PRESIDENT KENNEDY, POPE PAUL\\n\\nVI, AND U.N . SECRETARY-GENERAL U THANT . AT A GRISLY, WELL-ORGANIZED\\n\\nPRESS CONFERENCE IN SAIGON, BUDDHIST LEADERS INTRODUCED A TINY,\\n\\nWITHERED BUDDHIST NUN AS A CANDIDATE FOR SELF-IMMOLATION IN PROTEST\\n\\nAGAINST THE DIEM GOVERNMENT . WHEN ONE BUDDHIST SPOKESMAN WHO HAD\\n\\nSTUDIED AT YALE WANTED TO PASS OUT THE LATEST COMMUNIQUES FROM THE\\n\\nPAGODA, HE WOULD STROLL UP TO A YALE-EDUCATED U.S . NEWSMAN AND SAY :\\n\\n/ BOOLA, BOOLA . /\\n\\nIN THE EARLY PHASES OF THE QUARREL, DIEM\\n\\nPROBABLY COULD AND SHOULD HAVE CONCILIATED THE BUDDHISTS . BUT HE\\n\\nVACILLATED . HIS BROTHER AND SISTER-IN-LAW, NGO DINH NHU AND MME . NHU,\\n\\nINSISTED THAT UNLESS THE BUDDHISTS WERE CRUSHED, THERE WOULD BE A COUP\\n\\nTHREATENING THE VERY EXISTENCE OF THE FAMILY\\'S RULE . MME . NHU\\'S FIERY\\n\\nPHILIPPICS LENT IMPETUS TO THE BUDDHIST MOVEMENT JUST AS IT APPEARED TO\\n\\nBE FLAGGING . BY LAST WEEK, AFTER THREE BUDDHIST SUICIDES SPURRED NEW\\n\\nPROTEST DEMONSTRATIONS THROUGHOUT THE COUNTRY, IT WAS CLEARLY TOO LATE\\n\\nFOR CONCILIATION . EVEN IF DIEM HAD WANTED IT, THE BUDDHIST LEADERS\\n\\nTHEMSELVES NO LONGER WANTED IT ; THEY WERE PLAINLY DETERMINED TO PRESS\\n\\nTHEIR ADVANTAGE . AND SO THE GOVERNMENT EVIDENTLY YIELDED TO NHU\\'S\\n\\nGET-TOUGH POLICY . ROPE TRICK . THE CRACKDOWN IN SAIGON WAS DUPLICATED\\n\\nALL OVER SOUTH VIET NAM, AND MORE THAN 1,000 PEOPLE WERE IMPRISONED .\\n\\nIN THE BUDDHIST STRONGHOLD OF HUE, THE APPROACH OF GOVERNMENT TROOPS\\n\\nWAS SIGNALED BY THE BEATING OF TEMPLE DRUMS AND THE CLASHING OF CYMBALS\\n\\nCALLING FOR HELP . BEATING POTS AND PANS TO ROUSE THEIR NEIGHBORS, THE\\n\\nANGRY POPULACE POURED FROM HOMES AND RACED TO DEFEND THE CITY\\'S TEMPLES\\n\\n. AT TU DAM PAGODA, MONKS TRIED TO TURN THE COFFIN OF A PRIEST WHO HAD\\n\\nBURNED HIMSELF ALIVE IN THE BUDDHIST SUICIDE PROTEST WAVE . BUT\\n\\nGOVERNMENT SOLDIERS, FIRING M1 RIFLES AS THEY ADVANCED, OVERRAN THE\\n\\nTEMPLE, SNATCHED THE SMOLDERING COFFIN AWAY, AND SMASHED A STATUE OF\\n\\nGAUTAMA BUDDHA . FROM THE TEMPLE\\'S TREASURY THEY TOOK AN ESTIMATED\\n\\n$30,000 AND LEFT THE PAGODA A GUTTED RUIN . NEAR HUE\\'S DIEU DE PAGODA,\\n\\nTHE GOVERNMENT FORCES MET THEIR FIRST DETERMINED RESISTANCE . AS TROOPS\\n\\nTRIED TO STRETCH A BARBED-WIRE BARRICADE ACROSS THE BRIDGE LEADING TO\\n\\nTHE TEMPLE, A MOB TORE IT DOWN WITH BARE HANDS . WITH FISTS, ROCKS AND\\n\\nSHARPENED STICKS, THE CROWD FOUGHT THE HEAVILY ARMED TROOPS FOR THE\\n\\nBRIDGE . TEAR-GAS GRENADES THROWN BY THE SOLDIERS WERE CAUGHT AND\\n\\nTHROWN RIGHT BACK AT THEM . WHEN TROOPS TRIED TO CLEAR A WAY THROUGH\\n\\nTHE BRIDGE DEFENDERS WITH THEIR RIFLE BUTTS, THE CROWD TORE THE WEAPONS\\n\\nFROM THEIR HANDS AND JABBED THE SOLDIERS IN THE GROIN . AFTER A\\n\\nFIVE-HOUR PITCHED BATTLE, THE GOVERNMENT FINALLY WON CONTROL OF THE\\n\\nBRIDGE AT DAYBREAK BY DRIVING ARMORED CARS THROUGH THE SCREAMING,\\n\\nSPITTING, SWEARING MOB . THE DEFENSE OF THE BRIDGE AND THE TEMPLE COST\\n\\nTHE TOWNSPEOPLE AN ESTIMATED 30 DEAD AND 200 WOUNDED . TEN TRUCKLOADS\\n\\nOF BRIDGE DEFENDERS WERE CARTED AWAY TO JAIL, MANY STREAMING BLOOD, AND\\n\\nAN ESTIMATED 500 PEOPLE WERE ARRESTED THROUGHOUT THE CITY, INCLUDING 17\\n\\nOF THE 47 HUE UNIVERSITY PROFESSORS WHO HAD RESIGNED EARLIER IN THE\\n\\nWEEK IN PROTEST AGAINST THE FIRING OF THE SCHOOL\\'S RECTOR, A CATHOLIC\\n\\nPRIEST AND AN OPPONENT OF DIEM\\'S BROTHER, ARCHBISHOP NGO DINH THUC .\\n\\nTHOUGH A 24-HOUR CURFEW WAS CLAMPED ON HUE, THE CITY\\'S RESIDENTS WERE\\n\\nSTILL DEFIANT . ONE BUDDHIST MONK FLED THROUGH THE STREETS HOTLY\\n\\nPURSUED BY THREE GOVERNMENT TROOPERS . THE PRIEST RACED DOWN AN ALLEY\\n\\nAT WHOSE ENTRANCE SAT AN AGED VIETNAMESE WOMAN . AS THE SOLDIERS TURNED\\n\\nINTO THE ALLEY, THE WOMAN PULLED TIGHTLY ON A ROPE STRETCHED ACROSS THE\\n\\nSTREET, BRINGING ALL THREE SOLDIERS TUMBLING DOWN . THEN SHE SCUTTLED\\n\\nAWAY TO SAFETY . ARTICLE 44 . AT 6 A.M., RADIO SAIGON CRACKLED TO LIFE\\n\\nAND PRESIDENT DIEM CAME ON THE AIR . \" UNDER ARTICLE 44 OF THE\\n\\nCONSTITUTION, \" HE SAID, \" I DECLARE A STATE OF SIEGE THROUGHOUT THE\\n\\nNATIONAL TERRITORY . I CONFER UPON THE ARMY OF THE REPUBLIC OF VIET NAM\\n\\nTHE RESPONSIBILITY TO RESTORE SECURITY AND PUBLIC ORDER SO THAT THE\\n\\nSTATE MAY BE PROTECTED, COMMUNISM DEFEATED, FREEDOM SECURED, AND\\n\\nDEMOCRACY ACHIEVED . \" UNDER THE MARTIAL LAW PROCLAMATION, THE ARMY WAS\\n\\nGIVEN BLANKET SEARCH-AND-ARREST POWERS AND EMPOWERED TO FORBID ALL\\n\\nPUBLIC GATHERINGS, RESTRICT PRESS FREEDOM, AND PROHIBIT THE CIRCULATION\\n\\nOF ALL \" PRINTED MATERIAL AND OTHER DOCUMENTS HARMFUL TO PUBLIC ORDER\\n\\nAND SECURITY . \" IN SAIGON THE ARMY IMPOSED A TIGHT 9 P.M.-TO-5 A.M .\\n\\nCURFEW . CARRYING AUTOMATIC WEAPONS AND RIFLES WITH FIXED BAYONETS,\\n\\nTROOPS IN FULL CAMOUFLAGE BATTLE DRESS GUARDED EVERY MAJOR BRIDGE AND\\n\\nINTERSECTION . TIGHT CENSORSHIP WAS CLAMPED ON ALL OUTGOING NEWS, AND\\n\\nREPORTERS WERE FORCED TO GIVE THEIR STORIES TO TRAVELERS FLYING TO\\n\\nNEIGHBORING COUNTRIES OR TO FLY OUT THEMSELVES WITH THEIR COPY .\\n\\nTELEPHONE SERVICE IN THE HOMES AND OFFICES OF ALL U.S . MILITARY AND\\n\\nEMBASSY PERSONNEL WAS CUT OFF .\\n\\nTHE POLITICAL\\n\\nREPERCUSSIONS BEGAN AT ONCE . PROTESTING THE GOVERNMENT\\'S ACTION,\\n\\nFOREIGN MINISTER VU VAN MAU QUIT HIS POST, SHAVED HIS HEAD AND\\n\\nANNOUNCED THAT HE WOULD GO TO INDIA TO BECOME A CONTEMPLATIVE BUDDHIST\\n\\nMONK . SOUTH VIET NAM\\'S AMBASSADOR TO WASHINGTON, TRAN VAN CHUONG, WHO\\n\\nIS MME . NHU\\'S FATHER, ALSO QUIT, WITH A SHARP DENUNCIATION OF HIS\\n\\nDAUGHTER\\'S POLICIES AND OF THE DIEM GOVERNMENT FOR \" COPYING THE\\n\\nTACTICS OF TOTALITARIAN REGIMES . \" AS LONG AS DIEM STAYS IN POWER, HE\\n\\nADDED, THERE IS \" NOT ONE CHANCE OF WINNING THE WAR AGAINST THE\\n\\nCOMMUNISTS .\\n\\nIN SAIGON MORE THAN 500\\n\\nUNIVERSITY OF SAIGON MEDICAL STUDENTS BOYCOTTED CLASSES AND HELD\\n\\nTURBULENT ANTI-GOVERNMENT MEETINGS . WHEN A PROFESSOR TRIED TO RIP DOWN\\n\\nA PRO-BUDDHIST POSTER, HE WAS STONED BY STUDENTS . THROUGHOUT THE CITY,\\n\\nMARTIAL LAW POSTERS WERE SURREPTITIOUSLY DEFACED OR TORN AWAY .\\n\\nSTUDENTS JEERED AT SOLDIERS PATROLLING THE STREETS : \" WHY DON\\'T YOU\\n\\nGO BACK TO FIGHTING THE VIET CONG ? \" THE GOVERNMENT RETALIATED\\n\\nAGAINST STUDENT UNREST BY CLOSING ALL SAIGON\\'S SCHOOLS . THE UGLY\\n\\nAMERICAN . THE CRACKDOWN IN SOUTH VIET NAM CAUSED CONSTERNATION IN\\n\\nWASHINGTON . IN A BLUNT CONDEMNATION THE STATE DEPARTMENT SAID THAT\\n\\nSAIGON\\'S STRONG-ARM TACTICS REPRESENTED \" A DIRECT VIOLATION BY THE\\n\\nVIETNAMESE GOVERNMENT OF ASSURANCES THAT IT WAS PURSUING A POLICY OF\\n\\nRECONCILIATION TOWARD THE BUDDHISTS . THE U.S . DEPLORES REPRESSIVE\\n\\nACTIONS OF THIS NATURE . \" THE MOVE AGAINST THE BUDDHISTS WAS OBVIOUSLY\\n\\nTIMED TO BE OVER AND DONE WITH BEFORE U.S . AMBASSADOR HENRY CABOT\\n\\nLODGE ARRIVED IN SAIGON . WHEN IT HAPPENED, LODGE WAS IN JAPAN . ON THE\\n\\nWAY OUT FROM SAN FRANCISCO BY COMMERCIAL JET, HE HAD FOUND HIMSELF\\n\\nACROSS THE AISLE FROM NOVELIST EUGENE BURDICK, CO-AUTHOR OF THE UGLY\\n\\nAMERICAN, AND THAT SELF-APPOINTED EXPERT ON U.S . ERRORS IN THE FAR\\n\\nEAST OFFERED THE AMBASSADOR A HALF-HOUR BRIEFING, TO WHICH LODGE\\n\\nLISTENED DIPLOMATICALLY . THE GIST : DON\\'T RELY ON EMBASSY OFFICERS,\\n\\nCONSULT SEASONED NEWSMEN, BEWARE OF COMMUNICATIONS BLOCKS IN THE\\n\\nEMBASSY, GET FIGHTER COVER FOR THOSE COMBAT HELICOPTERS . ON ORDERS\\n\\nFROM PRESIDENT KENNEDY, LODGE CUT SHORT HIS STAY IN JAPAN, AND BY\\n\\nHASTILY COMMANDEERED U.S . AIR FORCE DC-6 PROCEEDED AT ONCE TO SAIGON,\\n\\nWHERE HE WAS MET BY A VIETNAMESE PROTOCOL OFFICER, EMBASSY OFFICIALS\\n\\nAND GENERAL PAUL HARKINS, COMMANDER OF THE U.S . TROOPS IN SOUTH VIET\\n\\nNAM . AS IF TO DRAMATIZE U.S . DISAPPROVAL OF THE GOVERNMENT ACTION,\\n\\nLODGE WENT TO THE U.S . AID MISSION BUILDING TO TALK TO THE TWO MONKS\\n\\nWHO HAD BEEN GIVEN SANCTUARY . IGNORING DEMANDS THAT THE MONKS BE\\n\\nTURNED OVER TO VIETNAMESE AUTHORITIES, LODGE ORDERED THE U.S . STAFF TO\\n\\nGET SOME VEGETABLES FOR THE VEGETARIAN PRIESTS . ANTI, ANTI, ANTI .\\n\\nWHAT TO DO NEXT WAS A QUESTION THICKLY CLOUDED FOR BOTH LODGE AND\\n\\nWASHINGTON BY CONFUSION OVER PRECISELY WHO WAS IN CONTROL OF THE\\n\\nSITUATION IN SOUTH VIET NAM . DIEM STILL SEEMED IN COMPLETE CHARGE AND\\n\\nIN A CABLE TO THE NEW YORK HERALD TRIBUNE\\'S MARGUERITE HIGGINS HE\\n\\nDECLARED, \" I TRUST IN THE ARMY AND IN FACT I MAINTAIN CONTROL OVER THE\\n\\nSITUATION . \" BUT IT LOOKED INCREASINGLY LIKELY THAT THE KEY FIGURE\\n\\nBEHIND THE GOVERNMENT\\'S MOVE HAD BEEN BROTHER NHU, HEAD OF THE\\n\\n10,000-STRONG SPECIAL FORCES AND SECRET POLICE . FOR WEEKS THERE HAD\\n\\nBEEN HINTS THAT HE MIGHT TRY A COUP OF HIS OWN SUPPOSEDLY TO FORESTALL\\n\\nTHE ANTI-DIEM COUP THAT HE KEPT PREDICTING UNLESS THE BUDDHISTS WERE PUT\\n\\nDOWN . ANY CHANGE IN GOVERNMENT POLICY, HE HAD WARNED, WOULD BE \"\\n\\nANTI-BUDDHIST, ANTI-AMERICAN, ANTI-WEAKNESS . /\\n\\nTHE CRACKDOWN IT WAS NHU\\'S\\n\\nSPECIAL FORCES THAT SACKED THE PAGODAS ; REGULAR ARMY TROOPS WERE ONLY\\n\\nCALLED IN AFTER THE JOB WAS DONE TO HELP KEEP ORDER . THEORETICALLY,\\n\\nUNDER THE MARTIAL LAW PROCLAMATION, IT IS NOW THE ARMY THAT RUNS THE\\n\\nCOUNTRY, AND, AGAIN THEORETICALLY, DIEM PLACED TOP AUTHORITY IN MAJOR\\n\\nGENERAL TRAN VAN DON, 46, A HIGHLY RESPECTED, ONETIME CORPS COMMANDER\\n\\nWHO HAS HAD GREAT MILITARY SUCCESS AGAINST THE VIET CONG . BUT DON MAY\\n\\nMERELY BE A FIGUREHEAD HOSTILE TO THE GOVERNMENT, HE WAS PULLED OUT OF\\n\\nHIS FIELD COMMAND LAST DECEMBER AND KICKED UPSTAIRS TO A STAFF JOB,\\n\\nWHERE HE WOULD HAVE NO TROOPS AT HIS DISPOSAL IN CASE THE THOUGHT OF A\\n\\nCOUP EVER CROSSED HIS MIND . DIEM AND NHU EVIDENTLY INTENDED TO VEST\\n\\nREAL MILITARY POWER IN ANOTHER, VERY DIFFERENT OFFICER, WHOSE LOYALTY\\n\\nTHE NGO FAMILY CAN COUNT ON, COLONEL LE QUANT TUNG, COMMANDER UNDER NHU\\n\\nOF THE SPECIAL FORCES . A DEVOUT CATHOLIC, TUNG COMES FROM CENTRAL VIET\\n\\nNAM, BIRTHPLACE OF THE NGO FAMILY, APPARENTLY HAS NO POLITICAL\\n\\nAMBITIONS, AND WAS ONCE A TOP OFFICIAL IN NHU\\'S SECRET ORGANIZATION,\\n\\nTHE CAN LAO PARTY . AS LONG AS A MONTH AGO, LARGE UNITS OF SPECIAL\\n\\nFORCES WERE MOVED INTO SAIGON UNDER COLONEL TUNG\\'S COMMAND . THE BIG\\n\\nQUESTION IS WHETHER TUNG CAN KEEP CONTROL AND WHETHER THE REGULAR ARMY\\n\\nWILL GO ALONG OR WILL TURN AGAINST THE REGIME . THE COURSE OF EVENTS .\\n\\nAFTER NINE YEARS OF ABSOLUTE POWER, THE NGO FAMILY HAD TAKEN A\\n\\nCONSIDERABLE RISK IN LETTING SO MUCH AUTHORITY SLIP FROM ITS HANDS\\n\\nUNDER THE MARTIAL LAW PROCLAMATION . TAKING OVER THE FUNCTIONING OF ALL\\n\\nGOVERNMENT MINISTRIES, THE ARMY FOR THE FIRST TIME HAS A VIABLE POWER\\n\\nSTRUCTURE OF ITS OWN . IT MAY WELL STAY LOYAL AS LONG AS DIEM REMAINS\\n\\nIN THE PRESIDENTIAL PALACE, BUT NHU IS VASTLY UNPOPULAR WITH MOST OF\\n\\nTHE MILITARY COMMANDERS EXCEPT TUNG . THE ARMY IMMEDIATELY TRIED TO\\n\\nDISSOCIATE ITSELF FROM THE BUDDHIST CRACKDOWN . ALL OFFICIAL BULLETINS\\n\\nFROM THE ARMY-CONTROLLED GOVERNMENT INFORMATION CENTER POINTEDLY\\n\\nMENTIONED THAT NHU\\'S SPECIAL FORCES, AND NOT THE ARMY, HAD WRECKED THE\\n\\nPAGODAS . BUT HAVING DISCOVERED THAT AN OPPORTUNITY FOR POWER NOW\\n\\nEXISTS OUTSIDE THE NGO FAMILY, VARIOUS MILITARY FACTIONS MAY WELL BEGIN\\n\\nTO JOCKEY FOR SOLE AUTHORITY . AT WEEK\\'S END, ACCORDING TO ONE REPORT,\\n\\nTHIS FEAR WAS REALIZED AT THE SMALL TOWN OF MY THO, JUST SOUTH OF\\n\\nSAIGON, WHERE BUDDHIST AND CATHOLIC TROOPS TURNED ON EACH OTHER . IN\\n\\nTHE FIELD, ACTION AGAINST THE VIET CONG HAS COME TO A VIRTUAL\\n\\nSTANDSTILL . \" THIS WRECKS THE ARMY\\'S EFFORTS AGAINST THE REDS, \" SAID\\n\\nA SENIOR U.S . INTELLIGENCE OFFICER . \" THEY\\'RE TOO BUSY ENFORCING\\n\\nCURFEWS TO FIGHT . HOW THE REDS MUST BE LOVING THIS . \" MORE THAN EVER,\\n\\nDIEM\\'S GOVERNMENT OR ANY OTHER IN SOUTH VIET NAM DEPENDS ON U.S .\\n\\nBACKING . YET EVEN IF WASHINGTON SHOULD OFFICIALLY DECIDE THAT DIEM HAS\\n\\nBECOME A LIABILITY IN THE FIGHT AGAINST THE VIET CONG, THE U.S . WILL\\n\\nNOT SUPPORT A CHANGE IN GOVERNMENT WHILE THE POWERS IN SAIGON ARE STILL\\n\\nSETTLING ACCOUNTS AMONG THEMSELVES . SAID ONE WASHINGTON OFFICIAL : \"\\n\\nWHEN THE RUMBLING OF OPPOSITION STARTS WITHIN A REGIME OF THIS SORT,\\n\\nYOU CAN\\'T  TELL WHERE EVENTS ARE GOING TO TAKE IT . /\\n\\n'"
      ]
     },
     "execution_count": 213,
     "metadata": {},
     "output_type": "execute_result"
    }
   ],
   "source": [
    "docs[325]"
   ]
  },
  {
   "cell_type": "code",
   "execution_count": 214,
   "id": "436cca2b",
   "metadata": {},
   "outputs": [
    {
     "data": {
      "text/plain": [
       "'SOUTH VIET NAM OPTIMISM AT HONOLULU, PROBLEMS IN SAIGON IN ADMIRAL\\n\\nHARRY FELT\\'S REINFORCED CONCRETE COMMAND POST HIGH ABOVE PEARL HARBOR,\\n\\nTOP U.S . OFFICIALS LAST WEEK GATHERED FOR THE FIRST EXHAUSTIVE POLICY\\n\\nSTUDY OF SOUTH VIET NAM SINCE THE COUP THAT TOPPLED THE DIEM REGIME THE\\n\\nNINE-HOUR CONFERENCE SECRETARY OF STATE DEAN RUSK, DEFENSE SECRETARY\\n\\nROBERT MCNAMARA AND JOINT CHIEFS OF STAFF CHAIRMAN MAXWELL TAYLOR HAD\\n\\nFLOWN IN FROM WASHINGTON ; FROM SAIGON CAME AMBASSADOR HENRY CABOT\\n\\nLODGE AND GENERAL PAUL HARKINS . THE HONOLULU MEETING EXUDED ALMOST\\n\\nRELENTLESS OPTIMISM ABOUT THE WAR, AND THE POLICYMAKERS CLUNG BRAVELY\\n\\nTO THE LINE THAT THINGS SHOULD BE SUFFICIENTLY IN HAND BY 1965 TO\\n\\nPERMIT COMPLETE WITHDRAWAL OF THE 16,500 AMERICAN TROOPS . JUST IN TIME\\n\\n. ONE OF THE FEW CONCRETE DECISIONS LEAKED FROM THE CONFERENCE WAS A\\n\\nHARDLY SURPRISING AGREEMENT TO INTENSIFY ANTI-GUERRILLA OPERATIONS IN\\n\\nSOUTH VIET NAM\\'S RICE BOWL, A WEDGE-SHAPED SECTION OF THE MEKONG DELTA\\n\\nFROM SAIGON SOUTH, WHERE ONE-THIRD OF THE POPULATION IS CONCENTRATED\\n\\nAND THE VIET CONG IS STRONGEST . ANOTHER DECISION : TO REVISE THE\\n\\nGOVERNMENT\\'S STRATEGIC HAMLET PROGRAM . ALL TOO OFTEN IN THE PAST ,\\n\\nRELUCTANT PEASANTS WERE HERDED INTO BLEAK \" FORTIFIED \" VILLAGES THAT\\n\\nWERE IN FACT INSUFFICIENTLY PROTECTED BECAUSE THEY WERE TOO HASTILY\\n\\nBUILT . MEANWHILE THE RED GUERRILLAS, WHO WERE SUPPOSED TO BE STARVING\\n\\nIN THE NO MAN\\'S LAND OUTSIDE THE HAMLETS, MANAGED TO LIVE WELL ENOUGH\\n\\nOFF THE LAND . HENCEFORTH, THE PLAN IS TO SEE THAT ALL EXISTING\\n\\nVILLAGES ARE REALLY DEFENSIBLE AND MORE PLEASANT TO LIVE IN, WITH\\n\\nSCHOOLS AND DISPENSARIES . AS THE CONFERENCE ADJOURNED, THE WAR IN\\n\\nSOUTH VIET NAM WAS PROCEEDING FITFULLY . NEW, AGGRESSIVE COMMANDERS\\n\\nREPORTED SEVERAL SUCCESSFUL ATTACKS AGAINST THE GUERRILLAS, BUT IN THE\\n\\nDELTA THE COMMUNISTS STILL SEEMED TO HAVE THE INITIATIVE . VIETNAMESE\\n\\nOFFICERS AND MANY OF THEIR U.S . ADVISERS CLAIM THAT BECAUSE OF DIEM\\'S\\n\\nMILITARY MISMANAGEMENT, THE COUP CAME JUST IN TIME TO KEEP THE\\n\\nCOMMUNISTS FROM GAINING COMPLETE CONTROL OF TWO DISPUTED PROVINCES\\n\\nCLOSE TO SAIGON . THIS MAY OR MAY NOT BE TRUE, BUT THE ARGUMENT OFFERS\\n\\nA BUILT-IN CHANCE TO BLAME DIEM LATER, IN CASE THINGS SHOULD GO\\n\\nSERIOUSLY WRONG . NO MORE SIESTAS . IN SAIGON, LIEUT . GENERAL DUONG\\n\\nVAN ( \" BIG \" ) MINH, THE HEAD OF THE RULING MILITARY JUNTA, RODE ABOUT\\n\\nALMOST UNNOTICED IN A BLACK CITROEN (IN CONTRAST TO DIEM\\'S VAST\\n\\nMOTORCADES), VISITING A FEW GOVERNMENT OFFICES AND MILITARY UNITS . HE\\n\\nALSO OPENED PROMISING NEGOTIATIONS WITH VIETNAMESE SECTS THAT HAD\\n\\nWITHDRAWN SUPPORT FROM DIEM BUT WERE NOT READY TO RALLY TO THE NEW\\n\\nREGIME . BUT WHILE STILL CLEARLY FAVORED BY THE POPULATION, THE NEW\\n\\nREGIME SEEMED ODDLY RELUCTANT TO ASSUME POLITICAL LEADERSHIP . ONE OF\\n\\nITS FEW DECISIONS : TO ABOLISH THE SIESTA THAT HAS TRADITIONALLY\\n\\nCLOSED GOVERNMENT OFFICES FOR 2F HOURS EACH AFTERNOON . DESPITE THE\\n\\nMOURNFUL YAWNS OF CIVIL SERVANTS, THE NEW DECREE ENABLES PEASANTS AND\\n\\nRURAL OFFICIALS TO COMPLETE THEIR BUSINESS IN THE CAPITAL EARLIER AND\\n\\nRETURN HOME SAFELY BEFORE DUSK, WHEN THE VIET CONG START HARASSING\\n\\nTRAFFIC ON ALL THE ROADS RADIATING FROM SAIGON .\\n\\n'"
      ]
     },
     "execution_count": 214,
     "metadata": {},
     "output_type": "execute_result"
    }
   ],
   "source": [
    "docs[382]"
   ]
  },
  {
   "cell_type": "code",
   "execution_count": 215,
   "id": "f83c7031",
   "metadata": {},
   "outputs": [
    {
     "data": {
      "text/plain": [
       "'SOUTH VIET NAM : THE NEW REGIME FOR A WHILE, SAIGON LOOKED\\n\\nLIKE A CITY LIBERATED . VIETNAMESE G.I.S GUARDING PUBLIC BUILDINGS\\n\\nMUNCHED ORANGES, BANANAS AND CANDY, SHOWERED ON THEM BY CIVILIANS\\n\\nGRATEFUL FOR THE OVERTHROW OF THE REGIME . PRETTY GIRLS EMBRACED\\n\\nSOLDIERS, DRAPED TANK TURRETS WITH GARLANDS, SCRAMBLED SQUEALING ABOARD\\n\\nARMY JEEPS . WITH THE LIFTING OF A TEMPORARY CURFEW AND MME . NHU\\'S BAN\\n\\nON DANCING, SAIGON\\'S LONG-REPRESSED NIGHT LIFE FLOWERED AS NEVER BEFORE\\n\\n. IN BARS AND CABARETS, THE B-GIRLS SHUCKED THE WHITE, HOSPITAL-LIKE\\n\\nSMOCKS THEY HAD BEEN FORCED TO WEAR UNDER THE MORALITY LAWS, WRIGGLED\\n\\nBACK INTO THEIR TRADITIONAL SLIT SKIRTS, OR INTO U.S.-STYLE SLACKS, TO\\n\\nTWIST AND TANGO WITH VIET AND AMERICAN SOLDIERS INTO THE SMALL HOURS .\\n\\nSHOPS REOPENED, REPAIRMEN RESTRUNG POWER LINES BLOWN DOWN BY BATTLE,\\n\\nAND SAFFRON-ROBED BUDDHIST MONKS EMERGED FROM JAIL OR HIDING (AMONG\\n\\nTHEM : TOP BUDDHIST THICH TRI QUANG, WHO HAD SOUGHT ASYLUM TEN WEEKS\\n\\nAGO IN THE U.S . EMBASSY) . AT XA LOI PAGODA, PRINCIPAL SCENE OF LAST\\n\\nAUGUST\\'S GOVERNMENT CRACKDOWN, THOUSANDS PRAYED . FROM POULO CONDORE\\n\\nPRISON ISLAND AND OTHER JAILS, 150 POLITICAL PRISONERS WERE FREED,\\n\\nTELLING BITTER TALES OF TORTURE . TWO CORPSES . BEHIND THE FIRST\\n\\nEUPHORIC REACTION TO THE COUP THERE WAS SOME FAIRLY GRIM POLITICAL\\n\\nBUSINESS FOR THE CROWD OF GENERALS WHO HAD ACCOMPLISHED IT . THE\\n\\nOFFICERS UNDER LIEUT . GENERAL DUONG VAN ( \" BIG \" ) MINH FIRST MOVED\\n\\nTO CONSOLIDATE THEIR VICTORY . REPORTEDLY THEY EXECUTED THE CAPTURED\\n\\nCOMMANDER OF DIEM\\'S ELITE SPECIAL FORCES, COLONEL LE QUANG TUNG, HIS\\n\\nBROTHER, THE SPECIAL FORCES CHIEF OF STAFF, MAJOR LE QUANG TRIEU, AND A\\n\\nFORMER LEADER OF DIEM\\'S REPUBLICAN YOUTH . THEY ALSO PLACED UNDER \"\\n\\nPROTECTIVE CUSTODY \" SEVERAL FORMER DIEM OFFICIALS . IN HUE, THE REBELS\\n\\nHAD NO DIFFICULTY LAYING THEIR HANDS ON NGO DINH CAN, 50, DIEM\\'S\\n\\nBROTHER AND TOUGH OVERLORD OF CENTRAL VIET NAM . WEARING TATTERED\\n\\nCLOTHES BUT CARRYING A VALISE CONTAINING CASH, CAN SOUGHT REFUGE IN THE\\n\\nU.S . CONSULATE, ONLY TO BE TURNED OUT AFTER THE STATE DEPARTMENT\\n\\nRECEIVED ASSURANCES THAT THE GENERALS WOULD ALLOW HIM \" DUE PROCESS OF\\n\\nLAW . \"  THE NEW REGIME\\'S MOST EMBARRASSING PROBLEM WAS TWO CORPSES\\n\\nTHOSE OF DIEM AND HIS BROTHER, NGO DINH NHU . THE OFFICIAL TALK OF\\n\\nSUICIDE WAS OBVIOUSLY PHONY (SEE FOLLOWING STORY) . AT THE BEGINNING,\\n\\nTHE GENERALS APPARENTLY TRIED TO SPARE THE BROTHERS\\' LIVES, BUT AFTER\\n\\nDIEM ESCAPED FROM THE PALACE, THE JUNTA EVIDENTLY FELL BACK ON THE\\n\\nPHILOSOPHY OF 19TH CENTURY BRITISH POET ARTHUR HUGH CLOUGH : THOU\\n\\nSHALT NOT KILL ; BUT NEED\\'ST NOT STRIVE OFFICIOUSLY TO KEEP ALIVE .\\n\\nDIEM\\'S ELDEST\\n\\nBROTHER, NGO DINH THUC, 66, ROMAN CATHOLIC ARCHBISHOP OF HUE, WAS IN\\n\\nROME ATTENDING THE ECUMENICAL COUNCIL . ANOTHER BROTHER, NGO DINH\\n\\nLUYEN, 49, WAS IN LONDON, WHERE HE RESIGNED AS AMBASSADOR TO THE COURT\\n\\nOF ST . JAMES\\'S . DIEM\\'S 92-YEAR-OLD MOTHER REMAINED IN SAIGON,\\n\\nUNMOLESTED .\\n\\nTHREE STRONGMEN . FOR THE\\n\\nLIVING, THERE REMAINED THE TASK OF PUTTING TOGETHER A GOVERNMENT .\\n\\nPREMIER NGUYEN NGOC THO, DIEM\\'S LONGTIME VICE PRESIDENT, APPOINTED NINE\\n\\nCIVILIAN MINISTERS MOSTLY NONPOLITICAL CIVIL SERVANTS IN THE OLD REGIME\\n\\n. TO COUNSEL THO\\'S GOVERNMENT, THE BRASS NAMED A 15-MAN \" COUNCIL OF\\n\\nSAGES, \" INCLUDING BUSINESS AND PROFESSIONAL LEADERS . BUT IT IS THE\\n\\nMILITARY THAT IS RUNNING THE COUNTRY . LIEUT . GENERAL TRAN VAN DON,\\n\\n46, THE POLISHED, FRENCH-SCHOOLED STAFF OFFICER WHO HELPED MASTERMIND\\n\\nTHE COUP, WAS APPOINTED DEFENSE MINISTER . MAJOR GENERAL TON THAT DINH,\\n\\n36, THE AGGRESSIVE, VAIN COMMANDER OF THE SAIGON DISTRICT, WAS NAMED\\n\\nMINISTER OF PUBLIC SECURITY, WHICH GIVES HIM CONTROL OF NGO DINH NHU\\'S\\n\\nSECRET POLICE . OVER BOTH THE CABINET AND THE \" SAGES \" IS THE REBEL\\n\\nOFFICERS\\' 23-MEMBER \" MILITARY REVOLUTIONARY COMMITTEE, \" WHICH LAST\\n\\nWEEK DECREED THAT \" THE LEGISLATIVE AND EXECUTIVE POWERS ARE\\n\\nCENTRALIZED \" IN ITSELF, AND NAMED GENERAL \" BIG \" MINH CHIEF OF STATE\\n\\n. WITHIN THE COMMITTEE IS A TWELVE-MAN INNER COUNCIL, WITH BIG MINH AS\\n\\nCHAIRMAN, DON AND DINH AS VICE CHAIRMEN OBVIOUSLY THE RULING\\n\\nTRIUMVIRATE . THE GENERALS PROMISED THAT WHEN \" ALL DEMOCRATIC\\n\\nINSTITUTIONS HAVE BEEN SET UP, \" THE REBELS WILL \" TRANSFER ALL THE\\n\\nPOWERS BACK TO OUR ENTIRE PEOPLE, \" HINTED AT ELECTIONS WITHIN A YEAR .\\n\\nIN THE MEANTIME, AS MANY POLITICAL SHADES AS POSSIBLE WILL BE\\n\\nREPRESENTED IN THE NEW GOVERNMENT, BUT, SAID DEFENSE MINISTER DON, \" WE\\n\\nDON\\'T WANT ANY NEUTRALISTS . \" BEFORE THE WEEK WAS OUT, THE REGIME\\n\\nLIFTED MARTIAL LAW AND CENSORSHIP . FIRST TO RECOGNIZE SOUTH VIET NAM\\'S\\n\\nNEW GOVERNMENT WERE MALAYSIA AND THAILAND, FOLLOWED BY GREAT BRITAIN\\n\\nAND THE U.S., WHICH ALSO PREPARED TO RESTORE A $12 MILLION-A-MONTH\\n\\nIMPORT AID PROGRAM SUSPENDED UNDER DIEM . FOUR TIGERS . THE MOST\\n\\nSERIOUS DANGER TO THE NEW GOVERNMENT IS POTENTIAL RIVALRY AMONG THE\\n\\nGENERALS . THE FIRST HINTS OF THIS WERE ALREADY APPEARING AS LITTLE\\n\\nMAJOR GENERAL TON THAT DINH INJECTED HIMSELF INTO THE LIMELIGHT WITH\\n\\nAMAZING SPEED . IN THE FIRST WEEK OF VICTORY, SECURITY MINISTER DINH\\n\\nCONDUCTED SEVERAL PRESS CONFERENCES OF HIS OWN, AND DURING ONE\\n\\nINTERVIEW, WHILE PROTESTING THAT \" WE MUST STAY AS ONE, \" DINH\\n\\nINSINUATED THAT BIG MINH WAS REALLY ONLY HIS \" FRONT MAN . \" BUT THE\\n\\nU.S . IS BETTING THAT, FOR AT LEAST HALF A YEAR OR SO, THE GENERALS\\n\\nWILL STAND TOGETHER, AND THERE ARE HIGH HOPES FOR A MORE VIGOROUS, MORE\\n\\nEFFICIENT PURSUIT OF THE WAR AGAINST THE COMMUNISTS, WITH MORE AUTONOMY\\n\\nFOR LOCAL COMMANDERS THAN ALLOWED BY DIEM . SAID BIG MINH : \" OUR MAIN\\n\\nPROBLEM IS TO MAKE THE POPULATION HAPPY . THIS AND THE MILITARY PROBLEM\\n\\nARE INTERTWINED . IF THE POPULATION DOES NOT FEEL PROTECTED, IT WILL GO\\n\\nOVER TO THE VIET CONG . \" IN THE WAR, THE COMMUNIST VIET CONG STEPPED\\n\\nUP PROBING ACTIONS, BUT BIG MINH & CO . ORDERED A NEW CORPS COMMANDER\\n\\nINTO THE MEKONG DELTA, ALSO REPLACED THREE DIVISION CHIEFS . SAID ONE\\n\\nPLEASED AMERICAN ADVISER : \" THEY ARE PUTTING SOME YOUNG TIGERS OUT\\n\\nTHERE . \" RED NORTH VIET NAM\\'S RADIO CHARGED THAT \" U.S . IMPERIALISTS\\n\\nSCHEMED THROUGH THE RECENT COUP TO REPLACE THE INEFFICIENT NGO DINH\\n\\nDIEM CLIQUE BY OTHER HENCHMEN WHO CAN SERVE MORE EFFECTIVELY THEIR\\n\\nAGGRESSIVE WAR . \" IT WAS A HANDSOME TESTIMONIAL FROM THE ENEMY .\\n\\nON THE PHONE .\\n\\nU.S . ADMIRAL HARRY FELT KEPT AN APPOINTMENT\\n\\nWITH DIEM IN SAIGON ON THE DAY SET FOR THE COUP, A VISIT SCHEDULED AT\\n\\nLEAST A MONTH PREVIOUSLY . HE AND U.S . AMBASSADOR HENRY CABOT LODGE\\n\\nSTEPPED INTO DIEM\\'S OFFICE AT 10 A.M., APPARENTLY UNAWARE THAT HALF AN\\n\\nHOUR BEFORE KEY TROOPS HAD BEGUN MOVING INTO POSITION FOR THE COUP .\\n\\nTHEY STAYED WITH DIEM UNTIL WELL PAST 11 A.M . AS LODGE, WHO WAS TO\\n\\nLEAVE FOR WASHINGTON THE FOLLOWING DAY, TOOK HIS FINAL DEPARTURE, DIEM\\n\\nREMARKED : \" EVERY TIME THE AMERICAN AMBASSADOR GOES AWAY, THEY TRY TO\\n\\nPULL A COUP . \" GENERAL DON SAW ADMIRAL FELT OFF AT THE AIRPORT A\\n\\nLITTLE ANXIOUSLY, FOR THE AIRPORT ITSELF WAS SCHEDULED TO BE SEIZED IN\\n\\nJUST 90 MINUTES . DON THEN WENT ON TO THE GENERALS\\' LUNCH . AT 1 : 30\\n\\nP.M . SHARP, THE INSURGENT FORCE STRUCK, WITH RED-KERCHIEFED GENERAL\\n\\nDINH BARKING THE ORDERS . DON WAS ASSIGNED TO KEEP LODGE INFORMED,\\n\\nWHILE BIG MINH SUPERVISED THE WHOLE SHOW . THE GENERALS DELIBERATELY\\n\\nKEPT PHONE LINES OPEN TO THE PALACE AND TO THE U.S . EMBASSY . THE\\n\\nPALACE SWITCHBOARD (SAIGON 21584) AND PARTICULARLY DIEM\\'S DIRECT LINE\\n\\n(23126) BUZZED WITH TELEPHONIC FRUSTRATION . WITH THE GUARD BARRACKS\\n\\nAND THE PALACE BOTH UNDER SIEGE, DIEM AT 4 : 30 P.M . CALLED LODGE TO\\n\\nASK FOR U.S . HELP AGAINST THE INSURGENTS . LODGE REPLIED : \" I\\'M\\n\\nCONCERNED FOR YOUR SAFETY, \" ASKED IF DIEM AND HIS BROTHER WOULD TAKE\\n\\nADVANTAGE OF THE INSURGENTS\\' OFFER OF SAFE-CONDUCT OUT OF VIET NAM . \"\\n\\nI SHALL DO WHAT DUTY AND GOOD SENSE INDICATE MUST BE DONE, \" DIEM\\n\\nREPLIED STIFFLY . \" I SHALL TRY TO RESTORE ORDER . \" HE HUNG UP . AT\\n\\nCHURCH . HALF AN HOUR LATER, THE INSURGENT GENERALS CALLED DIEM TO THE\\n\\nPHONE . ONE BY ONE, IDENTIFYING THEMSELVES, THEY ASKED HIM TO RESIGN\\n\\nAND SURRENDER . FINALLY, BIG MINH DELIVERED AN ULTIMATUM : \" GIVE UP\\n\\nIN FIVE MINUTES OR THE PALACE WILL BE BOMBED . \" DIEM STOOD FIRM, AND\\n\\nTHE GENERALS, STILL RELUCTANT AT THAT POINT TO RISK KILLING HIM, HELD\\n\\nTHEIR FINAL BLOW . AT 8 : 13 P.M., DIEM AND NHU LEFT THE PALACE NOT\\n\\nTHROUGH ESCAPE TUNNELS, AS WIDELY RUMORED . THEY SIMPLY WALKED OUT,\\n\\nEACH WITH AN AIDE, AND GOT INTO INCONSPICUOUS SEDANS . AT THAT POINT\\n\\nTHE REBELS HAD NOT YET SEALED OFF THE PALACE, WERE STILL PASSING\\n\\nCIVILIANS WHO LIVED ON THE GROUNDS, AND SO THE BROTHERS MANAGED TO\\n\\nDRIVE THROUGH UNNOTICED . THEY RENDEZVOUSED AT A VILLA IN SUBURBAN\\n\\nCHOLON OWNED BY BUSINESSMAN MA TUYEN, LEADER OF THE LOCAL CHINESE\\n\\nCOMMUNITY . DIEM AND NHU SPENT THEIR LAST NIGHT IN THE CHINESE\\n\\nBUSINESSMAN\\'S VILLA, ACTUALLY TOOK CALLS THROUGH THE PALACE SWITCHBOARD\\n\\nSO THAT THE INSURGENT GENERALS WOULD THINK THEY WERE STILL THERE . LATE\\n\\nFRIDAY NIGHT OR EARLY SATURDAY, THE GENERALS CALLED AGAIN AND TOLD DIEM\\n\\nTHAT HIS LAST HOPE OF BEING RESCUED BY LOYAL TROOPS FROM OUTSIDE SAIGON\\n\\nWAS GONE ; GENERAL HUYNH VAN CAO, COMMANDER OF IV CORPS IN THE MEKONG\\n\\nDELTA AND THE LAST TO HOLD OUT, HAD COME OVER TO THE REBELS . WHEN DIEM\\n\\nAGAIN REFUSED TO SURRENDER, THE REBEL GENERALS MOUNTED THE FINAL\\n\\nASSAULT . THE PALACE FELL, WITH NEITHER DIEM NOR NHU INSIDE . SATURDAY\\n\\nMORNING, ALL SOULS\\' DAY, THE BROTHERS WENT TO CHOLON\\'S ST . FRANCIS\\n\\nXAVIER CHURCH, ARRIVING AT 8 : 45 . THEY WALKED IN, KNELT AND TOOK\\n\\nCOMMUNION . THE JUNTA WAS TIPPED OFF BY AN INFORMER . MINUTES LATER AN\\n\\nM-113 ARMORED PERSONNEL CARRIER ROARED UP TO THE CHURCH AND THE CAPTAIN\\n\\nIN CHARGE ORDERED THE BROTHERS TO GET IN . AT HEADQUARTERS . SAIGON\\n\\nSTILL HUMS WITH RUMORS THAT DIEM AND NHU WERE ASSASSINATED IN THE\\n\\nARMORED CAR . ACCORDING TO THE NEW GOVERNMENT, WHICH HAS DISCARDED THE\\n\\nORIGINAL VERSION OF SUICIDE, NHU PROVOKED THE CAPTAIN BY INSULTING HIM,\\n\\nAND IN AN ENSUING SCUFFLE OVER A GUN, BOTH BROTHERS WERE KILLED . THE\\n\\nGOVERNMENT NOW CALLS THIS \" ACCIDENTAL SUICIDE, \" AND IT IS INTERESTING\\n\\nTO SPECULATE WHAT U.S . REACTION WOULD HAVE BEEN IF DIEM HAD PUT OUT\\n\\nSUCH A STORY ABOUT THE DEATH OF SOME PRISONERS OF HIS OWN . ACCORDING\\n\\nTO THE MOST RELIABLE ACCOUNT, THE BROTHERS DIED QUITE DIFFERENTLY .\\n\\nTHEY WERE DRIVEN DIRECTLY TO JOINT GENERAL STAFF HEADQUARTERS, WHERE\\n\\nTHEY WERE TAKEN INTO A ROOM WITH \" SEVERAL GENERALS . \" DIEM WAS HANDED\\n\\nA TAPERECORDER MICROPHONE AND TOLD TO MAKE A STATEMENT THAT HE WAS\\n\\nRESIGNING THE PRESIDENCY . DIEM THREW THE MICROPHONE DOWN AND SAID : \"\\n\\nI WILL NOT RESIGN . I AM THE PRESIDENT . YOU ARE GUILTY OF TREASON . \"\\n\\nAT THIS POINT, NHU LEAPED INTO THE ARGUMENT, CURSING . ONE OF THE\\n\\nGENERALS BACKED AWAY, DREW A PISTOL AND BEGAN SHOOTING . THE\\n\\nBULLET-RIDDLED BODIES WERE PUT BACK IN THE ARMORED CAR AND TAKEN OFF TO\\n\\nST . PAUL\\'S HOSPITAL . LAST WEEK THE BODIES WERE CLAIMED BY A RELATIVE\\n\\nOF DIEM\\'S, PLACED IN HERMETICALLY SEALED METAL CASKETS, AND TAKEN BACK\\n\\nTO COUP HEADQUARTERS .\\n\\n'"
      ]
     },
     "execution_count": 215,
     "metadata": {},
     "output_type": "execute_result"
    }
   ],
   "source": [
    "docs[369]"
   ]
  },
  {
   "cell_type": "code",
   "execution_count": 216,
   "id": "ff41999b",
   "metadata": {},
   "outputs": [
    {
     "data": {
      "text/plain": [
       "'SOUTH VIET NAM SUICIDE SERIES IT WAS THE MOST MACABRE WEEK IN\\n\\nSOUTH VIET NAM\\'S THREE-MONTH-OLD RELIGIOUS AND POLITICAL CRISIS . IN\\n\\nSAIGON, AN 18-YEAR-OLD GIRL TRIED UNSUCCESSFULLY TO CUT OFF HER LEFT\\n\\nHAND \" AS A HUMBLE OFFERING TO BUDDHA WHILE OUR RELIGION IS IN DANGER .\\n\\n/ OUTSIDE THE COASTAL CITY OF HUE, A 17-YEAR-OLD NOVICE BUDDHIST MONK\\n\\nWRAPPED HIMSELF IN A KEROSENE-SOAKED, SIX-COLOR BUDDHIST FLAG, THEN\\n\\nSTRUCK A MATCH . IN THE VILLAGE OF NINHHOA, 200 MILES NORTH OF SAIGON,\\n\\nA YOUNG BUDDHIST NUN SAT DOWN IN A CATHOLIC SCHOOL PLAYGROUND AND SET\\n\\nHERSELF ON FIRE . LESS THAN 24 HOURS LATER, BACK IN HUE, A 71-YEAR-OLD\\n\\nMONK ANNOUNCED OVER THE TUDAM PAGODA LOUDSPEAKER THAT HE WAS GOING TO\\n\\nKILL HIMSELF, THEN BURNED HIMSELF TO DEATH IN THE PAGODA\\'S COURTYARD .\\n\\nTHE QUARREL SPREADS . THE\\n\\nTHREE RITUALISTIC SUICIDES BROUGHT TO FIVE THE NUMBER OF BUDDHISTS WHO\\n\\nHAVE TURNED THEMSELVES INTO HUMAN TORCHES IN FURTHER PROTEST AGAINST\\n\\nTHE REGIME OF SOUTH VIET NAM\\'S ROMAN CATHOLIC PRESIDENT NGO DINH DIEM .\\n\\nTHE GOVERNMENT REACTED BY PLACING THE BUDDHIST STRONGHOLDS OF HUE AND\\n\\nNHATRANG UNDER VIRTUAL MARTIAL LAW . ALTHOUGH WORRIED THAT THE BURNINGS\\n\\nMIGHT GET OUT OF HAND, BUDDHIST LEADERS DEFENDED THE SUICIDES AS \"\\n\\nNOBLE SACRIFICES, \" WERE ROUNDING UP SECULAR AND MILITARY SUPPORT .\\n\\nLEAFLETS CONTAINING WESTERN PRESS ACCOUNTS OF THE CONTROVERSY WERE\\n\\nBEING DISTRIBUTED TO ARMY UNITS ALL OVER THE COUNTRY . SOLDIERS AND\\n\\nPEASANTS BEGAN WEARING SAFFRON PATCHES THE SAME COLOR AS A MONK\\'S ROBES\\n\\nTO INDICATE THEIR SUPPORT OF THE BUDDHISTS . IN ONE DIVISION MESS,\\n\\nCATHOLIC AND BUDDHIST OFFICERS BEGAN EATING APART, AND AT A MILITARY\\n\\nTRAINING SCHOOL, BUDDHIST CADETS DEMANDED A CHAPEL SIMILAR TO THE\\n\\nCATHOLIC CHAPEL . BUDDHIST LEADERS SAID THEY WOULD NOT AGREE TO ANY\\n\\nCONCILIATION UNTIL THE GOVERNMENT MADE SEVERAL CONCESSIONS, AND\\n\\nACCEPTED RESPONSIBILITY FOR THE 13 BUDDHISTS\\' BEING SHOT DOWN AT A\\n\\nRELIGIOUS DEMONSTRATION IN HUE LAST MAY . BUT DIEM IS STILL HOPEFUL\\n\\nTHAT THEY WILL AGREE TO SOME DISCUSSION AND MEDIATION . IMPLIED REBUKE\\n\\n. THE PRESIDENT\\'S APPARENT READINESS TO MEET WITH THE BUDDHISTS IS\\n\\nBITTERLY OPPOSED BY HIS SISTER-IN-LAW, MME . NGO DINH NHU, WHO HAS\\n\\nCONSISTENTLY URGED THAT THE BUDDHIST OPPOSITION BE CRUSHED . \" IF THE\\n\\nPRESIDENT KEEPS BOWING TO THE BUDDHISTS, \" SHE SAID, \" THEY WILL KEEP\\n\\nRIGHT ON TAKING ADVANTAGE OF THIS WEAKNESS TO MAKE NEW, IMPOSSIBLE\\n\\nDEMANDS . THEY ARE UTTERLY HYPOCRITICAL . \" WITH WHAT SOUNDED LIKE A\\n\\nREBUKE TO MME . NHU, DIEM COUNTERED : \" IT IS ONLY BECAUSE SOME HAVE\\n\\nCONTRIBUTED, EITHER CONSCIOUSLY OR UNCONSCIOUSLY, TO RAISING DOUBTS\\n\\nABOUT THIS GOVERNMENT\\'S POLICY THAT THE SOLUTION TO THE BUDDHIST AFFAIR\\n\\nHAS BEEN RETARDED . THE POLICY OF UTMOST CONCILIATION IS IRREVERSIBLE .\\n\\n/ IN WASHINGTON, WHERE HENRY CABOT LODGE WAS GETTING HIS FINAL\\n\\nBRIEFINGS BEFORE LEAVING TO TAKE OVER AS NEW U.S . AMBASSADOR IN\\n\\nSAIGON, SECRETARY OF STATE DEAN RUSK DECLARED HIMSELF \" DEEPLY\\n\\nDISTRESSED \" OVER THE CRISIS AND THE DETRIMENTAL EFFECT IT WAS HAVING\\n\\nON THE WAR AGAINST THE COMMUNIST VIET CONG . SAID RUSK : \" WE HOPE THE\\n\\nGOVERNMENT OUT THERE WILL TAKE A STRONG LEAD TO BRING ABOUT A GREATER\\n\\nDEGREE OF PEACE AND SERENITY . /\\n\\n'"
      ]
     },
     "execution_count": 216,
     "metadata": {},
     "output_type": "execute_result"
    }
   ],
   "source": [
    "docs[322]"
   ]
  },
  {
   "cell_type": "code",
   "execution_count": 217,
   "id": "0ad1e788",
   "metadata": {},
   "outputs": [
    {
     "data": {
      "text/plain": [
       "'SOUTH VIET NAM REPORT ON THE WAR OVERSHADOWED\\n\\nBY THE POLITICAL AND DIPLOMATIC TURMOIL IN SAIGON, THE ALL BUT\\n\\nFORGOTTEN WAR AGAINST THE VIET CONG CONTINUES ON ITS UGLY, BLOODY AND\\n\\nWEARISOME COURSE . THE DRIVE AGAINST THE COMMUNISTS HAS NOT DIMINISHED\\n\\nIN RECENT WEEKS ; IN FACT, IT HAS INTENSIFIED . FEARS THAT THE\\n\\nBUDDHIST CONTROVERSY MIGHT DAMAGE MORALE AMONG VIETNAMESE TROOPS HAVE\\n\\nSO FAR BEEN GROUNDLESS . IF LAST WEEK\\'S BATTLES WERE ANY CRITERION, THE\\n\\nGOVERNMENT SOLDIERS ARE FIGHTING BETTER THAN EVER AGAINST A COMMUNIST\\n\\nFOE THAT IS EXACTING A HIDEOUS PRICE IN BLOOD IN THE FLOODED PADDIES OF\\n\\nTHE SOUTH . THE BIGGEST GOVERNMENT VICTORY IN MONTHS CAME LAST WEEK\\n\\nNEAR THE TOWN OF GOCONG, 45 MILES SOUTH OF SAIGON . IN THE DEAD OF\\n\\nNIGHT, 500 VIET CONG REGULARS SWOOPED DOWN ON A STRATEGIC HAMLET UNDER\\n\\nA SCREEN OF SUPPORTING FIRE FROM HEAVY MACHINE GUNS AND RECOILLESS\\n\\nRIFLES . DESPERATELY CALLING FOR HELP OVER THEIR RADIO, THE DEFENDERS\\n\\nFOUGHT BACK DOGGEDLY, BUT WERE BARELY HOLDING OUT WHEN A GOVERNMENT\\n\\nINFANTRY RELIEF COLUMN ARRIVED AT DAWN WITH 15 ARMORED PERSONNEL\\n\\nCARRIERS . AMBUSHED BY THE REDS, THE GOVERNMENT REINFORCEMENTS DID NOT\\n\\nPANIC, NOSED THEIR PERSONNEL CARRIERS OFF THE ROAD AND INTO THE\\n\\nPADDIES, HEADING DIRECTLY FOR THE DUGIN REDS . FROM A GRAVEYARD AT THE\\n\\nFRINGE OF THE BATTLEFIELD, A VIET CONG HEAVY MACHINE GUN KNOCKED OUT AN\\n\\nAPC . BUT SUPPORTED BY GOVERNMENT AIR FORCE PLANES, WHICH SWEPT OVER\\n\\nTHE RED POSITIONS IN SCREAMING, SHALLOW DIVES FIRING ROCKETS AND\\n\\nDROPPING NAPALM, THE REINFORCEMENTS ROLLED STRAIGHT ONTO THE REDS,\\n\\nMASHING SCORES OF THE COMMUNIST TROOPS INTO THE STINKING PADDY MUD WITH\\n\\nTHEIR HUGE STEEL TREADS . AT LAST THE REDS BROKE AND RAN, LEAVING\\n\\nBEHIND 83 DEAD . MUTILATED BODIES . THE EPISODE MADE NO SIZABLE DENT IN\\n\\nTHE VIET CONG ARMY . BUT IT WAS HEARTENING TO U.S . MILITARY OBSERVERS,\\n\\nWHO ON MANY PAST OCCASIONS HAD WATCHED THE GOVERNMENT\\'S TROOPS REFUSE\\n\\nTO PRESS THEIR ATTACK . THIS TIME THE RELIEF COLUMN HAD STOOD ITS\\n\\nGROUND UNDER THE VIET CONG POUNDING AND THEN MOVED IN ON THE REDS IN\\n\\nBRUTAL COMBAT . TWO DAYS LATER, THE REDS EVENED THE SCORE . THIS TIME\\n\\nTHEY HIT THE RICE-RICH CAMAU PENINSULA, TRADITIONALLY\\n\\nCOMMUNIST-CONTROLLED TERRITORY WHERE GOVERNMENT ENCLAVES ARE ONLY\\n\\nISLANDS IN A SEA OF VIET CONG . THE PLAN WAS A CLEVER TWO-PRONGED\\n\\nATTACK AGAINST THE TWO GOVERNMENT-HELD CITIES OF CAI NUOC AND DAMDOI,\\n\\nWHICH LIE 15 MILES APART ON THE SOUTHERNMOST TIP OF VIET NAM . TO\\n\\nCONFUSE GOVERNMENT REINFORCEMENTS AND TO HAMPER THEIR SPEEDY ARRIVAL,\\n\\nTHE VIET CONG FIRST FEINTED AT THREE NEIGHBORING OUTPOSTS, SOWED MINES\\n\\nON A MAJOR ROAD OVER WHICH GOVERNMENT TROOPS HAD TO TRAVEL, AND POURED\\n\\nHARASSING MORTAR FIRE ON A U.S . HELICOPTER AIRSTRIP IN THE AREA .\\n\\nTHE MILITARY FRONT SEEMED A MILLION\\n\\nMILES FROM SAIGON LAST WEEK . FOUR WEEKS AFTER THE CRACKDOWN ON SOUTH\\n\\nVIET NAM\\'S BUDDHIST OPPOSITION, AN ATMOSPHERE OF WATCHFUL WAITING HUNG\\n\\nOVER THE CITY . STILL FEARFUL OF A COUP, THE GOVERNMENT STATIONED\\n\\nSECRET POLICE OUTSIDE THE HOMES OF SUSPECT OFFICIALS ; TOP MILITARY\\n\\nOFFICERS WERE ORDERED TO SLEEP AT MILITARY HEADQUARTERS SO THAT A CHECK\\n\\nCOULD BE KEPT ON THEIR WHEREABOUTS . WITH THE BUDDHIST OPPOSITION\\n\\nLULLED FOR THE MOMENT, SAIGON\\'S STUDENT POPULATION FEEBLY TRIED TO\\n\\nRAISE PROTESTS AGAINST THE GOVERNMENT . PELTED WITH CHAIRS AND DESKS\\n\\nTHROWN FROM CLASSROOM WINDOWS, GOVERNMENT TROOPS CLOSED MANY OF\\n\\nSAIGON\\'S SCHOOLS, THREW NEARLY 1,000 STUDENTS INTO JAIL TO COOL OFF .\\n\\nIT SEEMED LIKELY THAT VIET CONG AGENTS INSPIRED MUCH OF THE\\n\\nDEMONSTRATING . THIS MADE IT ALL THE MORE IMPORTANT FOR THE U.S . AND\\n\\nPRESIDENT NGO DINH DIEM TO SETTLE THEIR DIFFERENCES . THE LATEST\\n\\nEPISODES OFFERED LITTLE ASSURANCE OF THAT . COUCHING HIS WORDS IN THE\\n\\nMOST CAREFUL DIPLOMATIC TERMS, U.S . AMBASSADOR HENRY CABOT LODGE LAST\\n\\nWEEK SUGGESTED TO DIEM THAT HIS BROTHER AND FIERY SISTER-IN-LAW, NGO\\n\\nDINH NHU AND MME . NHU, LEAVE THE COUNTRY UNTIL THE CURRENT CRISIS WAS\\n\\nOVER AND A FRESH RAPPROCHEMENT\\n\\nSHORTLY AFTER MIDNIGHT, THE REDS HIT CAI\\n\\nNUOC DIRECTLY . POURING MORTAR SHELLS AND RECOILLESS RIFLE FIRE IN THE\\n\\nPERIMETER SYSTEM OF DEFENSIVE BUNKERS, THE VIET CONG BREACHED THE FRONT\\n\\nGATE OF THE CITY\\'S MAJOR OUTPOST, RAN FROM BUNKER TO BUNKER LOBBING IN\\n\\nGRENADES AND SHOOTING THE DEFENDERS IN THE BACK . THE FIGHT LASTED FOR\\n\\nONLY 35 MINUTES, BUT THE REDS OCCUPIED THE TOWN FOR THE NEXT 17 HOURS .\\n\\nIT WAS A BLOODBATH . WHEN REINFORCEMENTS FINALLY APPEARED, THEY FOUND A\\n\\nHEAP OF 50 MUTILATED BODIES, INCLUDING WOMEN AND CHILDREN, WHICH THE\\n\\nREDS HAD SET AFIRE . OF THE 100-MAN DEFENDING FORCE, ONLY 25 SURVIVED .\\n\\nEXPERTS DIFFER . SOON THEREAFTER, THE REDS OVERRAN THE NEIGHBORING TOWN\\n\\nOF DAMDOI . BUT THIS TIME THE COMMUNISTS MADE THE MISTAKE OF STAYING\\n\\nTOO LONG . SEVEN HOURS AFTER THE VIET CONG OCCUPIED THE TOWN,\\n\\nGOVERNMENT MARINES, AIRLIFTED TO THE SCENE IN U.S . HELICOPTERS,\\n\\nCOUNTERATTACKED . HALF THE MARINE FORCE BLOCKED THE REDS\\' ESCAPE ROUTE\\n\\nAND ATTACKED THEIR SANDBAGGED POSITIONS . ARMED HELICOPTERS UNLOADED\\n\\nSOME 80 ROCKETS INTO THE COMMUNIST DEFENSES, AND FIGHTER PLANES ZOOMED\\n\\nIN AT TREETOP LEVEL WITH GUNS BLAZING . WHEN THE REDS FINALLY\\n\\nDISAPPEARED INTO THE PADDIES AFTER AN ALL-DAY FIGHT, THEY LEFT BEHIND\\n\\n60 DEAD   BETWEEN THE GOVERNMENT AND THE POPULATION ESTABLISHED\\n\\n. LODGE HINTED DELICATELY THAT THE CONTINUED PRESENCE OF THE BITTERLY\\n\\nCONTROVERSIAL NHUS IN SOUTH VIET NAM NOT ONLY HAMPERED THE WAR EFFORT\\n\\nAGAINST THE COMMUNIST VIET CONG, BUT COULD ALSO \" ENDANGER \" U.S .\\n\\nCONGRESSIONAL APPROPRIATIONS TO DIEM\\'S GOVERNMENT . DIEM EXPRESSED\\n\\nSURPRISE AND SHOCK AT LODGE\\'S SUGGESTION, COLDLY TURNED IT DOWN ; HE\\n\\nMIGHT HAVE WONDERED HOW JOHN F . KENNEDY WOULD HAVE FELT IF VIET NAM\\n\\nHAD ASKED FOR THE EXILE OF BOBBY AND ETHEL . WHAT NEXT IN U.S . POLICY\\n\\n? IT WAS A TIME OF FRANTIC PONDERING AND FRANTIC DISCUSSION IN\\n\\nWASHINGTON . SOME OF THE SUGGESTIONS WERE LUDICROUS : CUT OFF ALL AID\\n\\nTO DIEM (WHICH WOULD EFFECTIVELY HAND THE COUNTRY TO THE COMMUNISTS) ;\\n\\nRUN THE SEVENTH FLEET UP TO THE COAST AND FORCE DIEM OUT OF POWER (ALSO\\n\\nSENSELESS, SINCE NO SUITABLE SUCCESSOR WAS VISIBLE) . NO ONE SEEMED TO\\n\\nBE DISCUSSING PERHAPS THE MOST SENSIBLE SOLUTION OF ALL : STOP ALL THE\\n\\nHALFWAY HINTS OF ENCOURAGEMENT TO PROMOTERS OF A COUP D\\'ETAT, AND GET\\n\\nON WITH THE DIFFICULT AND UNPALATABLE TASK OF WORKING WITH NGO DINH\\n\\nDIEM AND HIS FAMILY . FACED WITH A PROFUSION OF PROPOSALS FOR ACTION,\\n\\nPRESIDENT KENNEDY WAS KEEPING HIS MIND OPEN . AT HIS PRESS CONFERENCE,\\n\\nHE REFUSED ALL EFFORTS TO DRAG HIM INTO A DISCUSSION\\n\\nTHE GOVERNMENT\\'S\\n\\nMARINES WERE ALSO BADLY BATTERED ; 48 WERE KILLED BY THE TIME THE\\n\\nSHOOTING STOPPED . ON THE BASIS OF BODIES, THIS MIGHT BE CALLED A\\n\\nGOVERNMENT VICTORY . NOT SO INSIST SOME AMERICAN MILITARY MEN WHO ARGUE\\n\\nTHAT SUCH DEFENSIVE RESPONSES WHATEVER THE PENALTY IN LIVES TO THE\\n\\nCOMMUNIST ENEMY ARE WASTING THE STRENGTH OF THE VIETNAMESE FORCES AS\\n\\nWELL AS THE $1,500,000 A DAY THE U.S . IS PUMPING INTO THE COUNTRY .\\n\\nTHESE EXPERTS WILL NOT BE HAPPY UNTIL THE GOVERNMENT CAN ORGANIZE\\n\\nREGULAR \" SEARCH AND HOLD \" OPERATIONS IN THE SOUTHERN RICE COUNTRY,\\n\\nCOMMUNISM\\'S STRONGHOLD . IT IS AN INCREDIBLY DIFFICULT TASK . THOUGH\\n\\nTHE VIET CONG ARE LOSING MORE MEN (CURRENTLY ABOUT 500 A WEEK) ALL THE\\n\\nTIME, THERE ARE MORE TO BE KILLED ,; OFFICIALS IN SAIGON NOW ESTIMATE\\n\\nTHAT HARD-CORE COMMUNIST STRENGTH HAS GONE UP FROM 23,000 TO 31,000\\n\\nOVER THE PAST FEW MONTHS . BUT GOVERNMENT STRIKES ARE AT LEAST MORE AND\\n\\nMORE FREQUENT . IN THE FIRST WEEK OF SEPTEMBER, 55 SEPARATE OFFENSIVE\\n\\nGROUND ACTIONS OF BATTALION STRENGTH OR LARGER WERE UNDER WAY, CLOSE TO\\n\\nAN ALLTIME RECORD . CONVERSELY, RED ATTACKS ALSO INCREASED FROM 300 TO\\n\\n400 IN THE SAME PERIOD . AS THIS WEEK\\'S OPERATIONS ILLUSTRATE, HOWEVER,\\n\\nMANY GOVERNMENT TROOPS HAVE LEARNED TO STAND AND FIGHT .\\n\\nPERSONALITIES AND SAID SIMPLY : \" WHAT HELPS THE WAR WE SUPPORT\\n\\n; WHAT INTERFERES WITH THE WAR EFFORT WE OPPOSE . WE ARE NOT THERE TO\\n\\nSEE A WAR LOST . THAT IS OUR POLICY . \" AS IF TO QUIET U.S .\\n\\nNERVOUSNESS, DIEM AT WEEK\\'S END ANNOUNCED THAT MARTIAL LAW, WHICH HAS\\n\\nBEEN IN EFFECT FOR ALMOST A MONTH, WILL END THIS WEEK, FORESHADOWING A\\n\\nPOSSIBLE RETURN TO NORMALCY IN SOUTH VIET NAM .\\n\\nDRAGON LADY, DRAGONFLY IN A BLAZE OF FLASHBULBS, MME . NGO DINH\\n\\nNHU LEFT SAIGON LAST WEEK ON A TRIP TO BEIRUT, BELGRADE, AND POINTS\\n\\nWEST . ELABORATELY COIFFED AND GOWNED, SHE MET REPORTERS AND DEFENDED\\n\\nHER VIEWS, ATTACKED HER ENEMIES, DODGED OVERLY CURVED QUESTIONS, AND\\n\\nDISPLAYED AN INCREDIBLY FASCINATING FEMININE CHARM . WHETHER TWIRLING A\\n\\nPARASOL OR HIDING SHYLY BEHIND AN IVORY FAN, SHE BOTH ATTRACTED AND\\n\\nANNOYED . \" I HAD A STRONG DESIRE TO SLAP HER, \" SAID ONE FRENCH\\n\\nTELEVISION INTERVIEWER, \" BUT FROM VERY, VERY CLOSE . \" AFTER THE\\n\\nLYNCHING . MME . NHU\\'S PERFORMANCE BEGAN AT THE SAIGON AIRPORT . SHE\\n\\nSAID THAT WHEN HER MOTHER CABLED HER FROM THE U.S . URGING HER TO FLEE\\n\\nSOUTH VIET NAM WITH HER CHILDREN BECAUSE THEIR LIVES WERE IN DANGER,\\n\\nSHE HAD ANSWERED : \" DEAR MOTHER, I AM SORRY YOU HAVE BECOME\\n\\nINTOXICATED . \" TO A QUESTION ABOUT HER ITINERARY, SHE SAID : \"\\n\\nEVERYONE CALLS ME \" THE DRAGON LADY.\\' FOR THE NEXT FEW WEEKS, I WILL BE\\n\\nLIKE THE DRAGONFLY OF THE VIETNAMESE SONG . WHEN IT\\'S HAPPY, IT STAYS\\n\\n; WHEN IT\\'S UNHAPPY, IT FLIES AWAY . \" TENTATIVELY, MME . NHU SAID,\\n\\nSHE PLANNED TO VISIT THE U.S., THOUGH IT WOULD BE LIKE GETTING INSIDE \"\\n\\nA LION\\'S CAGE . \" / I SHALL JUST TALK EXTEMPORANEOUSLY, \" SHE SAID . \"\\n\\nI AM INVITED BY THE MOST IMPORTANT PRESS GROUPS . AFTER LYNCHING ME,\\n\\nMORE OR LESS, NOW THEY WISH TO HEAR ME . \" SHE DENIED THAT SHE WAS\\n\\nGOING TO BE SOUTH VIET NAM\\'S OBSERVER AT THE UNITED NATIONS GENERAL\\n\\nASSEMBLY . \" I HAVE NOTHING TO DO WITH THE U.N., \" SHE SAID . \" I AM\\n\\nNOT EVEN GOING THERE TO VISIT, BECAUSE I HAVE ALREADY SEEN IT . \"\\n\\nOFFICIAL CONSTERNATION . AT THE INTERPARLIAMENTARY UNION CONFERENCE IN\\n\\nBELGRADE, WHERE SHE REPRESENTED SOUTH VIET NAM, MME . NHU STOLE THE\\n\\nSHOW WITH HER GRACEFUL PINK AODAI . THERE WAS FIRE IN HER EYES AND IN\\n\\nHER WORDS . THE DIEM GOVERNMENT WOULD NEVER YIELD TO \" PERFIDIOUS\\n\\nBLACKMAILING ATTACKS, \" SHE EXCLAIMED . WHAT ABOUT THE CONCERN FOR\\n\\nSOUTH VIET NAM\\'S BUDDHISTS VOICED BY THE VATICAN ? POPE PAUL VI IS\\n\\nTOO \" EASILY WORRIED, \" RETORTED MME . NHU . HER ACID REMARK\\n\\nSUPPLEMENTED EARLIER COMMENTS ON THE SAME SUBJECT ON FRENCH TELEVISION\\n\\n: \" AS A CATHOLIC, I AM ONLY REQUIRED TO BELIEVE IN THE DOGMAS OF MY\\n\\nRELIGION AND THE POPE . THE POPE IS ONLY INFALLIBLE WHEN HE DECREES\\n\\nSOMETHING EX CATHEDRA . I DO NOT BELIEVE THAT HE WILL PUT HIMSELF IN\\n\\nHIS CHAIR TO DISAVOW ME, BECAUSE THAT WOULD BE A VERY BAD BLOW TO\\n\\nCATHOLICISM . \" REPORTS THAT SHE WOULD NOT STAY AT THE CONFERENCE UNTIL\\n\\nITS CONCLUSION LEFT OFFICIALS NEAR CONSTERNATION . \" IF MME . NHU\\n\\nLEAVES ONE DAY EARLY, D ONE, \" THEN THE CONFERENCE WILL HAVE LOST ITS\\n\\nIMPORTANCE . \" BUT SHE SHOWED EVERY SIGN OF ENJOYING HERSELF . LETTING\\n\\nFLY AT THE WHITE HOUSE AFTER REPORTS THAT JOHN F . KENNEDY MIGHT BE A\\n\\nBIT UNHAPPY WITH SOUTH VIET NAM\\'S WHOLE RULING FAMILY, MME . NHU\\n\\nSUGGESTED THAT THE PRESIDENT WAS \" MISINFORMED ABOUT THE SITUATION IN\\n\\nSOUTH VIET NAM . \" / HE\\'S A POLITICIAN, AND WHEN HE HEARS LOUD\\n\\nOPPOSITION, HE TRIES TO APPEASE IT . \" TWO DAYS LATER SHE HAD LUNCH\\n\\nWITH ANOTHER DELEGATE AT THE CONFERENCE . IT WAS NONE OTHER THAN THE\\n\\nPRESIDENT\\'S BROTHER, SENATOR EDWARD M . KENNEDY . LIKE OTHERS ON THE\\n\\nU.S . DELEGATION, TEDDY KENNEDY HAD HALFWAY HOPED TO AVOID THE\\n\\nCONFRONTATION . BUT THEY HAD A CHAT . A LONG CHAT . \" SHE DISCUSSED AT\\n\\nLENGTH HER SIDE OF THE PICTURE, \" SAID TEDDY LATER . \" SHE WANTED TO\\n\\nTALK TO ME . SHE WANTS TO TALK TO ANYONE AND EVERYONE . \" IN FACT,\\n\\nDECLARED AN AWED WITNESS TO THE ONE-SIDED CONVERSATION, \" SHE DID NOT\\n\\nSTOP TALKING FROM ONE MINUTE TO THE OTHER . \" UNABLE TO GET A WORD IN\\n\\nEDGEWAYS, TEDDY TOOK NOTES .\\n\\nIT MAY HAVE BEEN THIS TART REMARK THAT PARTLY PROMPTED U.N .\\n\\nSECRETARY-GENERAL U THANT TO MAKE SOME WHOLLY GRATUITOUS OBSERVATIONS\\n\\nAT A MANHATTAN PRESS CONFERENCE . CONDITIONS IN SAIGON WERE \" CHAOTIC,\\n\\n/ DECLARED U THANT, ADDING THAT \" CONSTITUTIONAL PROCESSES \" ARE \" A\\n\\nFEATURE WHICH IS COMPLETELY ABSENT IN VIET NAM . \" THEY ARE, OF COURSE,\\n\\nCOMPLETELY ABSENT IN HIS OWN COUNTRY, BURMA, WHICH IS RULED BY GENERAL\\n\\nNE WIN, AS FIRM A DICTATOR AS EXISTS IN SOUTHEAST ASIA BUT NEVER\\n\\nCRITICIZED BY U THANT .\\n\\n'"
      ]
     },
     "execution_count": 217,
     "metadata": {},
     "output_type": "execute_result"
    }
   ],
   "source": [
    "docs[348]"
   ]
  },
  {
   "cell_type": "code",
   "execution_count": 218,
   "id": "66371e71",
   "metadata": {},
   "outputs": [
    {
     "data": {
      "text/plain": [
       "'SOUTH VIET NAM SUICIDE IN MANY FORMS A SOUTH VIETNAMESE NOVELIST\\n\\nAND POLITICIAN NAMED NGUYEN TUONG TAM SENT HIS SONS OUT TO BUY A BOTTLE\\n\\nOF WHISKY ONE NIGHT LAST WEEK . FOR A WHILE HE SAT DRINKING WITH THEM\\n\\nAT HIS HOME IN SAIGON . \" MY SONS, I FEEL VERY HAPPY TONIGHT, \" HE SAID\\n\\n. \" I AM GOING TO DIE VERY SOON . \" SUDDENLY HE KEELED OVER, WAS RUSHED\\n\\nTO A HOSPITAL WHERE HE DIED NEXT MORNING . IN HIS GLASS WAS FOUND A\\n\\nLETHAL DOSE OF CYANIDE . NOVELIST TAM, 58, WAS A REVOLUTIONARY LEADER\\n\\nIN INDO-CHINA\\'S WAR AGAINST THE FRENCH . BUT AFTER INDEPENDENCE IN\\n\\n1954, HE GREW INCREASINGLY DISENCHANTED WITH THE AUTHORITARIAN RULE OF\\n\\nSOUTH VIET NAM\\'S PRESIDENT NGO DINH DIEM . FORTNIGHT AGO, DIEM\\'S\\n\\nGOVERNMENT CHARGED TAM AND 34 OTHERS WITH TREASON BY CONSPIRING TO\\n\\nOVERTHROW THE PRESIDENT IN AN ABORTIVE COUP ATTEMPT IN NOVEMBER 1960 .\\n\\nIT WAS JUST TWO DAYS BEFORE THE SCHEDULED TRIAL THAT TAM COMMITTED\\n\\nSUICIDE, AND HE EXPLAINED WHY IN A NOTE HE LEFT BEHIND . \" THE ARREST\\n\\nAND TRIAL OF ALL NATIONALIST OPPONENTS OF THE REGIME IS A CRIME THAT\\n\\nWILL FORCE THE NATION INTO THE HANDS OF THE COMMUNISTS, \" HE WROTE . \"\\n\\nI OPPOSE THIS CRIME, AND I KILL MYSELF AS A WARNING TO THOSE PEOPLE WHO\\n\\nARE TRAMPLING ON OUR FREEDOMS . \" DRAGGING FEET . DIEM\\'S GOVERNMENT\\n\\nMOVED QUICKLY TO HEAD OFF DEMONSTRATIONS OVER TAM\\'S DEATH, POSTHUMOUSLY\\n\\nACQUITTED HIM OF ALL CONSPIRACY CHARGES AT THE SAIGON TREASON TRIAL .\\n\\nAT THE SAME TIME, THE PROSECUTORS TRIED TO IMPLICATE THE U.S . AS BEING\\n\\nBEHIND THE 1960 COUP ; THE CHARGE WAS VIGOROUSLY DENIED BY THE U.S .\\n\\nAT THE END OF THE TRIAL, GOVERNMENT JUDGES SENTENCED 20 DEFENDANTS TO\\n\\nPRISON TERMS RANGING FROM FIVE TO EIGHT YEARS ; NINE OTHERS WHO HAD\\n\\nFLED THE COUNTRY AFTER THE ATTEMPTED COUP WERE SENTENCED TO DEATH IN\\n\\nABSENTIA . TAM\\'S SUICIDE AND THE SAIGON TRIAL SERVED ONCE AGAIN TO\\n\\nSTOKE SOUTH VIET NAM\\'S SMOLDERING RELIGIOUS AND POLITICAL CRISIS . LAST\\n\\nMONTH BUDDHIST MONK THICH QUANG DUC BURNED HIMSELF TO DEATH ON A SAIGON\\n\\nSTREET CORNER IN PROTEST AGAINST RESTRICTIONS IMPOSED ON THE COUNTRY\\'S\\n\\n12 MILLION BUDDHISTS BY DIEM\\'S PREDOMINANTLY ROMAN CATHOLIC REGIME .\\n\\nAFTER A SERIES OF NATIONWIDE DEMONSTRATIONS, THE GOVERNMENT, UNDER U.S\\n\\n. PRODDING, YIELDED TO BUDDHIST DEMANDS AND GRANTED THEM EQUAL\\n\\nRELIGIOUS AND POLITICAL STANDING WITH THE NATION\\'S 1,500,000 CATHOLICS\\n\\n. BUT INFLUENCED BY HIS BROTHER, NGO DINH NHU, WHO BELIEVES THAT THE\\n\\nBUDDHISTS ARE RED DUPES, THE MILITANTLY CATHOLIC DIEM HAS DRAGGED HIS\\n\\nFEET IN IMPLEMENTING THESE CONCESSIONS . MANY VIETNAMESE BUDDHISTS,\\n\\nSAYS NHU, \" HAVE BECOME FANATIC, LOST THEIR COMMON SENSE, AND ARE READY\\n\\nTO FOLLOW ANYONE WHO KNOWS HOW TO EXPLOIT THEM UNDER THE BANNER OF\\n\\nRELIGION . \" THIS WAS THE KIND OF DOGGED ANTI-BUDDHIST ATTITUDE THAT\\n\\nHAS DANGEROUSLY UNDERCUT GOVERNMENT SUPPORT . ALREADY ONE GENERAL HAS\\n\\nRESIGNED HIS FIELD COMMAND IN PROTEST OVER GOVERNMENT BUNGLING OF THE\\n\\nBUDDHIST ISSUE . SIMPLE REASON . DIEM\\'S\\n\\nINTRANSIGENCE HAS DISMAYED U.S . OFFICIALS, WHO FEAR THAT MOUNTING\\n\\nBUDDHIST DISCONTENT CAN ONLY HINDER THE WAR EFFORT AGAINST THE VIET\\n\\nCONG, JUST WHEN IT IS BEGINNING TO GO WELL . OVER THE PAST YEAR,\\n\\nGOVERNMENT FORCES AND THEIR 14,000 U.S . MILITARY \" ADVISERS \" HAVE\\n\\nVASTLY INCREASED THEIR MOBILITY AND STRIKING POWER AGAINST THE RED\\n\\nGUERRILLAS . MORE THAN 7,000 \" STRATEGIC HAMLETS \" HAVE BEEN BUILT, NOW\\n\\nPROTECT 8,000,000 VIETNAMESE FROM VIET CONG RAIDS . DESPITE ALL\\n\\nMISGIVINGS, THE U.S . STILL STANDS BEHIND DIEM FOR A SIMPLE REASON THAT\\n\\nHE HIMSELF SPELLED OUT IN A BLUNT WARNING LAST WEEK : \" FOR A MOMENT,\\n\\nIMAGINE THAT ANOTHER GOVERNMENT REPLACES THIS ONE : IT COULD NOT HELP\\n\\nRESULTING IN CIVIL WAR AND DREADFUL DICTATORSHIP . \" WASHINGTON HAS\\n\\nCONSIDERED ALTERNATIVES TO DIEM, BUT FEARS THAT THE CONFUSION OF A COUP\\n\\nCOULD ONLY BENEFIT THE VIET CONG AND MIGHT END UP WITH A REGIME NO\\n\\nBETTER THAN THE PRESENT ONE . THUS U.S . AMBASSADOR FREDERICK NOLTING,\\n\\nWHO IS SOON TO BE REPLACED BY HENRY CABOT LODGE, RETURNED TO SAIGON\\n\\nFROM WASHINGTON CONSULTATIONS LAST WEEK WITH A PERSONAL MESSAGE OF\\n\\nCONFIDENCE FOR DIEM FROM JOHN KENNEDY . BUT NOLTING ALSO LIGHTLY RAPPED\\n\\nDIEM ON THE KNUCKLES FOR LETTING THE BUDDHIST CRISIS CONTINUE . \" THE\\n\\nU.S . STANDS FOR AND SUPPORTS FREEDOM OF RELIGION FOR ALL PEOPLE, \" HE\\n\\nSAID . \" IT WOULD BE A TRAGEDY IF THE GAINS AGAINST THE VIET CONG WERE\\n\\nWIPED OUT BY DISSENSIONS AMONG VIETNAMESE CITIZENS, WHO DESIRE ABOVE\\n\\nALL FREEDOM OF CHOICE FOR THEMSELVES AND FOR THEIR COUNTRY .\\n\\nWATCHING ONE BUDDHIST\\n\\nDEMONSTRATION IN SAIGON LAST WEEK, NINE U.S . REPORTERS WERE JOSTLED BY\\n\\nGOVERNMENT POLICE AND HAD THEIR CAMERAS SMASHED . THE COPS SAID THE\\n\\nREPORTERS HAD STARTED THE ROW . THE VOCIFEROUSLY ANTIDIEM U.S . PRESS\\n\\nCORPS IN SAIGON PROTESTED TO PRESIDENT KENNEDY .\\n\\n'"
      ]
     },
     "execution_count": 218,
     "metadata": {},
     "output_type": "execute_result"
    }
   ],
   "source": [
    "docs[303]"
   ]
  },
  {
   "cell_type": "code",
   "execution_count": null,
   "id": "f048fd4f",
   "metadata": {},
   "outputs": [],
   "source": []
  }
 ],
 "metadata": {
  "kernelspec": {
   "display_name": "Python 3 (ipykernel)",
   "language": "python",
   "name": "python3"
  },
  "language_info": {
   "codemirror_mode": {
    "name": "ipython",
    "version": 3
   },
   "file_extension": ".py",
   "mimetype": "text/x-python",
   "name": "python",
   "nbconvert_exporter": "python",
   "pygments_lexer": "ipython3",
   "version": "3.11.5"
  }
 },
 "nbformat": 4,
 "nbformat_minor": 5
}
