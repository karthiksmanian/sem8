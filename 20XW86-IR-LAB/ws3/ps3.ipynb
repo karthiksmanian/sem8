{
 "cells": [
  {
   "cell_type": "code",
   "execution_count": 70,
   "id": "6a00c94f",
   "metadata": {},
   "outputs": [],
   "source": [
    "# IR PS3"
   ]
  },
  {
   "cell_type": "code",
   "execution_count": 119,
   "id": "809fa183",
   "metadata": {},
   "outputs": [],
   "source": [
    "f_time_all = open(\"Z:/20XW86-IR-LAB/ws3/dataset-info/TIME.ALL\", 'r')"
   ]
  },
  {
   "cell_type": "code",
   "execution_count": 120,
   "id": "dea39025",
   "metadata": {},
   "outputs": [],
   "source": [
    "def parse_documents(f):\n",
    "    documents = []\n",
    "    fstr = f.read()\n",
    "    regex = r\"\\*TEXT \\d{3} \\d{2}/\\d{2}/\\d{2} PAGE \\d{3}\\n\\n\"\n",
    "    \n",
    "    iters = []\n",
    "    result = re.finditer(regex, fstr, re.DOTALL)\n",
    "    for key in result:\n",
    "        iters.append(key)\n",
    "    \n",
    "    for i in range(len(iters)-1):\n",
    "        i1 = iters[i].span()[1]\n",
    "        i2 = iters[i+1].span()[0]\n",
    "        \n",
    "        documents.append(fstr[i1:i2])\n",
    "    \n",
    "    return documents"
   ]
  },
  {
   "cell_type": "code",
   "execution_count": 121,
   "id": "beec9cde",
   "metadata": {},
   "outputs": [],
   "source": [
    "docs = parse_documents(f_time_all)"
   ]
  },
  {
   "cell_type": "code",
   "execution_count": null,
   "id": "9c00a49d",
   "metadata": {
    "scrolled": true
   },
   "outputs": [],
   "source": []
  },
  {
   "cell_type": "code",
   "execution_count": null,
   "id": "41049f86",
   "metadata": {},
   "outputs": [],
   "source": []
  },
  {
   "cell_type": "code",
   "execution_count": null,
   "id": "689bf1a9",
   "metadata": {},
   "outputs": [],
   "source": []
  },
  {
   "cell_type": "code",
   "execution_count": null,
   "id": "54cecf4f",
   "metadata": {},
   "outputs": [],
   "source": []
  }
 ],
 "metadata": {
  "kernelspec": {
   "display_name": "Python 3 (ipykernel)",
   "language": "python",
   "name": "python3"
  },
  "language_info": {
   "codemirror_mode": {
    "name": "ipython",
    "version": 3
   },
   "file_extension": ".py",
   "mimetype": "text/x-python",
   "name": "python",
   "nbconvert_exporter": "python",
   "pygments_lexer": "ipython3",
   "version": "3.11.5"
  }
 },
 "nbformat": 4,
 "nbformat_minor": 5
}
