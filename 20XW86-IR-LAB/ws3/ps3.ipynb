{
 "cells": [
  {
   "cell_type": "code",
   "execution_count": 1,
   "id": "6a00c94f",
   "metadata": {},
   "outputs": [],
   "source": [
    "# IR PS3\n",
    "import re\n",
    "import string"
   ]
  },
  {
   "cell_type": "code",
   "execution_count": 2,
   "id": "809fa183",
   "metadata": {},
   "outputs": [],
   "source": [
    "f_time_all = open(\"Z:/20XW86-IR-LAB/ws3/dataset-info/TIME.ALL\", 'r')\n",
    "f_query = open(\"Z:/20XW86-IR-LAB/ws3/dataset-info/TIME.QUE\", 'r')\n",
    "f_stp = open(\"Z:/20XW86-IR-LAB/ws3/dataset-info/TIME.STP\", 'r')"
   ]
  },
  {
   "cell_type": "code",
   "execution_count": 3,
   "id": "dea39025",
   "metadata": {},
   "outputs": [],
   "source": [
    "def parse_documents(f):\n",
    "    documents = []\n",
    "    fstr = f.read()\n",
    "    regex = r\"\\*TEXT\\s+\\d{3}\\s+\\d{2}/\\d{2}/\\d{2}\\s+PAGE\\s+\\d{3}\\n\\n\"\n",
    "    \n",
    "    iters = []\n",
    "    result = re.finditer(regex, fstr, re.DOTALL)\n",
    "    for key in result:\n",
    "        iters.append(key)\n",
    "\n",
    "    for i in range(len(iters)-1):\n",
    "        i1 = iters[i].span()[1]\n",
    "        i2 = iters[i+1].span()[0]\n",
    "        \n",
    "        documents.append(fstr[i1:i2])\n",
    "    \n",
    "    return documents"
   ]
  },
  {
   "cell_type": "code",
   "execution_count": 4,
   "id": "af824db4",
   "metadata": {},
   "outputs": [],
   "source": [
    "def parse_queries(f):\n",
    "    text = f.read()\n",
    "    result = re.findall(r'FIND\\s+\\d+\\s+(.*)', text)\n",
    "    \n",
    "    return result"
   ]
  },
  {
   "cell_type": "code",
   "execution_count": 5,
   "id": "880eb971",
   "metadata": {},
   "outputs": [],
   "source": [
    "def parse_stopwords(f):\n",
    "    text = f.read()\n",
    "    text = text.lower()\n",
    "    \n",
    "    return set(nltk.word_tokenize(text))"
   ]
  },
  {
   "cell_type": "code",
   "execution_count": 6,
   "id": "beec9cde",
   "metadata": {},
   "outputs": [],
   "source": [
    "docs = parse_documents(f_time_all)"
   ]
  },
  {
   "cell_type": "code",
   "execution_count": 7,
   "id": "6e0e4a8b",
   "metadata": {},
   "outputs": [],
   "source": [
    "queries = parse_queries(f_query)"
   ]
  },
  {
   "cell_type": "code",
   "execution_count": 8,
   "id": "9c00a49d",
   "metadata": {
    "scrolled": true
   },
   "outputs": [],
   "source": [
    "samp_doc = docs[0]"
   ]
  },
  {
   "cell_type": "code",
   "execution_count": 9,
   "id": "62e314c1",
   "metadata": {},
   "outputs": [
    {
     "ename": "NameError",
     "evalue": "name 'nltk' is not defined",
     "output_type": "error",
     "traceback": [
      "\u001b[1;31m---------------------------------------------------------------------------\u001b[0m",
      "\u001b[1;31mNameError\u001b[0m                                 Traceback (most recent call last)",
      "Cell \u001b[1;32mIn[9], line 1\u001b[0m\n\u001b[1;32m----> 1\u001b[0m stopwords \u001b[38;5;241m=\u001b[39m parse_stopwords(f_stp)\n",
      "Cell \u001b[1;32mIn[5], line 5\u001b[0m, in \u001b[0;36mparse_stopwords\u001b[1;34m(f)\u001b[0m\n\u001b[0;32m      2\u001b[0m text \u001b[38;5;241m=\u001b[39m f\u001b[38;5;241m.\u001b[39mread()\n\u001b[0;32m      3\u001b[0m text \u001b[38;5;241m=\u001b[39m text\u001b[38;5;241m.\u001b[39mlower()\n\u001b[1;32m----> 5\u001b[0m \u001b[38;5;28;01mreturn\u001b[39;00m \u001b[38;5;28mset\u001b[39m(nltk\u001b[38;5;241m.\u001b[39mword_tokenize(text))\n",
      "\u001b[1;31mNameError\u001b[0m: name 'nltk' is not defined"
     ]
    }
   ],
   "source": [
    "stopwords = parse_stopwords(f_stp)"
   ]
  },
  {
   "cell_type": "code",
   "execution_count": null,
   "id": "41049f86",
   "metadata": {},
   "outputs": [],
   "source": [
    "# Preprocessing\n",
    "# 1. conv. to lowercase\n",
    "# 2. tokenization\n",
    "# 3. stopword, spl char removal\n",
    "# 4. stemming"
   ]
  },
  {
   "cell_type": "code",
   "execution_count": 10,
   "id": "4137998e",
   "metadata": {},
   "outputs": [
    {
     "name": "stderr",
     "output_type": "stream",
     "text": [
      "[nltk_data] Downloading package stopwords to\n",
      "[nltk_data]     C:\\Users\\TEMP.CS2K16.001\\AppData\\Roaming\\nltk_data...\n",
      "[nltk_data]   Package stopwords is already up-to-date!\n",
      "[nltk_data] Downloading package punkt to\n",
      "[nltk_data]     C:\\Users\\TEMP.CS2K16.001\\AppData\\Roaming\\nltk_data...\n",
      "[nltk_data]   Package punkt is already up-to-date!\n"
     ]
    },
    {
     "data": {
      "text/plain": [
       "True"
      ]
     },
     "execution_count": 10,
     "metadata": {},
     "output_type": "execute_result"
    }
   ],
   "source": [
    "import nltk\n",
    "nltk.download('stopwords')\n",
    "nltk.download('punkt')"
   ]
  },
  {
   "cell_type": "code",
   "execution_count": null,
   "id": "a2d163c3",
   "metadata": {},
   "outputs": [],
   "source": [
    "from nltk.stem.porter import PorterStemmer\n",
    "ps = PorterStemmer()"
   ]
  },
  {
   "cell_type": "code",
   "execution_count": null,
   "id": "689bf1a9",
   "metadata": {},
   "outputs": [],
   "source": [
    "def transform_text(text):\n",
    "    text = text.lower()\n",
    "    text = nltk.word_tokenize(text)\n",
    "    \n",
    "    y = []\n",
    "    \n",
    "    for i in text:\n",
    "        if i.isalnum():\n",
    "            y.append(i)\n",
    "    \n",
    "    text = y[:]\n",
    "    y.clear()\n",
    "    \n",
    "    for i in text:\n",
    "        if i not in stopwords and i not in string.punctuation:\n",
    "            y.append(i)\n",
    "    \n",
    "    text = y[:]\n",
    "    y.clear()\n",
    "    \n",
    "    for i in text:\n",
    "        y.append(ps.stem(i))\n",
    "\n",
    "    return \" \".join(y)"
   ]
  },
  {
   "cell_type": "code",
   "execution_count": null,
   "id": "54cecf4f",
   "metadata": {},
   "outputs": [],
   "source": [
    "transform_text(samp_doc)[:251]"
   ]
  },
  {
   "cell_type": "code",
   "execution_count": null,
   "id": "058b20d7",
   "metadata": {},
   "outputs": [],
   "source": [
    "processed_docs = []\n",
    "\n",
    "for doc in docs:\n",
    "    processed_docs.append(transform_text(doc))"
   ]
  },
  {
   "cell_type": "code",
   "execution_count": null,
   "id": "eaffc63a",
   "metadata": {},
   "outputs": [],
   "source": [
    "# 1. Cosine Similarity"
   ]
  },
  {
   "cell_type": "code",
   "execution_count": null,
   "id": "61484892",
   "metadata": {},
   "outputs": [],
   "source": [
    "# Wik = (TFik/LENi)*log(N+1)/0.5+DFk\n",
    "# TFik - term frequency within doc.\n",
    "# LENi - len of current doc.\n",
    "# N - total docs\n",
    "# DFk - document frequency of the word (no. of documents for which the word exists)"
   ]
  },
  {
   "cell_type": "code",
   "execution_count": null,
   "id": "e872cad7",
   "metadata": {},
   "outputs": [],
   "source": [
    "import math"
   ]
  },
  {
   "cell_type": "code",
   "execution_count": null,
   "id": "15275a22",
   "metadata": {},
   "outputs": [],
   "source": [
    "def TF(word, mymap):\n",
    "    return mymap[word]\n",
    "\n",
    "def DF(word, corpus_maps):\n",
    "    count = 0\n",
    "    \n",
    "    for hm in corpus_maps:\n",
    "        if word in hm:\n",
    "            count += 1\n",
    "    \n",
    "    return count\n",
    "\n",
    "def calculate_weights(doc, doc_map, corpus_maps):\n",
    "    vector = [0]*len(doc_map)\n",
    "    \n",
    "    mymap = {}\n",
    "    \n",
    "    for i in doc.split():\n",
    "        if i in mymap:\n",
    "            mymap[i] +=1\n",
    "        else:\n",
    "            mymap[i] = 1\n",
    "    \n",
    "    for word in doc.split():\n",
    "        TFik = TF(word, mymap)\n",
    "        LENi = len(doc)\n",
    "        N = len(corpus_maps)\n",
    "        DFk = DF(word, corpus_maps)\n",
    "        \n",
    "        try:\n",
    "            index = list(doc_map.keys()).index(word)\n",
    "            vector[index] = (TFik/LENi)*(math.log(N+1)/(0.5+DFk))\n",
    "        except ValueError:\n",
    "            pass\n",
    "    \n",
    "    return vector"
   ]
  },
  {
   "cell_type": "code",
   "execution_count": null,
   "id": "2a68f4d6",
   "metadata": {},
   "outputs": [],
   "source": [
    "doc_map = {}\n",
    "\n",
    "for doc in processed_docs:\n",
    "    for word in doc.split():\n",
    "        if word in doc_map:\n",
    "            doc_map[word] += 1\n",
    "        else:\n",
    "            doc_map[word] = 1\n",
    "\n",
    "doc_matrix = []\n",
    "\n",
    "list_of_maps = []\n",
    "\n",
    "for doc in processed_docs:\n",
    "    hm = {}\n",
    "    \n",
    "    for word in doc.split():\n",
    "        if word in hm:\n",
    "            hm[word] += 1\n",
    "        else:\n",
    "            hm[word] = 1\n",
    "    \n",
    "    list_of_maps.append(hm)\n",
    "\n",
    "for doc in processed_docs:\n",
    "    vector = calculate_weights(doc, doc_map, list_of_maps)\n",
    "    doc_matrix.append(vector)"
   ]
  },
  {
   "cell_type": "code",
   "execution_count": null,
   "id": "bb920f0a",
   "metadata": {},
   "outputs": [],
   "source": [
    "print(doc_matrix)"
   ]
  }
 ],
 "metadata": {
  "kernelspec": {
   "display_name": "Python 3 (ipykernel)",
   "language": "python",
   "name": "python3"
  },
  "language_info": {
   "codemirror_mode": {
    "name": "ipython",
    "version": 3
   },
   "file_extension": ".py",
   "mimetype": "text/x-python",
   "name": "python",
   "nbconvert_exporter": "python",
   "pygments_lexer": "ipython3",
   "version": "3.11.5"
  }
 },
 "nbformat": 4,
 "nbformat_minor": 5
}
