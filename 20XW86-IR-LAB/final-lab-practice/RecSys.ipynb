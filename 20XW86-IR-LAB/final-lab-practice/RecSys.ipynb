{
 "cells": [
  {
   "cell_type": "code",
   "execution_count": 15,
   "id": "38afc2fe-a21d-4dd5-8a57-d643192958c8",
   "metadata": {},
   "outputs": [],
   "source": [
    "import numpy as np"
   ]
  },
  {
   "cell_type": "code",
   "execution_count": 16,
   "id": "20cc6f5e-4315-454d-8a04-fe71df46e00b",
   "metadata": {},
   "outputs": [],
   "source": [
    "# 0 - unrated, 1-5 rating range.\n",
    "# constructing this matrix is done from the question.\n",
    "ratings = [\n",
    "    [2, 3, 0, 1, 3, 8],\n",
    "    [0, 3, 1, 4, 6, 7],\n",
    "    [3, 0, 0, 3, 4, 6],\n",
    "    [9, 5, 1, 5, 0, 7],\n",
    "    [3, 4, 6, 7, 9, 9],\n",
    "    [4, 0, 1, 4, 8, 0],\n",
    "    [2, 4, 0, 0, 0, 8]\n",
    "]"
   ]
  },
  {
   "cell_type": "code",
   "execution_count": 17,
   "id": "dfde84f9-370c-47cb-8054-60ba8fc0647b",
   "metadata": {},
   "outputs": [],
   "source": [
    "def cosine_similarity(vec1, vec2):\n",
    "    dot_prod = sum([x*y for x,y in zip(vec1, vec2)])\n",
    "    mag1 = sum([x*x for x in vec1])**0.5\n",
    "    mag2 = sum([y*y for y in vec2])**0.5\n",
    "    if mag1==0:\n",
    "        mag1 = 1e-8\n",
    "    if mag2==0:\n",
    "        mag2 = 1e-8\n",
    "    return dot_prod/(mag1*mag2)"
   ]
  },
  {
   "cell_type": "code",
   "execution_count": 18,
   "id": "dff0ee7c-82ef-4d2d-9e6f-6bfcbcbd8ced",
   "metadata": {},
   "outputs": [],
   "source": [
    "def findSimilarityScores(x, y, type):\n",
    "    scores = {}\n",
    "    if type=='ub':\n",
    "        for i, row in enumerate(ratings):\n",
    "            vec1 = []\n",
    "            vec2 = []\n",
    "            if i!=x:\n",
    "                for i1, i2 in zip(ratings[x], row):\n",
    "                    if i1>0 and i2>0:\n",
    "                        vec1.append(i1)\n",
    "                        vec2.append(i2)\n",
    "            \n",
    "                scores[(x, i)] = cosine_similarity(vec1, vec2)\n",
    "\n",
    "        return scores\n",
    "    elif type=='ib':\n",
    "        npratings = np.array(ratings)\n",
    "        for i in range(len(ratings[0])):\n",
    "            vec1 = []\n",
    "            vec2 = []\n",
    "            if i!=y:\n",
    "                for i1, i2 in zip(npratings[:, y], npratings[:, i]):\n",
    "                    if i1>0 and i2>0:\n",
    "                        vec1.append(i1)\n",
    "                        vec2.append(i2)\n",
    "\n",
    "                scores[(y, i)] = cosine_similarity(vec1, vec2)\n",
    "    else:\n",
    "        print(\"Wrong Type selected.\")\n",
    "\n",
    "    return scores        "
   ]
  },
  {
   "cell_type": "code",
   "execution_count": 19,
   "id": "2adcddb8-f0c5-4248-a809-295b359e0220",
   "metadata": {},
   "outputs": [],
   "source": [
    "def findRating(user, item, type='ub', k=3):\n",
    "    scores = findSimilarityScores(user, item, type)\n",
    "    scores = sorted(scores.items(), key=lambda x:x[1], reverse=True)\n",
    "    topk = {}\n",
    "    for i, score in enumerate(scores):\n",
    "        u1, u2 = score[0]\n",
    "        weight = score[1]\n",
    "\n",
    "        topk[u2] = weight\n",
    "\n",
    "        if i==k-1:\n",
    "            break\n",
    "\n",
    "    weightedSum = 0\n",
    "    sigWeight = 0\n",
    "    count = 0\n",
    "\n",
    "    if type=='ub':\n",
    "        for key in topk:\n",
    "            ui = key\n",
    "            weight = topk[key]\n",
    "            if ratings[ui][item]>0:\n",
    "                weightedSum += weight*ratings[ui][item]\n",
    "                sigWeight += weight\n",
    "                count += 1\n",
    "                print(weight, ratings[ui][item], count)\n",
    "    if type=='ib':\n",
    "        for key in topk:\n",
    "            ii = key\n",
    "            weight = topk[key]\n",
    "            if ratings[user][ii]>0:\n",
    "                weightedSum += weight*ratings[user][ii]\n",
    "                sigWeight += weight\n",
    "                count += 1\n",
    "                print(weight, ratings[user][ii], count)\n",
    "\n",
    "    print(topk)\n",
    "    predictedRating = weightedSum/sigWeight\n",
    "\n",
    "    return predictedRating"
   ]
  },
  {
   "cell_type": "code",
   "execution_count": 20,
   "id": "07edc42d-56ce-44df-be88-a6218c5172d7",
   "metadata": {},
   "outputs": [
    {
     "name": "stdout",
     "output_type": "stream",
     "text": [
      "{(2, 0): 0.48844645603902226, (2, 1): 0.7341303483857976, (2, 2): 0.0, (2, 3): 0.855416165759379, (2, 4): 0.8199319825122666, (2, 5): 0.8244998840547119}\n",
      "0.855416165759379 1 1\n",
      "0.8244998840547119 8 2\n",
      "0.8199319825122666 3 3\n",
      "{3: 0.855416165759379, 5: 0.8244998840547119, 4: 0.8199319825122666}\n"
     ]
    },
    {
     "data": {
      "text/plain": [
       "3.9647254783365784"
      ]
     },
     "execution_count": 20,
     "metadata": {},
     "output_type": "execute_result"
    }
   ],
   "source": [
    "# ub - user based\n",
    "# ib - item based\n",
    "findRating(0, 2, 'ib')"
   ]
  },
  {
   "cell_type": "code",
   "execution_count": 21,
   "id": "f54c62bc-33e0-4240-a6d6-61306bfcea48",
   "metadata": {},
   "outputs": [
    {
     "name": "stdout",
     "output_type": "stream",
     "text": [
      "0.9819805060619657 1 1\n",
      "{6: 0.9947294626039876, 5: 0.9819805060619657, 2: 0.9337976343823227}\n"
     ]
    },
    {
     "data": {
      "text/plain": [
       "1.0"
      ]
     },
     "execution_count": 21,
     "metadata": {},
     "output_type": "execute_result"
    }
   ],
   "source": [
    "findRating(0, 2, 'ub')"
   ]
  }
 ],
 "metadata": {
  "kernelspec": {
   "display_name": "Python 3 (ipykernel)",
   "language": "python",
   "name": "python3"
  },
  "language_info": {
   "codemirror_mode": {
    "name": "ipython",
    "version": 3
   },
   "file_extension": ".py",
   "mimetype": "text/x-python",
   "name": "python",
   "nbconvert_exporter": "python",
   "pygments_lexer": "ipython3",
   "version": "3.10.12"
  }
 },
 "nbformat": 4,
 "nbformat_minor": 5
}
