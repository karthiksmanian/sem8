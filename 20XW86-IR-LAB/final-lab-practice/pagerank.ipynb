{
 "cells": [
  {
   "cell_type": "code",
   "execution_count": 2,
   "id": "211c9747-8b7d-4376-a6b5-1e3c381d4615",
   "metadata": {},
   "outputs": [],
   "source": [
    "import pandas as pd\n",
    "import numpy as np"
   ]
  },
  {
   "cell_type": "code",
   "execution_count": 17,
   "id": "beaff285-bfc9-4ca7-8186-92cd357332af",
   "metadata": {},
   "outputs": [],
   "source": [
    "# Form the adj matrix from the question like this.\n",
    "A = [\n",
    "        [0, 1, 0],\n",
    "        [1, 0, 1],\n",
    "        [0, 1, 0]\n",
    "    ]"
   ]
  },
  {
   "cell_type": "code",
   "execution_count": 22,
   "id": "a735decb-2ddb-4c19-a573-9e97da6e6383",
   "metadata": {},
   "outputs": [],
   "source": [
    "def linkNormalize(A):\n",
    "    for i, row in enumerate(A):\n",
    "        rowsum = sum(row)\n",
    "        if rowsum>0:\n",
    "            for j, elt in enumerate(row):\n",
    "                A[i][j] /= rowsum\n",
    "    return A"
   ]
  },
  {
   "cell_type": "code",
   "execution_count": 30,
   "id": "b40707e1-b9f5-4b96-a181-94d141ea4b43",
   "metadata": {},
   "outputs": [],
   "source": [
    "def getStohasticMatrix(A, alpha):\n",
    "    n = len(A)\n",
    "    H = linkNormalize(A)\n",
    "    for i, row in enumerate(H):\n",
    "        if sum(row)==0:\n",
    "            H[i] = [1/n]*n\n",
    "        else:\n",
    "            for j, elt in enumerate(row):\n",
    "                H[i][j] *= alpha\n",
    "                H[i][j] += (1-alpha)/n\n",
    "    G = [row[:] for row in H]\n",
    "    return G"
   ]
  },
  {
   "cell_type": "code",
   "execution_count": 6,
   "id": "51daa24b-c450-40f7-b43c-97dcfa704898",
   "metadata": {},
   "outputs": [],
   "source": [
    "p0 = [1, 0, 0]"
   ]
  },
  {
   "cell_type": "code",
   "execution_count": 48,
   "id": "21ea5c4b-c12a-4828-8e60-52b163993b66",
   "metadata": {},
   "outputs": [],
   "source": [
    "def calculatePageRankUsingIteration(p0, G):\n",
    "    itr = 1\n",
    "    pi = np.dot(p0, G)\n",
    "\n",
    "    while not np.array_equal(p0, pi):\n",
    "        p0 = pi\n",
    "        pi = np.dot(p0, G)\n",
    "        itr += 1\n",
    "        # print(f\" Itr: {itr}, pagerank = {pi}, prevpgrank = {p0}, sp = {sum(pi)}, spp = {sum(p0)}\")\n",
    "    print(f\"PageRank converged at iteration {itr}\")\n",
    "    print(f\"pagerank = {pi}, prevpgrank = {p0}\")\n",
    "    print(f\"sp = {sum(pi)}, spp = {sum(p0)}\")\n",
    "    return pi"
   ]
  },
  {
   "cell_type": "code",
   "execution_count": 49,
   "id": "b4c2f37c-3f9b-4377-8fce-d21ae58c5d30",
   "metadata": {},
   "outputs": [
    {
     "name": "stdout",
     "output_type": "stream",
     "text": [
      "PageRank converged at iteration 117\n",
      "pagerank = [0.31481481 0.37037037 0.31481481], prevpgrank = [0.31481481 0.37037037 0.31481481]\n",
      "sp = 0.9999999999999865, spp = 0.9999999999999865\n"
     ]
    },
    {
     "data": {
      "text/plain": [
       "array([0.31481481, 0.37037037, 0.31481481])"
      ]
     },
     "execution_count": 49,
     "metadata": {},
     "output_type": "execute_result"
    }
   ],
   "source": [
    "calculatePageRankUsingIteration(p0, G)"
   ]
  },
  {
   "cell_type": "code",
   "execution_count": 58,
   "id": "76e92ea3-d7ad-45ce-8aa3-fef862334498",
   "metadata": {},
   "outputs": [],
   "source": [
    "def calculatePageRankUsingEV(G):\n",
    "    G = np.array(G)\n",
    "    w, v = np.linalg.eig(G.T)\n",
    "    print(w, v)\n",
    "    idx = np.argmax(w)\n",
    "    \n",
    "    EV = v[:, idx]\n",
    "    compsum = sum(EV)\n",
    "    for i, val in enumerate(EV):\n",
    "        EV[i] = val/co"
   ]
  },
  {
   "cell_type": "code",
   "execution_count": 59,
   "id": "2b7b1835-ecf2-4280-b3ac-41aabceb39e6",
   "metadata": {},
   "outputs": [
    {
     "name": "stdout",
     "output_type": "stream",
     "text": [
      "[ 1.00000000e+00 -4.50096173e-17 -1.25000000e-01] [[-5.43600057e-01 -7.07106781e-01  4.08248290e-01]\n",
      " [-6.39529479e-01 -6.96354930e-16 -8.16496581e-01]\n",
      " [-5.43600057e-01  7.07106781e-01  4.08248290e-01]]\n"
     ]
    },
    {
     "data": {
      "text/plain": [
       "array([-0.54360006, -0.63952948, -0.54360006])"
      ]
     },
     "execution_count": 59,
     "metadata": {},
     "output_type": "execute_result"
    }
   ],
   "source": [
    "calculatePageRankUsingEV(G)"
   ]
  },
  {
   "cell_type": "code",
   "execution_count": null,
   "id": "8a0f49ea-4c25-41d8-9ef8-7f11b1b20bc5",
   "metadata": {},
   "outputs": [],
   "source": []
  }
 ],
 "metadata": {
  "kernelspec": {
   "display_name": "Python 3 (ipykernel)",
   "language": "python",
   "name": "python3"
  },
  "language_info": {
   "codemirror_mode": {
    "name": "ipython",
    "version": 3
   },
   "file_extension": ".py",
   "mimetype": "text/x-python",
   "name": "python",
   "nbconvert_exporter": "python",
   "pygments_lexer": "ipython3",
   "version": "3.10.12"
  }
 },
 "nbformat": 4,
 "nbformat_minor": 5
}
