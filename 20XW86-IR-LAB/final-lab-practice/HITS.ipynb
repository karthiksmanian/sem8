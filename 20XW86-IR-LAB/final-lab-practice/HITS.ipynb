{
 "cells": [
  {
   "cell_type": "code",
   "execution_count": 1,
   "id": "0522fe91-81db-4dc2-b304-83277b284598",
   "metadata": {},
   "outputs": [],
   "source": [
    "import numpy as np"
   ]
  },
  {
   "cell_type": "code",
   "execution_count": 19,
   "id": "eb9bedb2-2066-4fa8-97eb-c87aa678ceec",
   "metadata": {},
   "outputs": [],
   "source": [
    "A = [\n",
    "        [0, 1, 1, 1],\n",
    "        [0, 0, 1, 1],\n",
    "        [0, 1, 0, 0],\n",
    "        [1, 0, 1, 0]\n",
    "    ]"
   ]
  },
  {
   "cell_type": "code",
   "execution_count": 20,
   "id": "4af09c1d-8667-439b-b491-3df5b984e780",
   "metadata": {},
   "outputs": [],
   "source": [
    "A = np.array(A)"
   ]
  },
  {
   "cell_type": "code",
   "execution_count": 39,
   "id": "56b1c1b2-e627-4086-b260-5c1a9fe3b6b7",
   "metadata": {},
   "outputs": [],
   "source": [
    "def calculateHITSUsingIteration(a0, h0, A):\n",
    "    itr = 1\n",
    "    hi = np.dot(A, a0)\n",
    "    ai = np.dot(A.T, h0)\n",
    "    hi = np.divide(hi, sum(hi))\n",
    "    ai = np.divide(ai, sum(ai))\n",
    "    max_iters = 100000\n",
    "    \n",
    "    while itr<max_iters:\n",
    "        h0 = hi\n",
    "        a0 = ai\n",
    "        hi = np.dot(A, a0)\n",
    "        ai = np.dot(A.T, h0)\n",
    "        hi = np.divide(hi, sum(hi))\n",
    "        ai = np.divide(ai, sum(ai))\n",
    "        itr += 1\n",
    "\n",
    "        if np.allclose(h0, hi) and np.allclose(a0, ai):\n",
    "            break\n",
    "    \n",
    "    print(f\"Convergence at iteration: {itr}\")\n",
    "    return { \"Authority\": ai, \"Hub\": hi } "
   ]
  },
  {
   "cell_type": "code",
   "execution_count": 40,
   "id": "431e8c4a-f508-4838-9630-a8a21fe619f3",
   "metadata": {},
   "outputs": [],
   "source": [
    "a = [1, 1, 1, 1]\n",
    "b = [1, 1, 1, 1]"
   ]
  },
  {
   "cell_type": "code",
   "execution_count": 41,
   "id": "de307ae0-d51a-4a69-9077-88dba64b8c17",
   "metadata": {},
   "outputs": [
    {
     "name": "stdout",
     "output_type": "stream",
     "text": [
      "Convergence at iteration: 18\n"
     ]
    },
    {
     "data": {
      "text/plain": [
       "{'Authority': array([0.09167341, 0.21110218, 0.39444891, 0.3027755 ]),\n",
       " 'Hub': array([0.39444891, 0.3027755 , 0.09167341, 0.21110218])}"
      ]
     },
     "execution_count": 41,
     "metadata": {},
     "output_type": "execute_result"
    }
   ],
   "source": [
    "calculateHITSUsingIteration(a, b, A)"
   ]
  },
  {
   "cell_type": "code",
   "execution_count": 42,
   "id": "8ee4409a-c1df-4a1b-8ff4-3398cbcb9e29",
   "metadata": {},
   "outputs": [
    {
     "data": {
      "text/plain": [
       "array([3, 2, 1, 2])"
      ]
     },
     "execution_count": 42,
     "metadata": {},
     "output_type": "execute_result"
    }
   ],
   "source": [
    "def calculateHITSUsingEV(A):\n",
    "    w1, v1 = np.linalg.eig(np.dot(A.T, A))\n",
    "    w2, v2 = np.linalg.eig(np.dot(A, A.T))\n",
    "\n",
    "    idx_a = np.argmax(v1)\n",
    "    idx_h = np.argmax(v2)\n",
    "\n",
    "    EV1 = v1[:, idx_a]\n",
    "    EV2 = v2[:, idx_h]\n",
    "\n",
    "    auth_score = np.divide(EV1, np.sum(EV1))\n",
    "    hub_score = np.divide"
   ]
  },
  {
   "cell_type": "code",
   "execution_count": null,
   "id": "82c36f43-c7b2-4083-89ab-4c42ef8a0a2c",
   "metadata": {},
   "outputs": [],
   "source": []
  }
 ],
 "metadata": {
  "kernelspec": {
   "display_name": "Python 3 (ipykernel)",
   "language": "python",
   "name": "python3"
  },
  "language_info": {
   "codemirror_mode": {
    "name": "ipython",
    "version": 3
   },
   "file_extension": ".py",
   "mimetype": "text/x-python",
   "name": "python",
   "nbconvert_exporter": "python",
   "pygments_lexer": "ipython3",
   "version": "3.10.12"
  }
 },
 "nbformat": 4,
 "nbformat_minor": 5
}
