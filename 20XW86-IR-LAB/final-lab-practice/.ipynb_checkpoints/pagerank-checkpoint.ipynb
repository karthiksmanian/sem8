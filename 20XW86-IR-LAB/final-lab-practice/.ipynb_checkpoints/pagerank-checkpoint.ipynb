{
 "cells": [
  {
   "cell_type": "code",
   "execution_count": 2,
   "id": "211c9747-8b7d-4376-a6b5-1e3c381d4615",
   "metadata": {},
   "outputs": [],
   "source": [
    "import pandas as pd\n",
    "import numpy as np"
   ]
  },
  {
   "cell_type": "code",
   "execution_count": 3,
   "id": "beaff285-bfc9-4ca7-8186-92cd357332af",
   "metadata": {},
   "outputs": [],
   "source": [
    "A = [\n",
    "        [0, 1, 0],\n",
    "        [1, 0, 1],\n",
    "        [0, 1, 0]\n",
    "    ]"
   ]
  },
  {
   "cell_type": "code",
   "execution_count": 6,
   "id": "51daa24b-c450-40f7-b43c-97dcfa704898",
   "metadata": {},
   "outputs": [],
   "source": [
    "p0 = [1, 0, 0]"
   ]
  },
  {
   "cell_type": "code",
   "execution_count": 11,
   "id": "21ea5c4b-c12a-4828-8e60-52b163993b66",
   "metadata": {},
   "outputs": [],
   "source": [
    "p1 = np.dot(p0, A)"
   ]
  },
  {
   "cell_type": "code",
   "execution_count": 12,
   "id": "bc698607-3c7a-41d2-b7d0-7eac4c8b12d7",
   "metadata": {},
   "outputs": [],
   "source": [
    "p2 = np.dot(p1, A)"
   ]
  },
  {
   "cell_type": "code",
   "execution_count": 13,
   "id": "cd711d65-cf70-4154-8622-74c976831d84",
   "metadata": {},
   "outputs": [
    {
     "data": {
      "text/plain": [
       "array([2, 0, 2])"
      ]
     },
     "execution_count": 13,
     "metadata": {},
     "output_type": "execute_result"
    }
   ],
   "source": []
  },
  {
   "cell_type": "code",
   "execution_count": null,
   "id": "62763c73-b4cb-49fc-8c8c-87fb4aed53ae",
   "metadata": {},
   "outputs": [],
   "source": []
  }
 ],
 "metadata": {
  "kernelspec": {
   "display_name": "Python 3 (ipykernel)",
   "language": "python",
   "name": "python3"
  },
  "language_info": {
   "codemirror_mode": {
    "name": "ipython",
    "version": 3
   },
   "file_extension": ".py",
   "mimetype": "text/x-python",
   "name": "python",
   "nbconvert_exporter": "python",
   "pygments_lexer": "ipython3",
   "version": "3.10.12"
  }
 },
 "nbformat": 4,
 "nbformat_minor": 5
}
