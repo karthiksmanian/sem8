{
 "cells": [
  {
   "cell_type": "code",
   "execution_count": 1,
   "id": "0522fe91-81db-4dc2-b304-83277b284598",
   "metadata": {},
   "outputs": [],
   "source": [
    "import numpy as np"
   ]
  },
  {
   "cell_type": "code",
   "execution_count": 2,
   "id": "eb9bedb2-2066-4fa8-97eb-c87aa678ceec",
   "metadata": {},
   "outputs": [],
   "source": [
    "A = [\n",
    "        [0, 1, 1, 1],\n",
    "        [0, 0, 1, 1],\n",
    "        [0, 1, 0, 0],\n",
    "        [1, 0, 1, 0]\n",
    "    ]"
   ]
  },
  {
   "cell_type": "code",
   "execution_count": null,
   "id": "56b1c1b2-e627-4086-b260-5c1a9fe3b6b7",
   "metadata": {},
   "outputs": [],
   "source": []
  }
 ],
 "metadata": {
  "kernelspec": {
   "display_name": "Python 3 (ipykernel)",
   "language": "python",
   "name": "python3"
  },
  "language_info": {
   "codemirror_mode": {
    "name": "ipython",
    "version": 3
   },
   "file_extension": ".py",
   "mimetype": "text/x-python",
   "name": "python",
   "nbconvert_exporter": "python",
   "pygments_lexer": "ipython3",
   "version": "3.10.12"
  }
 },
 "nbformat": 4,
 "nbformat_minor": 5
}
