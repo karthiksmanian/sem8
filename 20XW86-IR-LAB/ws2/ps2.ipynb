{
 "cells": [
  {
   "cell_type": "code",
   "execution_count": 1,
   "id": "b9450b15",
   "metadata": {},
   "outputs": [],
   "source": [
    "from sklearn.feature_extraction.text import CountVectorizer\n",
    "\n",
    "docs = [\"information requirement: query considers the user feedback as information requirement to search\",\n",
    "        \"information retrieval: query depends on the model of information retrieval\",\n",
    "        \"prediction problem: Many problems in information retrieval can be viewed as prediction problems\",\n",
    "        \"search: A search engine is one of applications of information retrieval models\"]\n",
    "\n",
    "new_docs = [\"Feedback: feedback is typically used by the system to modify the query and improve prediction\",\n",
    "            \"information retrieval: ranking in information retrieval algorithms depends on user query\"]\n"
   ]
  },
  {
   "cell_type": "markdown",
   "id": "0d763293",
   "metadata": {},
   "source": [
    "1, A) sub_div"
   ]
  },
  {
   "cell_type": "code",
   "execution_count": 2,
   "id": "5c6a4eea",
   "metadata": {},
   "outputs": [],
   "source": [
    "def calculate_binary_distance(vector1, vector2):\n",
    "    l1 = list(vector1)\n",
    "    l2 = list(vector2)\n",
    "    \n",
    "    l1.extend([0]*(len(vector2)-len(vector1)))\n",
    "    \n",
    "    dist = 0\n",
    "    \n",
    "    for x1, x2 in zip(l1, l2):\n",
    "        dist += abs(x1-x2)\n",
    "    \n",
    "    return dist\n",
    "        \n",
    "\n",
    "def check_duplicate(vector, ref_matrix):\n",
    "    for ref_vec in ref_matrix:\n",
    "        if calculate_binary_distance(vector, ref_vec)==0:\n",
    "            return True\n",
    "    \n",
    "    return False"
   ]
  },
  {
   "cell_type": "code",
   "execution_count": 3,
   "id": "5d870e4a",
   "metadata": {},
   "outputs": [],
   "source": [
    "existing_titles = []\n",
    "\n",
    "for doc in docs:\n",
    "    existing_titles.append(doc.split(\":\")[0])\n",
    "\n",
    "doc_titles = []\n",
    "\n",
    "for doc in new_docs:\n",
    "    doc_titles.append(doc.split(\":\")[0])"
   ]
  },
  {
   "cell_type": "code",
   "execution_count": 4,
   "id": "6a285df3",
   "metadata": {},
   "outputs": [
    {
     "data": {
      "text/plain": [
       "['information requirement',\n",
       " 'information retrieval',\n",
       " 'prediction problem',\n",
       " 'search']"
      ]
     },
     "execution_count": 4,
     "metadata": {},
     "output_type": "execute_result"
    }
   ],
   "source": [
    "existing_titles"
   ]
  },
  {
   "cell_type": "code",
   "execution_count": 5,
   "id": "52c337c2",
   "metadata": {},
   "outputs": [
    {
     "data": {
      "text/plain": [
       "['Feedback', 'information retrieval']"
      ]
     },
     "execution_count": 5,
     "metadata": {},
     "output_type": "execute_result"
    }
   ],
   "source": [
    "doc_titles"
   ]
  },
  {
   "cell_type": "code",
   "execution_count": 6,
   "id": "dd68aac8",
   "metadata": {},
   "outputs": [
    {
     "data": {
      "text/plain": [
       "array([[1, 0, 0, 1, 0, 0],\n",
       "       [1, 0, 0, 0, 1, 0],\n",
       "       [0, 1, 1, 0, 0, 0],\n",
       "       [0, 0, 0, 0, 0, 1]], dtype=int64)"
      ]
     },
     "execution_count": 6,
     "metadata": {},
     "output_type": "execute_result"
    }
   ],
   "source": [
    "cv = CountVectorizer()\n",
    "\n",
    "cv.fit(existing_titles)\n",
    "\n",
    "old_matrix = cv.transform(existing_titles).toarray()\n",
    "\n",
    "old_matrix"
   ]
  },
  {
   "cell_type": "code",
   "execution_count": 7,
   "id": "cbae5998",
   "metadata": {},
   "outputs": [
    {
     "data": {
      "text/plain": [
       "array([[1, 0, 0],\n",
       "       [0, 1, 1]], dtype=int64)"
      ]
     },
     "execution_count": 7,
     "metadata": {},
     "output_type": "execute_result"
    }
   ],
   "source": [
    "cv2 = CountVectorizer()\n",
    "\n",
    "cv2.fit(doc_titles)\n",
    "\n",
    "doc_matrix = cv2.transform(doc_titles).toarray()\n",
    "\n",
    "doc_matrix"
   ]
  },
  {
   "cell_type": "code",
   "execution_count": 8,
   "id": "ecfd2c4c",
   "metadata": {},
   "outputs": [
    {
     "name": "stdout",
     "output_type": "stream",
     "text": [
      "information retrieval is an existing title.\n"
     ]
    }
   ],
   "source": [
    "for i in range(len(doc_titles)):\n",
    "    if check_duplicate(doc_matrix[i], old_matrix):\n",
    "        print(f\"{doc_titles[i]} is an existing title.\")"
   ]
  },
  {
   "cell_type": "code",
   "execution_count": null,
   "id": "cc48bbd8",
   "metadata": {},
   "outputs": [],
   "source": []
  }
 ],
 "metadata": {
  "kernelspec": {
   "display_name": "Python 3 (ipykernel)",
   "language": "python",
   "name": "python3"
  },
  "language_info": {
   "codemirror_mode": {
    "name": "ipython",
    "version": 3
   },
   "file_extension": ".py",
   "mimetype": "text/x-python",
   "name": "python",
   "nbconvert_exporter": "python",
   "pygments_lexer": "ipython3",
   "version": "3.11.5"
  }
 },
 "nbformat": 4,
 "nbformat_minor": 5
}
