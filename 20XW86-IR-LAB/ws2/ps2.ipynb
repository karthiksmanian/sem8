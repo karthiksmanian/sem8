{
 "cells": [
  {
   "cell_type": "markdown",
   "id": "2ef3559b",
   "metadata": {},
   "source": [
    "# PS2 Plagiarism Detector"
   ]
  },
  {
   "cell_type": "code",
   "execution_count": 8,
   "id": "b9450b15",
   "metadata": {},
   "outputs": [],
   "source": [
    "docs = [\"information requirement: query considers the user feedback as information requirement to search\",\n",
    "        \"information retrieval: query depends on the model of information retrieval\",\n",
    "        \"prediction problem: Many problems in information retrieval can be viewed as prediction problems\",\n",
    "        \"search: A search engine is one of applications of information retrieval models\"]\n",
    "\n",
    "new_docs = [\"Feedback: feedback is typically used by the system to modify the query and improve prediction\",\n",
    "            \"information retrieval: ranking in information retrieval algorithms depends on user query\"]\n"
   ]
  },
  {
   "cell_type": "markdown",
   "id": "0d763293",
   "metadata": {},
   "source": [
    "1, A) sub_div"
   ]
  },
  {
   "cell_type": "code",
   "execution_count": 21,
   "id": "5c6a4eea",
   "metadata": {},
   "outputs": [],
   "source": [
    "def calculate_binary_distance(vector1, vector2):\n",
    "    dist = 0\n",
    "    \n",
    "    for x1, x2 in zip(vector1, vector2):\n",
    "        dist += abs(x1-x2)\n",
    "    \n",
    "    return dist\n",
    "        \n",
    "\n",
    "def check_duplicate(vector, ref_matrix):\n",
    "    for ref_vec in ref_matrix:\n",
    "        if calculate_binary_distance(vector, ref_vec)==0:\n",
    "            return True\n",
    "    \n",
    "    return False"
   ]
  },
  {
   "cell_type": "code",
   "execution_count": 10,
   "id": "5d870e4a",
   "metadata": {},
   "outputs": [],
   "source": [
    "existing_titles = []\n",
    "\n",
    "for doc in docs:\n",
    "    existing_titles.append(doc.split(\":\")[0])\n",
    "\n",
    "new_titles = []\n",
    "\n",
    "for doc in new_docs:\n",
    "    new_titles.append(doc.split(\":\")[0])"
   ]
  },
  {
   "cell_type": "code",
   "execution_count": 11,
   "id": "6a285df3",
   "metadata": {},
   "outputs": [
    {
     "data": {
      "text/plain": [
       "['information requirement',\n",
       " 'information retrieval',\n",
       " 'prediction problem',\n",
       " 'search']"
      ]
     },
     "execution_count": 11,
     "metadata": {},
     "output_type": "execute_result"
    }
   ],
   "source": [
    "existing_titles"
   ]
  },
  {
   "cell_type": "code",
   "execution_count": 12,
   "id": "52c337c2",
   "metadata": {},
   "outputs": [
    {
     "data": {
      "text/plain": [
       "['Feedback', 'information retrieval']"
      ]
     },
     "execution_count": 12,
     "metadata": {},
     "output_type": "execute_result"
    }
   ],
   "source": [
    "new_titles"
   ]
  },
  {
   "cell_type": "code",
   "execution_count": 16,
   "id": "dd68aac8",
   "metadata": {},
   "outputs": [
    {
     "data": {
      "text/plain": [
       "[[1, 1, 0, 0, 0, 0],\n",
       " [1, 0, 1, 0, 0, 0],\n",
       " [0, 0, 0, 1, 1, 0],\n",
       " [0, 0, 0, 0, 0, 1]]"
      ]
     },
     "execution_count": 16,
     "metadata": {},
     "output_type": "execute_result"
    }
   ],
   "source": [
    "doc_map = {}\n",
    "\n",
    "for title in existing_titles:\n",
    "    for word in title.split():\n",
    "        if word in doc_map:\n",
    "            doc_map[word] += 1\n",
    "        else:\n",
    "            doc_map[word] = 1\n",
    "\n",
    "doc_matrix = []\n",
    "\n",
    "for title in existing_titles:\n",
    "    vector = [0]*len(doc_map)\n",
    "    \n",
    "    for word in title.split():\n",
    "        if word in doc_map:\n",
    "            index = list(doc_map.keys()).index(word)\n",
    "            vector[index] = 1\n",
    "    \n",
    "    doc_matrix.append(vector)\n",
    "    \n",
    "doc_matrix"
   ]
  },
  {
   "cell_type": "code",
   "execution_count": 18,
   "id": "cbae5998",
   "metadata": {},
   "outputs": [
    {
     "data": {
      "text/plain": [
       "[[0, 0, 0, 0, 0, 0], [1, 0, 1, 0, 0, 0]]"
      ]
     },
     "execution_count": 18,
     "metadata": {},
     "output_type": "execute_result"
    }
   ],
   "source": [
    "new_matrix = []\n",
    "\n",
    "for title in new_titles:\n",
    "    vector = [0]*len(doc_map)\n",
    "    \n",
    "    for word in title.split():\n",
    "        if word in doc_map:\n",
    "            index = list(doc_map.keys()).index(word)\n",
    "            vector[index] = 1\n",
    "    \n",
    "    new_matrix.append(vector)\n",
    "    \n",
    "new_matrix"
   ]
  },
  {
   "cell_type": "code",
   "execution_count": 22,
   "id": "ecfd2c4c",
   "metadata": {},
   "outputs": [
    {
     "name": "stdout",
     "output_type": "stream",
     "text": [
      "information retrieval is an existing title.\n"
     ]
    }
   ],
   "source": [
    "for i in range(len(doc_titles)):\n",
    "    if check_duplicate(new_matrix[i], doc_matrix):\n",
    "        print(f\"{doc_titles[i]} is an existing title.\")"
   ]
  },
  {
   "cell_type": "markdown",
   "id": "8cba0ff5",
   "metadata": {},
   "source": [
    "1) B subdiv"
   ]
  },
  {
   "cell_type": "code",
   "execution_count": 31,
   "id": "3f5d371d",
   "metadata": {},
   "outputs": [],
   "source": [
    "import nltk\n",
    "# nltk.download('stopwords')\n",
    "# nltk.download('punkt')"
   ]
  },
  {
   "cell_type": "code",
   "execution_count": 24,
   "id": "4d547922",
   "metadata": {},
   "outputs": [],
   "source": [
    "from nltk.stem.porter import PorterStemmer\n",
    "ps = PorterStemmer()"
   ]
  },
  {
   "cell_type": "code",
   "execution_count": 29,
   "id": "a7c2d6a1",
   "metadata": {},
   "outputs": [],
   "source": [
    "def transform_text(td):\n",
    "    td = td.lower()\n",
    "    td = nltk.word_tokenize(td)\n",
    "    \n",
    "    y = []\n",
    "    \n",
    "    for word in td:\n",
    "        if word not in nltk.corpus.stopwords.words('english'):\n",
    "            y.append(word)\n",
    "    \n",
    "    text = y[:]\n",
    "    y = []\n",
    "    \n",
    "    for word in td:\n",
    "        y.append(ps.stem(word))\n",
    "        \n",
    "    return \" \".join(y)"
   ]
  },
  {
   "cell_type": "code",
   "execution_count": 32,
   "id": "b39db99a",
   "metadata": {},
   "outputs": [
    {
     "data": {
      "text/plain": [
       "['query considers the user feedback as information requirement to search',\n",
       " 'query depends on the model of information retrieval',\n",
       " 'Many problems in information retrieval can be viewed as prediction problems',\n",
       " 'A search engine is one of applications of information retrieval models']"
      ]
     },
     "execution_count": 32,
     "metadata": {},
     "output_type": "execute_result"
    }
   ],
   "source": [
    "term_documents = []\n",
    "\n",
    "for doc in docs:\n",
    "    term_documents.append(doc.split(\": \")[1])\n",
    "\n",
    "term_documents"
   ]
  },
  {
   "cell_type": "code",
   "execution_count": 33,
   "id": "ce205c84",
   "metadata": {},
   "outputs": [
    {
     "data": {
      "text/plain": [
       "['queri consid the user feedback as inform requir to search',\n",
       " 'queri depend on the model of inform retriev',\n",
       " 'mani problem in inform retriev can be view as predict problem',\n",
       " 'a search engin is one of applic of inform retriev model']"
      ]
     },
     "execution_count": 33,
     "metadata": {},
     "output_type": "execute_result"
    }
   ],
   "source": [
    "processed_docs = []\n",
    "\n",
    "for doc in term_documents:\n",
    "    processed_docs.append(transform_text(doc))\n",
    "    \n",
    "processed_docs"
   ]
  },
  {
   "cell_type": "code",
   "execution_count": 34,
   "id": "b4a77b7c",
   "metadata": {},
   "outputs": [
    {
     "data": {
      "text/plain": [
       "{'queri': 2,\n",
       " 'consid': 1,\n",
       " 'the': 2,\n",
       " 'user': 1,\n",
       " 'feedback': 1,\n",
       " 'as': 2,\n",
       " 'inform': 4,\n",
       " 'requir': 1,\n",
       " 'to': 1,\n",
       " 'search': 2,\n",
       " 'depend': 1,\n",
       " 'on': 1,\n",
       " 'model': 2,\n",
       " 'of': 3,\n",
       " 'retriev': 3,\n",
       " 'mani': 1,\n",
       " 'problem': 2,\n",
       " 'in': 1,\n",
       " 'can': 1,\n",
       " 'be': 1,\n",
       " 'view': 1,\n",
       " 'predict': 1,\n",
       " 'a': 1,\n",
       " 'engin': 1,\n",
       " 'is': 1,\n",
       " 'one': 1,\n",
       " 'applic': 1}"
      ]
     },
     "execution_count": 34,
     "metadata": {},
     "output_type": "execute_result"
    }
   ],
   "source": [
    "doc_map = {}\n",
    "\n",
    "for doc in processed_docs:\n",
    "    for word in doc.split():\n",
    "        if word in doc_map:\n",
    "            doc_map[word] += 1\n",
    "        else:\n",
    "            doc_map[word] = 1\n",
    "\n",
    "doc_map"
   ]
  },
  {
   "cell_type": "code",
   "execution_count": null,
   "id": "f9b23677",
   "metadata": {},
   "outputs": [],
   "source": []
  }
 ],
 "metadata": {
  "kernelspec": {
   "display_name": "Python 3 (ipykernel)",
   "language": "python",
   "name": "python3"
  },
  "language_info": {
   "codemirror_mode": {
    "name": "ipython",
    "version": 3
   },
   "file_extension": ".py",
   "mimetype": "text/x-python",
   "name": "python",
   "nbconvert_exporter": "python",
   "pygments_lexer": "ipython3",
   "version": "3.11.5"
  }
 },
 "nbformat": 4,
 "nbformat_minor": 5
}
