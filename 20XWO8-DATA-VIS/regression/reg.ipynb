{
 "cells": [
  {
   "cell_type": "code",
   "execution_count": 7,
   "id": "3379ab34",
   "metadata": {},
   "outputs": [],
   "source": [
    "import pandas as pd"
   ]
  },
  {
   "cell_type": "code",
   "execution_count": 8,
   "id": "4ad27648",
   "metadata": {},
   "outputs": [],
   "source": [
    "df = pd.read_csv(\"INFY.csv\")"
   ]
  },
  {
   "cell_type": "code",
   "execution_count": 9,
   "id": "4b6f47c3",
   "metadata": {},
   "outputs": [
    {
     "data": {
      "text/html": [
       "<div>\n",
       "<style scoped>\n",
       "    .dataframe tbody tr th:only-of-type {\n",
       "        vertical-align: middle;\n",
       "    }\n",
       "\n",
       "    .dataframe tbody tr th {\n",
       "        vertical-align: top;\n",
       "    }\n",
       "\n",
       "    .dataframe thead th {\n",
       "        text-align: right;\n",
       "    }\n",
       "</style>\n",
       "<table border=\"1\" class=\"dataframe\">\n",
       "  <thead>\n",
       "    <tr style=\"text-align: right;\">\n",
       "      <th></th>\n",
       "      <th>Date</th>\n",
       "      <th>Open</th>\n",
       "      <th>High</th>\n",
       "      <th>Low</th>\n",
       "      <th>Close</th>\n",
       "      <th>Adj Close</th>\n",
       "      <th>Volume</th>\n",
       "    </tr>\n",
       "  </thead>\n",
       "  <tbody>\n",
       "    <tr>\n",
       "      <th>0</th>\n",
       "      <td>2023-03-01</td>\n",
       "      <td>18.090000</td>\n",
       "      <td>18.340000</td>\n",
       "      <td>16.59</td>\n",
       "      <td>17.440001</td>\n",
       "      <td>16.985748</td>\n",
       "      <td>202779500</td>\n",
       "    </tr>\n",
       "    <tr>\n",
       "      <th>1</th>\n",
       "      <td>2023-04-01</td>\n",
       "      <td>17.209999</td>\n",
       "      <td>17.799999</td>\n",
       "      <td>14.71</td>\n",
       "      <td>15.540000</td>\n",
       "      <td>15.135237</td>\n",
       "      <td>274439400</td>\n",
       "    </tr>\n",
       "    <tr>\n",
       "      <th>2</th>\n",
       "      <td>2023-05-01</td>\n",
       "      <td>15.500000</td>\n",
       "      <td>16.010000</td>\n",
       "      <td>14.98</td>\n",
       "      <td>15.960000</td>\n",
       "      <td>15.544298</td>\n",
       "      <td>220384200</td>\n",
       "    </tr>\n",
       "    <tr>\n",
       "      <th>3</th>\n",
       "      <td>2023-06-01</td>\n",
       "      <td>15.790000</td>\n",
       "      <td>16.260000</td>\n",
       "      <td>15.12</td>\n",
       "      <td>16.070000</td>\n",
       "      <td>15.651432</td>\n",
       "      <td>214352700</td>\n",
       "    </tr>\n",
       "    <tr>\n",
       "      <th>4</th>\n",
       "      <td>2023-07-01</td>\n",
       "      <td>16.190001</td>\n",
       "      <td>18.139999</td>\n",
       "      <td>15.33</td>\n",
       "      <td>16.660000</td>\n",
       "      <td>16.445545</td>\n",
       "      <td>248022100</td>\n",
       "    </tr>\n",
       "  </tbody>\n",
       "</table>\n",
       "</div>"
      ],
      "text/plain": [
       "         Date       Open       High    Low      Close  Adj Close     Volume\n",
       "0  2023-03-01  18.090000  18.340000  16.59  17.440001  16.985748  202779500\n",
       "1  2023-04-01  17.209999  17.799999  14.71  15.540000  15.135237  274439400\n",
       "2  2023-05-01  15.500000  16.010000  14.98  15.960000  15.544298  220384200\n",
       "3  2023-06-01  15.790000  16.260000  15.12  16.070000  15.651432  214352700\n",
       "4  2023-07-01  16.190001  18.139999  15.33  16.660000  16.445545  248022100"
      ]
     },
     "execution_count": 9,
     "metadata": {},
     "output_type": "execute_result"
    }
   ],
   "source": [
    "df.head()"
   ]
  },
  {
   "cell_type": "code",
   "execution_count": 10,
   "id": "0eadf23a",
   "metadata": {},
   "outputs": [],
   "source": [
    "xdf = df['Date']"
   ]
  },
  {
   "cell_type": "code",
   "execution_count": 12,
   "id": "49f388ae",
   "metadata": {},
   "outputs": [],
   "source": [
    "ydf = df['Close']"
   ]
  },
  {
   "cell_type": "code",
   "execution_count": null,
   "id": "c0d30b9b",
   "metadata": {},
   "outputs": [],
   "source": []
  }
 ],
 "metadata": {
  "kernelspec": {
   "display_name": "Python 3 (ipykernel)",
   "language": "python",
   "name": "python3"
  },
  "language_info": {
   "codemirror_mode": {
    "name": "ipython",
    "version": 3
   },
   "file_extension": ".py",
   "mimetype": "text/x-python",
   "name": "python",
   "nbconvert_exporter": "python",
   "pygments_lexer": "ipython3",
   "version": "3.11.5"
  }
 },
 "nbformat": 4,
 "nbformat_minor": 5
}
